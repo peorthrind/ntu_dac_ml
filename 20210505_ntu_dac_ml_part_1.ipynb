{
 "cells": [
  {
   "cell_type": "markdown",
   "id": "chemical-packaging",
   "metadata": {},
   "source": [
    "# Machine learning, a tutorial, part I"
   ]
  },
  {
   "cell_type": "markdown",
   "id": "younger-radiation",
   "metadata": {},
   "source": [
    "## 1-0 Sunmary\n",
    "In this tutorial, a dataset about Melbourne Housing is being used.\n",
    "The goal is building good machine learning models to PREDITCT HOUSE PRICE.\n"
   ]
  },
  {
   "cell_type": "markdown",
   "id": "dried-pilot",
   "metadata": {},
   "source": [
    "## 1-1: What is machine learning?"
   ]
  },
  {
   "cell_type": "markdown",
   "id": "current-cable",
   "metadata": {},
   "source": [
    "## 1-2: Data type and a quick trip"
   ]
  },
  {
   "cell_type": "code",
   "execution_count": 1,
   "id": "cosmetic-reporter",
   "metadata": {},
   "outputs": [],
   "source": [
    "## import packages\n",
    "import pandas as pd\n",
    "\n",
    "## some setting for better reading experience\n",
    "from IPython.display import display\n",
    "pd.options.display.max_columns = None\n",
    "pd.set_option('display.float_format', lambda x: '%.4f' % x)\n",
    "\n",
    "##  \n",
    "randomState = 274"
   ]
  },
  {
   "cell_type": "code",
   "execution_count": 2,
   "id": "worth-gender",
   "metadata": {},
   "outputs": [
    {
     "data": {
      "text/html": [
       "<div>\n",
       "<style scoped>\n",
       "    .dataframe tbody tr th:only-of-type {\n",
       "        vertical-align: middle;\n",
       "    }\n",
       "\n",
       "    .dataframe tbody tr th {\n",
       "        vertical-align: top;\n",
       "    }\n",
       "\n",
       "    .dataframe thead th {\n",
       "        text-align: right;\n",
       "    }\n",
       "</style>\n",
       "<table border=\"1\" class=\"dataframe\">\n",
       "  <thead>\n",
       "    <tr style=\"text-align: right;\">\n",
       "      <th></th>\n",
       "      <th>Suburb</th>\n",
       "      <th>Address</th>\n",
       "      <th>Rooms</th>\n",
       "      <th>Type</th>\n",
       "      <th>Price</th>\n",
       "      <th>Method</th>\n",
       "      <th>SellerG</th>\n",
       "      <th>Date</th>\n",
       "      <th>Distance</th>\n",
       "      <th>Postcode</th>\n",
       "      <th>Bedroom2</th>\n",
       "      <th>Bathroom</th>\n",
       "      <th>Car</th>\n",
       "      <th>Landsize</th>\n",
       "      <th>BuildingArea</th>\n",
       "      <th>YearBuilt</th>\n",
       "      <th>CouncilArea</th>\n",
       "      <th>Lattitude</th>\n",
       "      <th>Longtitude</th>\n",
       "      <th>Regionname</th>\n",
       "      <th>Propertycount</th>\n",
       "    </tr>\n",
       "  </thead>\n",
       "  <tbody>\n",
       "    <tr>\n",
       "      <th>0</th>\n",
       "      <td>Reservoir</td>\n",
       "      <td>19 Lucille Av</td>\n",
       "      <td>3</td>\n",
       "      <td>h</td>\n",
       "      <td>775500.0000</td>\n",
       "      <td>S</td>\n",
       "      <td>Ray</td>\n",
       "      <td>19/08/2017</td>\n",
       "      <td>12.0000</td>\n",
       "      <td>3073.0000</td>\n",
       "      <td>3.0000</td>\n",
       "      <td>1.0000</td>\n",
       "      <td>3.0000</td>\n",
       "      <td>586.0000</td>\n",
       "      <td>120.0000</td>\n",
       "      <td>1960.0000</td>\n",
       "      <td>NaN</td>\n",
       "      <td>-37.6998</td>\n",
       "      <td>145.0220</td>\n",
       "      <td>Northern Metropolitan</td>\n",
       "      <td>21650.0000</td>\n",
       "    </tr>\n",
       "    <tr>\n",
       "      <th>1</th>\n",
       "      <td>Moonee Ponds</td>\n",
       "      <td>184 Maribyrnong Rd</td>\n",
       "      <td>3</td>\n",
       "      <td>h</td>\n",
       "      <td>1375000.0000</td>\n",
       "      <td>S</td>\n",
       "      <td>Brad</td>\n",
       "      <td>24/06/2017</td>\n",
       "      <td>6.2000</td>\n",
       "      <td>3039.0000</td>\n",
       "      <td>3.0000</td>\n",
       "      <td>1.0000</td>\n",
       "      <td>1.0000</td>\n",
       "      <td>449.0000</td>\n",
       "      <td>NaN</td>\n",
       "      <td>NaN</td>\n",
       "      <td>Moonee Valley</td>\n",
       "      <td>-37.7711</td>\n",
       "      <td>144.9116</td>\n",
       "      <td>Western Metropolitan</td>\n",
       "      <td>6232.0000</td>\n",
       "    </tr>\n",
       "    <tr>\n",
       "      <th>2</th>\n",
       "      <td>Fitzroy North</td>\n",
       "      <td>264 Barkly St</td>\n",
       "      <td>3</td>\n",
       "      <td>h</td>\n",
       "      <td>1600000.0000</td>\n",
       "      <td>S</td>\n",
       "      <td>Collins</td>\n",
       "      <td>25/02/2017</td>\n",
       "      <td>3.5000</td>\n",
       "      <td>3068.0000</td>\n",
       "      <td>3.0000</td>\n",
       "      <td>1.0000</td>\n",
       "      <td>0.0000</td>\n",
       "      <td>370.0000</td>\n",
       "      <td>NaN</td>\n",
       "      <td>NaN</td>\n",
       "      <td>Yarra</td>\n",
       "      <td>-37.7794</td>\n",
       "      <td>144.9892</td>\n",
       "      <td>Northern Metropolitan</td>\n",
       "      <td>6244.0000</td>\n",
       "    </tr>\n",
       "    <tr>\n",
       "      <th>3</th>\n",
       "      <td>Point Cook</td>\n",
       "      <td>38 Yuruga Bvd</td>\n",
       "      <td>4</td>\n",
       "      <td>h</td>\n",
       "      <td>635000.0000</td>\n",
       "      <td>S</td>\n",
       "      <td>hockingstuart</td>\n",
       "      <td>16/09/2017</td>\n",
       "      <td>14.7000</td>\n",
       "      <td>3030.0000</td>\n",
       "      <td>4.0000</td>\n",
       "      <td>2.0000</td>\n",
       "      <td>2.0000</td>\n",
       "      <td>334.0000</td>\n",
       "      <td>244.0000</td>\n",
       "      <td>2000.0000</td>\n",
       "      <td>NaN</td>\n",
       "      <td>-37.9058</td>\n",
       "      <td>144.7486</td>\n",
       "      <td>Western Metropolitan</td>\n",
       "      <td>15542.0000</td>\n",
       "    </tr>\n",
       "    <tr>\n",
       "      <th>4</th>\n",
       "      <td>Bentleigh</td>\n",
       "      <td>4a Rosina St</td>\n",
       "      <td>4</td>\n",
       "      <td>t</td>\n",
       "      <td>1247000.0000</td>\n",
       "      <td>S</td>\n",
       "      <td>hockingstuart</td>\n",
       "      <td>15/10/2016</td>\n",
       "      <td>13.0000</td>\n",
       "      <td>3204.0000</td>\n",
       "      <td>4.0000</td>\n",
       "      <td>2.0000</td>\n",
       "      <td>3.0000</td>\n",
       "      <td>354.0000</td>\n",
       "      <td>255.0000</td>\n",
       "      <td>2008.0000</td>\n",
       "      <td>Glen Eira</td>\n",
       "      <td>-37.9326</td>\n",
       "      <td>145.0441</td>\n",
       "      <td>Southern Metropolitan</td>\n",
       "      <td>6795.0000</td>\n",
       "    </tr>\n",
       "  </tbody>\n",
       "</table>\n",
       "</div>"
      ],
      "text/plain": [
       "          Suburb             Address  Rooms Type        Price Method  \\\n",
       "0      Reservoir       19 Lucille Av      3    h  775500.0000      S   \n",
       "1   Moonee Ponds  184 Maribyrnong Rd      3    h 1375000.0000      S   \n",
       "2  Fitzroy North       264 Barkly St      3    h 1600000.0000      S   \n",
       "3     Point Cook       38 Yuruga Bvd      4    h  635000.0000      S   \n",
       "4      Bentleigh        4a Rosina St      4    t 1247000.0000      S   \n",
       "\n",
       "         SellerG        Date  Distance  Postcode  Bedroom2  Bathroom    Car  \\\n",
       "0            Ray  19/08/2017   12.0000 3073.0000    3.0000    1.0000 3.0000   \n",
       "1           Brad  24/06/2017    6.2000 3039.0000    3.0000    1.0000 1.0000   \n",
       "2        Collins  25/02/2017    3.5000 3068.0000    3.0000    1.0000 0.0000   \n",
       "3  hockingstuart  16/09/2017   14.7000 3030.0000    4.0000    2.0000 2.0000   \n",
       "4  hockingstuart  15/10/2016   13.0000 3204.0000    4.0000    2.0000 3.0000   \n",
       "\n",
       "   Landsize  BuildingArea  YearBuilt    CouncilArea  Lattitude  Longtitude  \\\n",
       "0  586.0000      120.0000  1960.0000            NaN   -37.6998    145.0220   \n",
       "1  449.0000           NaN        NaN  Moonee Valley   -37.7711    144.9116   \n",
       "2  370.0000           NaN        NaN          Yarra   -37.7794    144.9892   \n",
       "3  334.0000      244.0000  2000.0000            NaN   -37.9058    144.7486   \n",
       "4  354.0000      255.0000  2008.0000      Glen Eira   -37.9326    145.0441   \n",
       "\n",
       "              Regionname  Propertycount  \n",
       "0  Northern Metropolitan     21650.0000  \n",
       "1   Western Metropolitan      6232.0000  \n",
       "2  Northern Metropolitan      6244.0000  \n",
       "3   Western Metropolitan     15542.0000  \n",
       "4  Southern Metropolitan      6795.0000  "
      ]
     },
     "execution_count": 2,
     "metadata": {},
     "output_type": "execute_result"
    }
   ],
   "source": [
    "## read data \n",
    "melb = pd.read_csv(\"data/melb_data.csv\").sample(frac=1, random_state=randomState).reset_index(drop=True)\n",
    "\n",
    "## a quick peek\n",
    "melb.head()"
   ]
  },
  {
   "cell_type": "markdown",
   "id": "stupid-rhythm",
   "metadata": {},
   "source": [
    "### Notes on Specific Variables\n",
    "\n",
    "* Rooms: Number of rooms\n",
    "\n",
    "* Price: Price in dollars\n",
    "\n",
    "* Method: S - property sold; SP - property sold prior; PI - property passed in; PN - sold prior not disclosed; SN - sold not disclosed; NB - no bid; VB - vendor bid; W - withdrawn prior to auction; SA - sold after auction; SS - sold after auction price not disclosed. N/A - price or highest bid not available.\n",
    "\n",
    "* Type: br - bedroom(s); h - house,cottage,villa, semi,terrace; u - unit, duplex; t - townhouse; dev site - development site; o res - other residential.\n",
    "\n",
    "* SellerG: Real Estate Agent\n",
    "\n",
    "* Date: Date sold\n",
    "\n",
    "* Distance: Distance from CBD\n",
    "\n",
    "* Regionname: General Region (West, North West, North, North east …etc)\n",
    "\n",
    "* Propertycount: Number of properties that exist in the suburb.\n",
    "\n",
    "* Bedroom2 : Scraped # of Bedrooms (from different source)\n",
    "\n",
    "* Bathroom: Number of Bathrooms\n",
    "\n",
    "* Car: Number of carspots\n",
    "\n",
    "* Landsize: Land Size\n",
    "\n",
    "* BuildingArea: Building Size\n",
    "\n",
    "* CouncilArea: Governing council for the area\n",
    "\n"
   ]
  },
  {
   "cell_type": "code",
   "execution_count": 3,
   "id": "apart-romantic",
   "metadata": {},
   "outputs": [
    {
     "data": {
      "text/plain": [
       "Suburb            object\n",
       "Address           object\n",
       "Rooms              int64\n",
       "Type              object\n",
       "Price            float64\n",
       "Method            object\n",
       "SellerG           object\n",
       "Date              object\n",
       "Distance         float64\n",
       "Postcode         float64\n",
       "Bedroom2         float64\n",
       "Bathroom         float64\n",
       "Car              float64\n",
       "Landsize         float64\n",
       "BuildingArea     float64\n",
       "YearBuilt        float64\n",
       "CouncilArea       object\n",
       "Lattitude        float64\n",
       "Longtitude       float64\n",
       "Regionname        object\n",
       "Propertycount    float64\n",
       "dtype: object"
      ]
     },
     "execution_count": 3,
     "metadata": {},
     "output_type": "execute_result"
    }
   ],
   "source": [
    "## data types in machine learning (or statistics)\n",
    "## https://en.wikipedia.org/wiki/Statistical_data_type\n",
    "\n",
    "## data types in python(pandas) \n",
    "## object ~ categorical\n",
    "## float/int ~ numeric\n",
    "melb.dtypes\n"
   ]
  },
  {
   "cell_type": "markdown",
   "id": "suburban-salad",
   "metadata": {},
   "source": [
    "### Categorical variable: Date"
   ]
  },
  {
   "cell_type": "code",
   "execution_count": 4,
   "id": "novel-latter",
   "metadata": {},
   "outputs": [
    {
     "name": "stdout",
     "output_type": "stream",
     "text": [
      "Date in first row: 19/08/2017 \n",
      "Date in second row 24/06/2017\n"
     ]
    },
    {
     "ename": "TypeError",
     "evalue": "unsupported operand type(s) for -: 'str' and 'str'",
     "output_type": "error",
     "traceback": [
      "\u001b[0;31m---------------------------------------------------------------------------\u001b[0m",
      "\u001b[0;31mTypeError\u001b[0m                                 Traceback (most recent call last)",
      "\u001b[0;32m<ipython-input-4-52c2f705a3c9>\u001b[0m in \u001b[0;36m<module>\u001b[0;34m\u001b[0m\n\u001b[1;32m      4\u001b[0m \u001b[0;31m## it's obvious to us that subtraction between two dates is reasonable\u001b[0m\u001b[0;34m\u001b[0m\u001b[0;34m\u001b[0m\u001b[0;34m\u001b[0m\u001b[0m\n\u001b[1;32m      5\u001b[0m \u001b[0;31m## try to calculate day_diff.....\u001b[0m\u001b[0;34m\u001b[0m\u001b[0;34m\u001b[0m\u001b[0;34m\u001b[0m\u001b[0m\n\u001b[0;32m----> 6\u001b[0;31m \u001b[0mprint\u001b[0m\u001b[0;34m(\u001b[0m\u001b[0mmelb\u001b[0m\u001b[0;34m.\u001b[0m\u001b[0mDate\u001b[0m\u001b[0;34m[\u001b[0m\u001b[0;36m0\u001b[0m\u001b[0;34m]\u001b[0m \u001b[0;34m-\u001b[0m \u001b[0mmelb\u001b[0m\u001b[0;34m.\u001b[0m\u001b[0mDate\u001b[0m\u001b[0;34m[\u001b[0m\u001b[0;36m1\u001b[0m\u001b[0;34m]\u001b[0m\u001b[0;34m)\u001b[0m\u001b[0;34m\u001b[0m\u001b[0;34m\u001b[0m\u001b[0m\n\u001b[0m\u001b[1;32m      7\u001b[0m \u001b[0;34m\u001b[0m\u001b[0m\n",
      "\u001b[0;31mTypeError\u001b[0m: unsupported operand type(s) for -: 'str' and 'str'"
     ]
    }
   ],
   "source": [
    "## the operations can be applied on object/float are different\n",
    "print(\"Date in first row:\" ,melb.Date[0], \"\\nDate in second row\",melb.Date[1])\n",
    "\n",
    "## it's obvious to us that subtraction between two dates is reasonable\n",
    "## try to calculate day_diff.....\n",
    "print(melb.Date[0] - melb.Date[1])\n",
    "\n"
   ]
  },
  {
   "cell_type": "code",
   "execution_count": 5,
   "id": "stuck-monte",
   "metadata": {},
   "outputs": [
    {
     "data": {
      "text/plain": [
       "Date                        object\n",
       "Date_in_datetime    datetime64[ns]\n",
       "dtype: object"
      ]
     },
     "execution_count": 5,
     "metadata": {},
     "output_type": "execute_result"
    }
   ],
   "source": [
    "## into datetime format\n",
    "melb[\"Date_in_datetime\"] = pd.to_datetime(melb.Date)\n",
    "\n",
    "## the data types of two version of date are different\n",
    "## the later is actually numeric \n",
    "melb[[\"Date\", \"Date_in_datetime\"]].head().dtypes\n"
   ]
  },
  {
   "cell_type": "code",
   "execution_count": 6,
   "id": "billion-voltage",
   "metadata": {},
   "outputs": [
    {
     "data": {
      "text/html": [
       "<div>\n",
       "<style scoped>\n",
       "    .dataframe tbody tr th:only-of-type {\n",
       "        vertical-align: middle;\n",
       "    }\n",
       "\n",
       "    .dataframe tbody tr th {\n",
       "        vertical-align: top;\n",
       "    }\n",
       "\n",
       "    .dataframe thead th {\n",
       "        text-align: right;\n",
       "    }\n",
       "</style>\n",
       "<table border=\"1\" class=\"dataframe\">\n",
       "  <thead>\n",
       "    <tr style=\"text-align: right;\">\n",
       "      <th></th>\n",
       "      <th>Date</th>\n",
       "      <th>Date_in_datetime</th>\n",
       "    </tr>\n",
       "  </thead>\n",
       "  <tbody>\n",
       "    <tr>\n",
       "      <th>0</th>\n",
       "      <td>19/08/2017</td>\n",
       "      <td>2017-08-19</td>\n",
       "    </tr>\n",
       "    <tr>\n",
       "      <th>1</th>\n",
       "      <td>24/06/2017</td>\n",
       "      <td>2017-06-24</td>\n",
       "    </tr>\n",
       "    <tr>\n",
       "      <th>2</th>\n",
       "      <td>25/02/2017</td>\n",
       "      <td>2017-02-25</td>\n",
       "    </tr>\n",
       "    <tr>\n",
       "      <th>3</th>\n",
       "      <td>16/09/2017</td>\n",
       "      <td>2017-09-16</td>\n",
       "    </tr>\n",
       "    <tr>\n",
       "      <th>4</th>\n",
       "      <td>15/10/2016</td>\n",
       "      <td>2016-10-15</td>\n",
       "    </tr>\n",
       "  </tbody>\n",
       "</table>\n",
       "</div>"
      ],
      "text/plain": [
       "         Date Date_in_datetime\n",
       "0  19/08/2017       2017-08-19\n",
       "1  24/06/2017       2017-06-24\n",
       "2  25/02/2017       2017-02-25\n",
       "3  16/09/2017       2017-09-16\n",
       "4  15/10/2016       2016-10-15"
      ]
     },
     "execution_count": 6,
     "metadata": {},
     "output_type": "execute_result"
    }
   ],
   "source": [
    "## Date_in_datetime is well-formated (wrapped)\n",
    "melb[[\"Date\", \"Date_in_datetime\"]].head()"
   ]
  },
  {
   "cell_type": "code",
   "execution_count": 7,
   "id": "threatened-article",
   "metadata": {},
   "outputs": [
    {
     "name": "stdout",
     "output_type": "stream",
     "text": [
      "Day difference is: 56 days 00:00:00\n",
      "Day difference is: 56\n"
     ]
    }
   ],
   "source": [
    "## Since the datetime data type is numeric, do some operation\n",
    "day_diff_1 = melb.Date_in_datetime[0] - melb.Date_in_datetime[1]\n",
    "\n",
    "## the wrapped number\n",
    "print(\"Day difference is:\" , day_diff_1)\n",
    "\n",
    "## the naked number\n",
    "print(\"Day difference is:\" , day_diff_1.days)"
   ]
  },
  {
   "cell_type": "code",
   "execution_count": 8,
   "id": "arctic-hampshire",
   "metadata": {},
   "outputs": [
    {
     "name": "stdout",
     "output_type": "stream",
     "text": [
      "0    1503100800000000000\n",
      "1    1498262400000000000\n",
      "2    1487980800000000000\n",
      "3    1505520000000000000\n",
      "4    1476489600000000000\n",
      "Name: Date_num, dtype: int64\n"
     ]
    }
   ],
   "source": [
    "## into a more \"pure\" numeric format\n",
    "melb[\"Date_num\"] = pd.to_datetime(melb.Date).astype(\"int\")\n",
    "\n",
    "## It's UNIX time in nanoseconds!\n",
    "## https://zh.wikipedia.org/wiki/UNIX时间\n",
    "print(melb[\"Date_num\"].head())"
   ]
  },
  {
   "cell_type": "code",
   "execution_count": 9,
   "id": "wooden-sunday",
   "metadata": {},
   "outputs": [
    {
     "name": "stdout",
     "output_type": "stream",
     "text": [
      "Day difference is: 56.0\n"
     ]
    }
   ],
   "source": [
    "## same calculation.....\n",
    "day_diff_2 = melb.Date_num[0] - melb.Date_num[1]\n",
    "print(\"Day difference is:\" , day_diff_2 / (10**9 * 60 * 60 *24))"
   ]
  },
  {
   "cell_type": "code",
   "execution_count": 10,
   "id": "solar-basement",
   "metadata": {},
   "outputs": [
    {
     "data": {
      "text/plain": [
       "count          13580\n",
       "unique            58\n",
       "top       27/05/2017\n",
       "freq             473\n",
       "Name: Date, dtype: object"
      ]
     },
     "execution_count": 10,
     "metadata": {},
     "output_type": "execute_result"
    }
   ],
   "source": [
    "## why is the difference of data dypes important?\n",
    "## to describe a categorical column\n",
    "melb.Date.describe()"
   ]
  },
  {
   "cell_type": "code",
   "execution_count": 11,
   "id": "expensive-trial",
   "metadata": {},
   "outputs": [
    {
     "data": {
      "text/plain": [
       "count                 13580.0000\n",
       "mean    1484739794756995840.0000\n",
       "std       15520174588577786.0000\n",
       "min     1453939200000000000.0000\n",
       "25%     1470787200000000000.0000\n",
       "50%     1487980800000000000.0000\n",
       "75%     1498262400000000000.0000\n",
       "max     1512691200000000000.0000\n",
       "Name: Date_num, dtype: float64"
      ]
     },
     "execution_count": 11,
     "metadata": {},
     "output_type": "execute_result"
    }
   ],
   "source": [
    "## to describe a numeric column  \n",
    "melb.Date_num.describe()"
   ]
  },
  {
   "cell_type": "code",
   "execution_count": 12,
   "id": "asian-hamburg",
   "metadata": {},
   "outputs": [
    {
     "data": {
      "text/plain": [
       "count                 13580.0000\n",
       "mean    1484739794756995840.0000\n",
       "std       15520174588577786.0000\n",
       "min     1453939200000000000.0000\n",
       "25%     1470787200000000000.0000\n",
       "50%     1487980800000000000.0000\n",
       "75%     1498262400000000000.0000\n",
       "max     1512691200000000000.0000\n",
       "Name: Date_num, dtype: float64"
      ]
     },
     "execution_count": 12,
     "metadata": {},
     "output_type": "execute_result"
    }
   ],
   "source": [
    "## How to make the description more readable?\n",
    "## aka. Can your mom understand this?\n",
    "melb.Date_num.describe()"
   ]
  },
  {
   "cell_type": "code",
   "execution_count": 13,
   "id": "formal-calgary",
   "metadata": {},
   "outputs": [
    {
     "name": "stdout",
     "output_type": "stream",
     "text": [
      "Sort the original format(string): \n",
      "\n",
      "4    15/10/2016\n",
      "3    16/09/2017\n",
      "0    19/08/2017\n",
      "1    24/06/2017\n",
      "2    25/02/2017\n",
      "Name: Date, dtype: object\n",
      "Sort the datetime formate: \n",
      "\n",
      "4   2016-10-15\n",
      "2   2017-02-25\n",
      "1   2017-06-24\n",
      "0   2017-08-19\n",
      "3   2017-09-16\n",
      "Name: Date_in_datetime, dtype: datetime64[ns]\n"
     ]
    }
   ],
   "source": [
    "## Other than subtraction.....\n",
    "print(\"Sort the original format(string): \\n\")\n",
    "print(melb.Date.head().sort_values())\n",
    "\n",
    "print(\"Sort the datetime formate: \\n\")\n",
    "print(melb.Date_in_datetime.head().sort_values())"
   ]
  },
  {
   "cell_type": "code",
   "execution_count": 14,
   "id": "innocent-watson",
   "metadata": {},
   "outputs": [],
   "source": [
    "## The right \"order\" of a variable especially crucial when making a graph!"
   ]
  },
  {
   "cell_type": "markdown",
   "id": "amazing-franklin",
   "metadata": {},
   "source": [
    "### Categorical variable: Region"
   ]
  },
  {
   "cell_type": "code",
   "execution_count": 15,
   "id": "generous-government",
   "metadata": {},
   "outputs": [
    {
     "data": {
      "text/plain": [
       "Southern Metropolitan         4695\n",
       "Northern Metropolitan         3890\n",
       "Western Metropolitan          2948\n",
       "Eastern Metropolitan          1471\n",
       "South-Eastern Metropolitan     450\n",
       "Eastern Victoria                53\n",
       "Northern Victoria               41\n",
       "Western Victoria                32\n",
       "Name: Regionname, dtype: int64"
      ]
     },
     "execution_count": 15,
     "metadata": {},
     "output_type": "execute_result"
    }
   ],
   "source": [
    "## Date is natually can be understand as an numeric sequence\n",
    "## But how about other categorical variables?\n",
    "melb.Regionname.value_counts()"
   ]
  },
  {
   "cell_type": "code",
   "execution_count": 16,
   "id": "peripheral-sense",
   "metadata": {},
   "outputs": [
    {
     "data": {
      "text/plain": [
       "0    Northern Metropolitan\n",
       "1     Western Metropolitan\n",
       "2    Northern Metropolitan\n",
       "3     Western Metropolitan\n",
       "4    Southern Metropolitan\n",
       "5    Southern Metropolitan\n",
       "6     Western Metropolitan\n",
       "7     Eastern Metropolitan\n",
       "8     Western Metropolitan\n",
       "9    Southern Metropolitan\n",
       "Name: Regionname, dtype: object"
      ]
     },
     "execution_count": 16,
     "metadata": {},
     "output_type": "execute_result"
    }
   ],
   "source": [
    "melb.Regionname.head(10)"
   ]
  },
  {
   "cell_type": "code",
   "execution_count": 17,
   "id": "sensitive-convertible",
   "metadata": {},
   "outputs": [
    {
     "data": {
      "text/plain": [
       "(array([0, 1, 0, ..., 0, 3, 3]),\n",
       " Index(['Northern Metropolitan', 'Western Metropolitan',\n",
       "        'Southern Metropolitan', 'Eastern Metropolitan', 'Eastern Victoria',\n",
       "        'Western Victoria', 'South-Eastern Metropolitan', 'Northern Victoria'],\n",
       "       dtype='object'))"
      ]
     },
     "execution_count": 17,
     "metadata": {},
     "output_type": "execute_result"
    }
   ],
   "source": [
    "## encode Regionname into numeric\n",
    "pd.factorize(melb.Regionname)"
   ]
  },
  {
   "cell_type": "code",
   "execution_count": 18,
   "id": "placed-responsibility",
   "metadata": {},
   "outputs": [
    {
     "data": {
      "text/html": [
       "<div>\n",
       "<style scoped>\n",
       "    .dataframe tbody tr th:only-of-type {\n",
       "        vertical-align: middle;\n",
       "    }\n",
       "\n",
       "    .dataframe tbody tr th {\n",
       "        vertical-align: top;\n",
       "    }\n",
       "\n",
       "    .dataframe thead th {\n",
       "        text-align: right;\n",
       "    }\n",
       "</style>\n",
       "<table border=\"1\" class=\"dataframe\">\n",
       "  <thead>\n",
       "    <tr style=\"text-align: right;\">\n",
       "      <th></th>\n",
       "      <th>Regionname</th>\n",
       "      <th>Regionname_factor</th>\n",
       "    </tr>\n",
       "  </thead>\n",
       "  <tbody>\n",
       "    <tr>\n",
       "      <th>0</th>\n",
       "      <td>Northern Metropolitan</td>\n",
       "      <td>0</td>\n",
       "    </tr>\n",
       "    <tr>\n",
       "      <th>1</th>\n",
       "      <td>Western Metropolitan</td>\n",
       "      <td>1</td>\n",
       "    </tr>\n",
       "    <tr>\n",
       "      <th>2</th>\n",
       "      <td>Northern Metropolitan</td>\n",
       "      <td>0</td>\n",
       "    </tr>\n",
       "    <tr>\n",
       "      <th>3</th>\n",
       "      <td>Western Metropolitan</td>\n",
       "      <td>1</td>\n",
       "    </tr>\n",
       "    <tr>\n",
       "      <th>4</th>\n",
       "      <td>Southern Metropolitan</td>\n",
       "      <td>2</td>\n",
       "    </tr>\n",
       "    <tr>\n",
       "      <th>5</th>\n",
       "      <td>Southern Metropolitan</td>\n",
       "      <td>2</td>\n",
       "    </tr>\n",
       "    <tr>\n",
       "      <th>6</th>\n",
       "      <td>Western Metropolitan</td>\n",
       "      <td>1</td>\n",
       "    </tr>\n",
       "    <tr>\n",
       "      <th>7</th>\n",
       "      <td>Eastern Metropolitan</td>\n",
       "      <td>3</td>\n",
       "    </tr>\n",
       "    <tr>\n",
       "      <th>8</th>\n",
       "      <td>Western Metropolitan</td>\n",
       "      <td>1</td>\n",
       "    </tr>\n",
       "    <tr>\n",
       "      <th>9</th>\n",
       "      <td>Southern Metropolitan</td>\n",
       "      <td>2</td>\n",
       "    </tr>\n",
       "  </tbody>\n",
       "</table>\n",
       "</div>"
      ],
      "text/plain": [
       "              Regionname  Regionname_factor\n",
       "0  Northern Metropolitan                  0\n",
       "1   Western Metropolitan                  1\n",
       "2  Northern Metropolitan                  0\n",
       "3   Western Metropolitan                  1\n",
       "4  Southern Metropolitan                  2\n",
       "5  Southern Metropolitan                  2\n",
       "6   Western Metropolitan                  1\n",
       "7   Eastern Metropolitan                  3\n",
       "8   Western Metropolitan                  1\n",
       "9  Southern Metropolitan                  2"
      ]
     },
     "execution_count": 18,
     "metadata": {},
     "output_type": "execute_result"
    }
   ],
   "source": [
    "## create a factorized column\n",
    "melb[\"Regionname_factor\"] = pd.factorize(melb.Regionname)[0]\n",
    "melb[[\"Regionname\", \"Regionname_factor\"]].head(10)"
   ]
  },
  {
   "cell_type": "markdown",
   "id": "documented-bangladesh",
   "metadata": {},
   "source": [
    "## Exploratory Data Analysis"
   ]
  },
  {
   "cell_type": "markdown",
   "id": "strange-mumbai",
   "metadata": {},
   "source": [
    "It's hard to teach you something solid about EDA in less than 1 hour. In my opinion, EDA is more like art than science. The sense is CULTIVATED with reading good works and practise. What I can do here is to show you a really small part of code when I'm exploring this Melbourne dataset....\n",
    "\n",
    "And of course, there will be a lot of reading material for you!\n",
    "\n",
    "The main purpose of this tutorial is to PREDICT PRICE. Keep this in mind when doing EDA!"
   ]
  },
  {
   "cell_type": "markdown",
   "id": "following-cemetery",
   "metadata": {},
   "source": [
    "### Table & Descriptive Statistics"
   ]
  },
  {
   "cell_type": "code",
   "execution_count": 19,
   "id": "fourth-variety",
   "metadata": {},
   "outputs": [
    {
     "data": {
      "text/html": [
       "<div>\n",
       "<style scoped>\n",
       "    .dataframe tbody tr th:only-of-type {\n",
       "        vertical-align: middle;\n",
       "    }\n",
       "\n",
       "    .dataframe tbody tr th {\n",
       "        vertical-align: top;\n",
       "    }\n",
       "\n",
       "    .dataframe thead th {\n",
       "        text-align: right;\n",
       "    }\n",
       "</style>\n",
       "<table border=\"1\" class=\"dataframe\">\n",
       "  <thead>\n",
       "    <tr style=\"text-align: right;\">\n",
       "      <th></th>\n",
       "      <th>Rooms</th>\n",
       "      <th>Price</th>\n",
       "      <th>Distance</th>\n",
       "      <th>Postcode</th>\n",
       "      <th>Bedroom2</th>\n",
       "      <th>Bathroom</th>\n",
       "      <th>Car</th>\n",
       "      <th>Landsize</th>\n",
       "      <th>BuildingArea</th>\n",
       "      <th>YearBuilt</th>\n",
       "      <th>Lattitude</th>\n",
       "      <th>Longtitude</th>\n",
       "      <th>Propertycount</th>\n",
       "      <th>Date_num</th>\n",
       "      <th>Regionname_factor</th>\n",
       "    </tr>\n",
       "  </thead>\n",
       "  <tbody>\n",
       "    <tr>\n",
       "      <th>count</th>\n",
       "      <td>13580.0000</td>\n",
       "      <td>13580.0000</td>\n",
       "      <td>13580.0000</td>\n",
       "      <td>13580.0000</td>\n",
       "      <td>13580.0000</td>\n",
       "      <td>13580.0000</td>\n",
       "      <td>13518.0000</td>\n",
       "      <td>13580.0000</td>\n",
       "      <td>7130.0000</td>\n",
       "      <td>8205.0000</td>\n",
       "      <td>13580.0000</td>\n",
       "      <td>13580.0000</td>\n",
       "      <td>13580.0000</td>\n",
       "      <td>13580.0000</td>\n",
       "      <td>13580.0000</td>\n",
       "    </tr>\n",
       "    <tr>\n",
       "      <th>mean</th>\n",
       "      <td>2.9380</td>\n",
       "      <td>1075684.0795</td>\n",
       "      <td>10.1378</td>\n",
       "      <td>3105.3019</td>\n",
       "      <td>2.9147</td>\n",
       "      <td>1.5342</td>\n",
       "      <td>1.6101</td>\n",
       "      <td>558.4161</td>\n",
       "      <td>151.9676</td>\n",
       "      <td>1964.6842</td>\n",
       "      <td>-37.8092</td>\n",
       "      <td>144.9952</td>\n",
       "      <td>7454.4174</td>\n",
       "      <td>1484739794756995840.0000</td>\n",
       "      <td>1.4809</td>\n",
       "    </tr>\n",
       "    <tr>\n",
       "      <th>std</th>\n",
       "      <td>0.9557</td>\n",
       "      <td>639310.7243</td>\n",
       "      <td>5.8687</td>\n",
       "      <td>90.6770</td>\n",
       "      <td>0.9659</td>\n",
       "      <td>0.6917</td>\n",
       "      <td>0.9626</td>\n",
       "      <td>3990.6692</td>\n",
       "      <td>541.0145</td>\n",
       "      <td>37.2738</td>\n",
       "      <td>0.0793</td>\n",
       "      <td>0.1039</td>\n",
       "      <td>4378.5818</td>\n",
       "      <td>15520174588577786.0000</td>\n",
       "      <td>1.3581</td>\n",
       "    </tr>\n",
       "    <tr>\n",
       "      <th>min</th>\n",
       "      <td>1.0000</td>\n",
       "      <td>85000.0000</td>\n",
       "      <td>0.0000</td>\n",
       "      <td>3000.0000</td>\n",
       "      <td>0.0000</td>\n",
       "      <td>0.0000</td>\n",
       "      <td>0.0000</td>\n",
       "      <td>0.0000</td>\n",
       "      <td>0.0000</td>\n",
       "      <td>1196.0000</td>\n",
       "      <td>-38.1825</td>\n",
       "      <td>144.4318</td>\n",
       "      <td>249.0000</td>\n",
       "      <td>1453939200000000000.0000</td>\n",
       "      <td>0.0000</td>\n",
       "    </tr>\n",
       "    <tr>\n",
       "      <th>25%</th>\n",
       "      <td>2.0000</td>\n",
       "      <td>650000.0000</td>\n",
       "      <td>6.1000</td>\n",
       "      <td>3044.0000</td>\n",
       "      <td>2.0000</td>\n",
       "      <td>1.0000</td>\n",
       "      <td>1.0000</td>\n",
       "      <td>177.0000</td>\n",
       "      <td>93.0000</td>\n",
       "      <td>1940.0000</td>\n",
       "      <td>-37.8568</td>\n",
       "      <td>144.9296</td>\n",
       "      <td>4380.0000</td>\n",
       "      <td>1470787200000000000.0000</td>\n",
       "      <td>0.0000</td>\n",
       "    </tr>\n",
       "    <tr>\n",
       "      <th>50%</th>\n",
       "      <td>3.0000</td>\n",
       "      <td>903000.0000</td>\n",
       "      <td>9.2000</td>\n",
       "      <td>3084.0000</td>\n",
       "      <td>3.0000</td>\n",
       "      <td>1.0000</td>\n",
       "      <td>2.0000</td>\n",
       "      <td>440.0000</td>\n",
       "      <td>126.0000</td>\n",
       "      <td>1970.0000</td>\n",
       "      <td>-37.8024</td>\n",
       "      <td>145.0001</td>\n",
       "      <td>6555.0000</td>\n",
       "      <td>1487980800000000000.0000</td>\n",
       "      <td>1.0000</td>\n",
       "    </tr>\n",
       "    <tr>\n",
       "      <th>75%</th>\n",
       "      <td>3.0000</td>\n",
       "      <td>1330000.0000</td>\n",
       "      <td>13.0000</td>\n",
       "      <td>3148.0000</td>\n",
       "      <td>3.0000</td>\n",
       "      <td>2.0000</td>\n",
       "      <td>2.0000</td>\n",
       "      <td>651.0000</td>\n",
       "      <td>174.0000</td>\n",
       "      <td>1999.0000</td>\n",
       "      <td>-37.7564</td>\n",
       "      <td>145.0583</td>\n",
       "      <td>10331.0000</td>\n",
       "      <td>1498262400000000000.0000</td>\n",
       "      <td>2.0000</td>\n",
       "    </tr>\n",
       "    <tr>\n",
       "      <th>max</th>\n",
       "      <td>10.0000</td>\n",
       "      <td>9000000.0000</td>\n",
       "      <td>48.1000</td>\n",
       "      <td>3977.0000</td>\n",
       "      <td>20.0000</td>\n",
       "      <td>8.0000</td>\n",
       "      <td>10.0000</td>\n",
       "      <td>433014.0000</td>\n",
       "      <td>44515.0000</td>\n",
       "      <td>2018.0000</td>\n",
       "      <td>-37.4085</td>\n",
       "      <td>145.5264</td>\n",
       "      <td>21650.0000</td>\n",
       "      <td>1512691200000000000.0000</td>\n",
       "      <td>7.0000</td>\n",
       "    </tr>\n",
       "  </tbody>\n",
       "</table>\n",
       "</div>"
      ],
      "text/plain": [
       "           Rooms        Price   Distance   Postcode   Bedroom2   Bathroom  \\\n",
       "count 13580.0000   13580.0000 13580.0000 13580.0000 13580.0000 13580.0000   \n",
       "mean      2.9380 1075684.0795    10.1378  3105.3019     2.9147     1.5342   \n",
       "std       0.9557  639310.7243     5.8687    90.6770     0.9659     0.6917   \n",
       "min       1.0000   85000.0000     0.0000  3000.0000     0.0000     0.0000   \n",
       "25%       2.0000  650000.0000     6.1000  3044.0000     2.0000     1.0000   \n",
       "50%       3.0000  903000.0000     9.2000  3084.0000     3.0000     1.0000   \n",
       "75%       3.0000 1330000.0000    13.0000  3148.0000     3.0000     2.0000   \n",
       "max      10.0000 9000000.0000    48.1000  3977.0000    20.0000     8.0000   \n",
       "\n",
       "             Car    Landsize  BuildingArea  YearBuilt  Lattitude  Longtitude  \\\n",
       "count 13518.0000  13580.0000     7130.0000  8205.0000 13580.0000  13580.0000   \n",
       "mean      1.6101    558.4161      151.9676  1964.6842   -37.8092    144.9952   \n",
       "std       0.9626   3990.6692      541.0145    37.2738     0.0793      0.1039   \n",
       "min       0.0000      0.0000        0.0000  1196.0000   -38.1825    144.4318   \n",
       "25%       1.0000    177.0000       93.0000  1940.0000   -37.8568    144.9296   \n",
       "50%       2.0000    440.0000      126.0000  1970.0000   -37.8024    145.0001   \n",
       "75%       2.0000    651.0000      174.0000  1999.0000   -37.7564    145.0583   \n",
       "max      10.0000 433014.0000    44515.0000  2018.0000   -37.4085    145.5264   \n",
       "\n",
       "       Propertycount                 Date_num  Regionname_factor  \n",
       "count     13580.0000               13580.0000         13580.0000  \n",
       "mean       7454.4174 1484739794756995840.0000             1.4809  \n",
       "std        4378.5818   15520174588577786.0000             1.3581  \n",
       "min         249.0000 1453939200000000000.0000             0.0000  \n",
       "25%        4380.0000 1470787200000000000.0000             0.0000  \n",
       "50%        6555.0000 1487980800000000000.0000             1.0000  \n",
       "75%       10331.0000 1498262400000000000.0000             2.0000  \n",
       "max       21650.0000 1512691200000000000.0000             7.0000  "
      ]
     },
     "execution_count": 19,
     "metadata": {},
     "output_type": "execute_result"
    }
   ],
   "source": [
    "## describe method offers a simple statitical overview(for numeric columns, by default)\n",
    "melb.describe()"
   ]
  },
  {
   "cell_type": "code",
   "execution_count": 20,
   "id": "traditional-advancement",
   "metadata": {},
   "outputs": [
    {
     "data": {
      "text/html": [
       "<div>\n",
       "<style scoped>\n",
       "    .dataframe tbody tr th:only-of-type {\n",
       "        vertical-align: middle;\n",
       "    }\n",
       "\n",
       "    .dataframe tbody tr th {\n",
       "        vertical-align: top;\n",
       "    }\n",
       "\n",
       "    .dataframe thead th {\n",
       "        text-align: right;\n",
       "    }\n",
       "</style>\n",
       "<table border=\"1\" class=\"dataframe\">\n",
       "  <thead>\n",
       "    <tr style=\"text-align: right;\">\n",
       "      <th></th>\n",
       "      <th>Suburb</th>\n",
       "      <th>Address</th>\n",
       "      <th>Type</th>\n",
       "      <th>Method</th>\n",
       "      <th>SellerG</th>\n",
       "      <th>Date</th>\n",
       "      <th>CouncilArea</th>\n",
       "      <th>Regionname</th>\n",
       "    </tr>\n",
       "  </thead>\n",
       "  <tbody>\n",
       "    <tr>\n",
       "      <th>count</th>\n",
       "      <td>13580</td>\n",
       "      <td>13580</td>\n",
       "      <td>13580</td>\n",
       "      <td>13580</td>\n",
       "      <td>13580</td>\n",
       "      <td>13580</td>\n",
       "      <td>12211</td>\n",
       "      <td>13580</td>\n",
       "    </tr>\n",
       "    <tr>\n",
       "      <th>unique</th>\n",
       "      <td>314</td>\n",
       "      <td>13378</td>\n",
       "      <td>3</td>\n",
       "      <td>5</td>\n",
       "      <td>268</td>\n",
       "      <td>58</td>\n",
       "      <td>33</td>\n",
       "      <td>8</td>\n",
       "    </tr>\n",
       "    <tr>\n",
       "      <th>top</th>\n",
       "      <td>Reservoir</td>\n",
       "      <td>14 Arthur St</td>\n",
       "      <td>h</td>\n",
       "      <td>S</td>\n",
       "      <td>Nelson</td>\n",
       "      <td>27/05/2017</td>\n",
       "      <td>Moreland</td>\n",
       "      <td>Southern Metropolitan</td>\n",
       "    </tr>\n",
       "    <tr>\n",
       "      <th>freq</th>\n",
       "      <td>359</td>\n",
       "      <td>3</td>\n",
       "      <td>9449</td>\n",
       "      <td>9022</td>\n",
       "      <td>1565</td>\n",
       "      <td>473</td>\n",
       "      <td>1163</td>\n",
       "      <td>4695</td>\n",
       "    </tr>\n",
       "  </tbody>\n",
       "</table>\n",
       "</div>"
      ],
      "text/plain": [
       "           Suburb       Address   Type Method SellerG        Date CouncilArea  \\\n",
       "count       13580         13580  13580  13580   13580       13580       12211   \n",
       "unique        314         13378      3      5     268          58          33   \n",
       "top     Reservoir  14 Arthur St      h      S  Nelson  27/05/2017    Moreland   \n",
       "freq          359             3   9449   9022    1565         473        1163   \n",
       "\n",
       "                   Regionname  \n",
       "count                   13580  \n",
       "unique                      8  \n",
       "top     Southern Metropolitan  \n",
       "freq                     4695  "
      ]
     },
     "execution_count": 20,
     "metadata": {},
     "output_type": "execute_result"
    }
   ],
   "source": [
    "## to have one for categorical colunmns\n",
    "melb.describe(include=['object'])"
   ]
  },
  {
   "cell_type": "code",
   "execution_count": 21,
   "id": "insured-norway",
   "metadata": {},
   "outputs": [
    {
     "data": {
      "text/plain": [
       "count   13580.0000\n",
       "mean        2.9380\n",
       "std         0.9557\n",
       "min         1.0000\n",
       "25%         2.0000\n",
       "50%         3.0000\n",
       "75%         3.0000\n",
       "max        10.0000\n",
       "Name: Rooms, dtype: float64"
      ]
     },
     "execution_count": 21,
     "metadata": {},
     "output_type": "execute_result"
    }
   ],
   "source": [
    "## One variable \n",
    "## the Room variable is an integer and not so many distinct values (here, 1 to 10)\n",
    "## \n",
    "## the mean-std thing may not be helpful.....\n",
    "melb.Rooms.describe()"
   ]
  },
  {
   "cell_type": "code",
   "execution_count": 22,
   "id": "french-pattern",
   "metadata": {},
   "outputs": [
    {
     "data": {
      "text/plain": [
       "1      681\n",
       "2     3648\n",
       "3     5881\n",
       "4     2688\n",
       "5      596\n",
       "6       67\n",
       "7       10\n",
       "8        8\n",
       "10       1\n",
       "Name: Rooms, dtype: int64"
      ]
     },
     "execution_count": 22,
     "metadata": {},
     "output_type": "execute_result"
    }
   ],
   "source": [
    "## Discrete distribution\n",
    "melb.Rooms.value_counts().sort_index()"
   ]
  },
  {
   "cell_type": "code",
   "execution_count": 23,
   "id": "coupled-terrorism",
   "metadata": {},
   "outputs": [
    {
     "data": {
      "text/html": [
       "<div>\n",
       "<style scoped>\n",
       "    .dataframe tbody tr th:only-of-type {\n",
       "        vertical-align: middle;\n",
       "    }\n",
       "\n",
       "    .dataframe tbody tr th {\n",
       "        vertical-align: top;\n",
       "    }\n",
       "\n",
       "    .dataframe thead th {\n",
       "        text-align: right;\n",
       "    }\n",
       "</style>\n",
       "<table border=\"1\" class=\"dataframe\">\n",
       "  <thead>\n",
       "    <tr style=\"text-align: right;\">\n",
       "      <th></th>\n",
       "      <th>count</th>\n",
       "      <th>mean</th>\n",
       "      <th>std</th>\n",
       "      <th>min</th>\n",
       "      <th>25%</th>\n",
       "      <th>50%</th>\n",
       "      <th>75%</th>\n",
       "      <th>max</th>\n",
       "    </tr>\n",
       "    <tr>\n",
       "      <th>Rooms</th>\n",
       "      <th></th>\n",
       "      <th></th>\n",
       "      <th></th>\n",
       "      <th></th>\n",
       "      <th></th>\n",
       "      <th></th>\n",
       "      <th></th>\n",
       "      <th></th>\n",
       "    </tr>\n",
       "  </thead>\n",
       "  <tbody>\n",
       "    <tr>\n",
       "      <th>1</th>\n",
       "      <td>681.0000</td>\n",
       "      <td>433824.4508</td>\n",
       "      <td>224985.7012</td>\n",
       "      <td>85000.0000</td>\n",
       "      <td>325000.0000</td>\n",
       "      <td>385000.0000</td>\n",
       "      <td>460000.0000</td>\n",
       "      <td>2450000.0000</td>\n",
       "    </tr>\n",
       "    <tr>\n",
       "      <th>2</th>\n",
       "      <td>3648.0000</td>\n",
       "      <td>775081.1894</td>\n",
       "      <td>356125.9461</td>\n",
       "      <td>190000.0000</td>\n",
       "      <td>535000.0000</td>\n",
       "      <td>690000.0000</td>\n",
       "      <td>912625.0000</td>\n",
       "      <td>4800000.0000</td>\n",
       "    </tr>\n",
       "    <tr>\n",
       "      <th>3</th>\n",
       "      <td>5881.0000</td>\n",
       "      <td>1076080.6249</td>\n",
       "      <td>502106.1372</td>\n",
       "      <td>283000.0000</td>\n",
       "      <td>725000.0000</td>\n",
       "      <td>950000.0000</td>\n",
       "      <td>1320000.0000</td>\n",
       "      <td>9000000.0000</td>\n",
       "    </tr>\n",
       "    <tr>\n",
       "      <th>4</th>\n",
       "      <td>2688.0000</td>\n",
       "      <td>1445281.7359</td>\n",
       "      <td>747487.1970</td>\n",
       "      <td>131000.0000</td>\n",
       "      <td>902000.0000</td>\n",
       "      <td>1285000.0000</td>\n",
       "      <td>1786250.0000</td>\n",
       "      <td>7650000.0000</td>\n",
       "    </tr>\n",
       "    <tr>\n",
       "      <th>5</th>\n",
       "      <td>596.0000</td>\n",
       "      <td>1870260.4161</td>\n",
       "      <td>982349.3014</td>\n",
       "      <td>355000.0000</td>\n",
       "      <td>1150000.0000</td>\n",
       "      <td>1660000.0000</td>\n",
       "      <td>2400000.0000</td>\n",
       "      <td>8000000.0000</td>\n",
       "    </tr>\n",
       "    <tr>\n",
       "      <th>6</th>\n",
       "      <td>67.0000</td>\n",
       "      <td>1849365.6716</td>\n",
       "      <td>1094246.5534</td>\n",
       "      <td>506000.0000</td>\n",
       "      <td>1167500.0000</td>\n",
       "      <td>1800000.0000</td>\n",
       "      <td>2125000.0000</td>\n",
       "      <td>6500000.0000</td>\n",
       "    </tr>\n",
       "    <tr>\n",
       "      <th>7</th>\n",
       "      <td>10.0000</td>\n",
       "      <td>1920700.0000</td>\n",
       "      <td>947620.0657</td>\n",
       "      <td>1005000.0000</td>\n",
       "      <td>1312500.0000</td>\n",
       "      <td>1496000.0000</td>\n",
       "      <td>2450000.0000</td>\n",
       "      <td>4050000.0000</td>\n",
       "    </tr>\n",
       "    <tr>\n",
       "      <th>8</th>\n",
       "      <td>8.0000</td>\n",
       "      <td>1602750.0000</td>\n",
       "      <td>830626.3987</td>\n",
       "      <td>741000.0000</td>\n",
       "      <td>853250.0000</td>\n",
       "      <td>1515000.0000</td>\n",
       "      <td>2212500.0000</td>\n",
       "      <td>2950000.0000</td>\n",
       "    </tr>\n",
       "    <tr>\n",
       "      <th>10</th>\n",
       "      <td>1.0000</td>\n",
       "      <td>900000.0000</td>\n",
       "      <td>NaN</td>\n",
       "      <td>900000.0000</td>\n",
       "      <td>900000.0000</td>\n",
       "      <td>900000.0000</td>\n",
       "      <td>900000.0000</td>\n",
       "      <td>900000.0000</td>\n",
       "    </tr>\n",
       "  </tbody>\n",
       "</table>\n",
       "</div>"
      ],
      "text/plain": [
       "          count         mean          std          min          25%  \\\n",
       "Rooms                                                                 \n",
       "1      681.0000  433824.4508  224985.7012   85000.0000  325000.0000   \n",
       "2     3648.0000  775081.1894  356125.9461  190000.0000  535000.0000   \n",
       "3     5881.0000 1076080.6249  502106.1372  283000.0000  725000.0000   \n",
       "4     2688.0000 1445281.7359  747487.1970  131000.0000  902000.0000   \n",
       "5      596.0000 1870260.4161  982349.3014  355000.0000 1150000.0000   \n",
       "6       67.0000 1849365.6716 1094246.5534  506000.0000 1167500.0000   \n",
       "7       10.0000 1920700.0000  947620.0657 1005000.0000 1312500.0000   \n",
       "8        8.0000 1602750.0000  830626.3987  741000.0000  853250.0000   \n",
       "10       1.0000  900000.0000          NaN  900000.0000  900000.0000   \n",
       "\n",
       "               50%          75%          max  \n",
       "Rooms                                         \n",
       "1      385000.0000  460000.0000 2450000.0000  \n",
       "2      690000.0000  912625.0000 4800000.0000  \n",
       "3      950000.0000 1320000.0000 9000000.0000  \n",
       "4     1285000.0000 1786250.0000 7650000.0000  \n",
       "5     1660000.0000 2400000.0000 8000000.0000  \n",
       "6     1800000.0000 2125000.0000 6500000.0000  \n",
       "7     1496000.0000 2450000.0000 4050000.0000  \n",
       "8     1515000.0000 2212500.0000 2950000.0000  \n",
       "10     900000.0000  900000.0000  900000.0000  "
      ]
     },
     "execution_count": 23,
     "metadata": {},
     "output_type": "execute_result"
    }
   ],
   "source": [
    "## Grouped statistics\n",
    "## It's a two variables analysis now\n",
    "\n",
    "## What does the the groupby operation mean?\n",
    "\n",
    "## In general,more room, higher the mean price is  \n",
    "## If I'm going to predict the price, should I put this variable into the model?\n",
    "melb.groupby(\"Rooms\").Price.describe()\n"
   ]
  },
  {
   "cell_type": "code",
   "execution_count": 24,
   "id": "contemporary-adams",
   "metadata": {},
   "outputs": [
    {
     "data": {
      "text/plain": [
       "count    13580.0000\n",
       "mean       558.4161\n",
       "std       3990.6692\n",
       "min          0.0000\n",
       "25%        177.0000\n",
       "50%        440.0000\n",
       "75%        651.0000\n",
       "max     433014.0000\n",
       "Name: Landsize, dtype: float64"
      ]
     },
     "execution_count": 24,
     "metadata": {},
     "output_type": "execute_result"
    }
   ],
   "source": [
    "## The fact that Room has only 10 distinct values allows us \n",
    "## to summarize other varibles as if it's a categorical variable.\n",
    "## What if not? \n",
    "\n",
    "## the Landsize variable is an float (continuous)\n",
    "\n",
    "melb.Landsize.describe()"
   ]
  },
  {
   "cell_type": "code",
   "execution_count": 25,
   "id": "appreciated-banking",
   "metadata": {},
   "outputs": [
    {
     "data": {
      "text/plain": [
       "0.0000         1939\n",
       "1.0000            2\n",
       "2.0000            1\n",
       "3.0000            1\n",
       "5.0000            1\n",
       "               ... \n",
       "41400.0000        1\n",
       "44500.0000        1\n",
       "75100.0000        1\n",
       "76000.0000        1\n",
       "433014.0000       1\n",
       "Name: Landsize, Length: 1448, dtype: int64"
      ]
     },
     "execution_count": 25,
     "metadata": {},
     "output_type": "execute_result"
    }
   ],
   "source": [
    "## Distribution....... ummmmmmm\n",
    "melb.Landsize.value_counts().sort_index()"
   ]
  },
  {
   "cell_type": "code",
   "execution_count": null,
   "id": "prepared-optics",
   "metadata": {},
   "outputs": [],
   "source": [
    "## Grouped statistics.....\n",
    "## please don't do this\n",
    "melb.groupby(\"Landsize\").Price.describe()"
   ]
  },
  {
   "cell_type": "code",
   "execution_count": 26,
   "id": "healthy-toner",
   "metadata": {},
   "outputs": [
    {
     "data": {
      "text/html": [
       "<div>\n",
       "<style scoped>\n",
       "    .dataframe tbody tr th:only-of-type {\n",
       "        vertical-align: middle;\n",
       "    }\n",
       "\n",
       "    .dataframe tbody tr th {\n",
       "        vertical-align: top;\n",
       "    }\n",
       "\n",
       "    .dataframe thead th {\n",
       "        text-align: right;\n",
       "    }\n",
       "</style>\n",
       "<table border=\"1\" class=\"dataframe\">\n",
       "  <thead>\n",
       "    <tr style=\"text-align: right;\">\n",
       "      <th></th>\n",
       "      <th>Rooms</th>\n",
       "      <th>Price</th>\n",
       "      <th>Distance</th>\n",
       "      <th>Postcode</th>\n",
       "      <th>Bedroom2</th>\n",
       "      <th>Bathroom</th>\n",
       "      <th>Car</th>\n",
       "      <th>Landsize</th>\n",
       "      <th>BuildingArea</th>\n",
       "      <th>YearBuilt</th>\n",
       "      <th>Lattitude</th>\n",
       "      <th>Longtitude</th>\n",
       "      <th>Propertycount</th>\n",
       "      <th>Date_num</th>\n",
       "      <th>Regionname_factor</th>\n",
       "    </tr>\n",
       "  </thead>\n",
       "  <tbody>\n",
       "    <tr>\n",
       "      <th>Rooms</th>\n",
       "      <td>1.0000</td>\n",
       "      <td>0.4966</td>\n",
       "      <td>0.2942</td>\n",
       "      <td>0.0553</td>\n",
       "      <td>0.9442</td>\n",
       "      <td>0.5929</td>\n",
       "      <td>0.4085</td>\n",
       "      <td>0.0257</td>\n",
       "      <td>0.1241</td>\n",
       "      <td>-0.0654</td>\n",
       "      <td>0.0159</td>\n",
       "      <td>0.1008</td>\n",
       "      <td>-0.0815</td>\n",
       "      <td>0.1015</td>\n",
       "      <td>0.1540</td>\n",
       "    </tr>\n",
       "    <tr>\n",
       "      <th>Price</th>\n",
       "      <td>0.4966</td>\n",
       "      <td>1.0000</td>\n",
       "      <td>-0.1625</td>\n",
       "      <td>0.1079</td>\n",
       "      <td>0.4760</td>\n",
       "      <td>0.4670</td>\n",
       "      <td>0.2390</td>\n",
       "      <td>0.0375</td>\n",
       "      <td>0.0910</td>\n",
       "      <td>-0.3236</td>\n",
       "      <td>-0.2129</td>\n",
       "      <td>0.2037</td>\n",
       "      <td>-0.0422</td>\n",
       "      <td>0.0114</td>\n",
       "      <td>0.1324</td>\n",
       "    </tr>\n",
       "    <tr>\n",
       "      <th>Distance</th>\n",
       "      <td>0.2942</td>\n",
       "      <td>-0.1625</td>\n",
       "      <td>1.0000</td>\n",
       "      <td>0.4315</td>\n",
       "      <td>0.2959</td>\n",
       "      <td>0.1272</td>\n",
       "      <td>0.2630</td>\n",
       "      <td>0.0250</td>\n",
       "      <td>0.0995</td>\n",
       "      <td>0.2464</td>\n",
       "      <td>-0.1307</td>\n",
       "      <td>0.2394</td>\n",
       "      <td>-0.0549</td>\n",
       "      <td>0.2583</td>\n",
       "      <td>0.5141</td>\n",
       "    </tr>\n",
       "    <tr>\n",
       "      <th>Postcode</th>\n",
       "      <td>0.0553</td>\n",
       "      <td>0.1079</td>\n",
       "      <td>0.4315</td>\n",
       "      <td>1.0000</td>\n",
       "      <td>0.0606</td>\n",
       "      <td>0.1137</td>\n",
       "      <td>0.0503</td>\n",
       "      <td>0.0246</td>\n",
       "      <td>0.0555</td>\n",
       "      <td>0.0329</td>\n",
       "      <td>-0.4061</td>\n",
       "      <td>0.4454</td>\n",
       "      <td>0.0623</td>\n",
       "      <td>0.1007</td>\n",
       "      <td>0.5029</td>\n",
       "    </tr>\n",
       "    <tr>\n",
       "      <th>Bedroom2</th>\n",
       "      <td>0.9442</td>\n",
       "      <td>0.4760</td>\n",
       "      <td>0.2959</td>\n",
       "      <td>0.0606</td>\n",
       "      <td>1.0000</td>\n",
       "      <td>0.5847</td>\n",
       "      <td>0.4053</td>\n",
       "      <td>0.0256</td>\n",
       "      <td>0.1223</td>\n",
       "      <td>-0.0533</td>\n",
       "      <td>0.0159</td>\n",
       "      <td>0.1022</td>\n",
       "      <td>-0.0814</td>\n",
       "      <td>0.1246</td>\n",
       "      <td>0.1567</td>\n",
       "    </tr>\n",
       "    <tr>\n",
       "      <th>Bathroom</th>\n",
       "      <td>0.5929</td>\n",
       "      <td>0.4670</td>\n",
       "      <td>0.1272</td>\n",
       "      <td>0.1137</td>\n",
       "      <td>0.5847</td>\n",
       "      <td>1.0000</td>\n",
       "      <td>0.3222</td>\n",
       "      <td>0.0371</td>\n",
       "      <td>0.1119</td>\n",
       "      <td>0.1527</td>\n",
       "      <td>-0.0706</td>\n",
       "      <td>0.1190</td>\n",
       "      <td>-0.0522</td>\n",
       "      <td>0.0494</td>\n",
       "      <td>0.1525</td>\n",
       "    </tr>\n",
       "    <tr>\n",
       "      <th>Car</th>\n",
       "      <td>0.4085</td>\n",
       "      <td>0.2390</td>\n",
       "      <td>0.2630</td>\n",
       "      <td>0.0503</td>\n",
       "      <td>0.4053</td>\n",
       "      <td>0.3222</td>\n",
       "      <td>1.0000</td>\n",
       "      <td>0.0268</td>\n",
       "      <td>0.0961</td>\n",
       "      <td>0.1045</td>\n",
       "      <td>-0.0020</td>\n",
       "      <td>0.0634</td>\n",
       "      <td>-0.0243</td>\n",
       "      <td>0.0936</td>\n",
       "      <td>0.1208</td>\n",
       "    </tr>\n",
       "    <tr>\n",
       "      <th>Landsize</th>\n",
       "      <td>0.0257</td>\n",
       "      <td>0.0375</td>\n",
       "      <td>0.0250</td>\n",
       "      <td>0.0246</td>\n",
       "      <td>0.0256</td>\n",
       "      <td>0.0371</td>\n",
       "      <td>0.0268</td>\n",
       "      <td>1.0000</td>\n",
       "      <td>0.5005</td>\n",
       "      <td>0.0365</td>\n",
       "      <td>0.0097</td>\n",
       "      <td>0.0108</td>\n",
       "      <td>-0.0069</td>\n",
       "      <td>0.0348</td>\n",
       "      <td>0.0157</td>\n",
       "    </tr>\n",
       "    <tr>\n",
       "      <th>BuildingArea</th>\n",
       "      <td>0.1241</td>\n",
       "      <td>0.0910</td>\n",
       "      <td>0.0995</td>\n",
       "      <td>0.0555</td>\n",
       "      <td>0.1223</td>\n",
       "      <td>0.1119</td>\n",
       "      <td>0.0961</td>\n",
       "      <td>0.5005</td>\n",
       "      <td>1.0000</td>\n",
       "      <td>0.0197</td>\n",
       "      <td>0.0434</td>\n",
       "      <td>-0.0238</td>\n",
       "      <td>-0.0288</td>\n",
       "      <td>0.0221</td>\n",
       "      <td>0.0729</td>\n",
       "    </tr>\n",
       "    <tr>\n",
       "      <th>YearBuilt</th>\n",
       "      <td>-0.0654</td>\n",
       "      <td>-0.3236</td>\n",
       "      <td>0.2464</td>\n",
       "      <td>0.0329</td>\n",
       "      <td>-0.0533</td>\n",
       "      <td>0.1527</td>\n",
       "      <td>0.1045</td>\n",
       "      <td>0.0365</td>\n",
       "      <td>0.0197</td>\n",
       "      <td>1.0000</td>\n",
       "      <td>0.0604</td>\n",
       "      <td>-0.0035</td>\n",
       "      <td>0.0064</td>\n",
       "      <td>0.1014</td>\n",
       "      <td>0.0641</td>\n",
       "    </tr>\n",
       "    <tr>\n",
       "      <th>Lattitude</th>\n",
       "      <td>0.0159</td>\n",
       "      <td>-0.2129</td>\n",
       "      <td>-0.1307</td>\n",
       "      <td>-0.4061</td>\n",
       "      <td>0.0159</td>\n",
       "      <td>-0.0706</td>\n",
       "      <td>-0.0020</td>\n",
       "      <td>0.0097</td>\n",
       "      <td>0.0434</td>\n",
       "      <td>0.0604</td>\n",
       "      <td>1.0000</td>\n",
       "      <td>-0.3576</td>\n",
       "      <td>0.0471</td>\n",
       "      <td>0.0002</td>\n",
       "      <td>-0.5645</td>\n",
       "    </tr>\n",
       "    <tr>\n",
       "      <th>Longtitude</th>\n",
       "      <td>0.1008</td>\n",
       "      <td>0.2037</td>\n",
       "      <td>0.2394</td>\n",
       "      <td>0.4454</td>\n",
       "      <td>0.1022</td>\n",
       "      <td>0.1190</td>\n",
       "      <td>0.0634</td>\n",
       "      <td>0.0108</td>\n",
       "      <td>-0.0238</td>\n",
       "      <td>-0.0035</td>\n",
       "      <td>-0.3576</td>\n",
       "      <td>1.0000</td>\n",
       "      <td>0.0660</td>\n",
       "      <td>0.0785</td>\n",
       "      <td>0.4856</td>\n",
       "    </tr>\n",
       "    <tr>\n",
       "      <th>Propertycount</th>\n",
       "      <td>-0.0815</td>\n",
       "      <td>-0.0422</td>\n",
       "      <td>-0.0549</td>\n",
       "      <td>0.0623</td>\n",
       "      <td>-0.0814</td>\n",
       "      <td>-0.0522</td>\n",
       "      <td>-0.0243</td>\n",
       "      <td>-0.0069</td>\n",
       "      <td>-0.0288</td>\n",
       "      <td>0.0064</td>\n",
       "      <td>0.0471</td>\n",
       "      <td>0.0660</td>\n",
       "      <td>1.0000</td>\n",
       "      <td>-0.0021</td>\n",
       "      <td>-0.1877</td>\n",
       "    </tr>\n",
       "    <tr>\n",
       "      <th>Date_num</th>\n",
       "      <td>0.1015</td>\n",
       "      <td>0.0114</td>\n",
       "      <td>0.2583</td>\n",
       "      <td>0.1007</td>\n",
       "      <td>0.1246</td>\n",
       "      <td>0.0494</td>\n",
       "      <td>0.0936</td>\n",
       "      <td>0.0348</td>\n",
       "      <td>0.0221</td>\n",
       "      <td>0.1014</td>\n",
       "      <td>0.0002</td>\n",
       "      <td>0.0785</td>\n",
       "      <td>-0.0021</td>\n",
       "      <td>1.0000</td>\n",
       "      <td>0.1462</td>\n",
       "    </tr>\n",
       "    <tr>\n",
       "      <th>Regionname_factor</th>\n",
       "      <td>0.1540</td>\n",
       "      <td>0.1324</td>\n",
       "      <td>0.5141</td>\n",
       "      <td>0.5029</td>\n",
       "      <td>0.1567</td>\n",
       "      <td>0.1525</td>\n",
       "      <td>0.1208</td>\n",
       "      <td>0.0157</td>\n",
       "      <td>0.0729</td>\n",
       "      <td>0.0641</td>\n",
       "      <td>-0.5645</td>\n",
       "      <td>0.4856</td>\n",
       "      <td>-0.1877</td>\n",
       "      <td>0.1462</td>\n",
       "      <td>1.0000</td>\n",
       "    </tr>\n",
       "  </tbody>\n",
       "</table>\n",
       "</div>"
      ],
      "text/plain": [
       "                    Rooms   Price  Distance  Postcode  Bedroom2  Bathroom  \\\n",
       "Rooms              1.0000  0.4966    0.2942    0.0553    0.9442    0.5929   \n",
       "Price              0.4966  1.0000   -0.1625    0.1079    0.4760    0.4670   \n",
       "Distance           0.2942 -0.1625    1.0000    0.4315    0.2959    0.1272   \n",
       "Postcode           0.0553  0.1079    0.4315    1.0000    0.0606    0.1137   \n",
       "Bedroom2           0.9442  0.4760    0.2959    0.0606    1.0000    0.5847   \n",
       "Bathroom           0.5929  0.4670    0.1272    0.1137    0.5847    1.0000   \n",
       "Car                0.4085  0.2390    0.2630    0.0503    0.4053    0.3222   \n",
       "Landsize           0.0257  0.0375    0.0250    0.0246    0.0256    0.0371   \n",
       "BuildingArea       0.1241  0.0910    0.0995    0.0555    0.1223    0.1119   \n",
       "YearBuilt         -0.0654 -0.3236    0.2464    0.0329   -0.0533    0.1527   \n",
       "Lattitude          0.0159 -0.2129   -0.1307   -0.4061    0.0159   -0.0706   \n",
       "Longtitude         0.1008  0.2037    0.2394    0.4454    0.1022    0.1190   \n",
       "Propertycount     -0.0815 -0.0422   -0.0549    0.0623   -0.0814   -0.0522   \n",
       "Date_num           0.1015  0.0114    0.2583    0.1007    0.1246    0.0494   \n",
       "Regionname_factor  0.1540  0.1324    0.5141    0.5029    0.1567    0.1525   \n",
       "\n",
       "                      Car  Landsize  BuildingArea  YearBuilt  Lattitude  \\\n",
       "Rooms              0.4085    0.0257        0.1241    -0.0654     0.0159   \n",
       "Price              0.2390    0.0375        0.0910    -0.3236    -0.2129   \n",
       "Distance           0.2630    0.0250        0.0995     0.2464    -0.1307   \n",
       "Postcode           0.0503    0.0246        0.0555     0.0329    -0.4061   \n",
       "Bedroom2           0.4053    0.0256        0.1223    -0.0533     0.0159   \n",
       "Bathroom           0.3222    0.0371        0.1119     0.1527    -0.0706   \n",
       "Car                1.0000    0.0268        0.0961     0.1045    -0.0020   \n",
       "Landsize           0.0268    1.0000        0.5005     0.0365     0.0097   \n",
       "BuildingArea       0.0961    0.5005        1.0000     0.0197     0.0434   \n",
       "YearBuilt          0.1045    0.0365        0.0197     1.0000     0.0604   \n",
       "Lattitude         -0.0020    0.0097        0.0434     0.0604     1.0000   \n",
       "Longtitude         0.0634    0.0108       -0.0238    -0.0035    -0.3576   \n",
       "Propertycount     -0.0243   -0.0069       -0.0288     0.0064     0.0471   \n",
       "Date_num           0.0936    0.0348        0.0221     0.1014     0.0002   \n",
       "Regionname_factor  0.1208    0.0157        0.0729     0.0641    -0.5645   \n",
       "\n",
       "                   Longtitude  Propertycount  Date_num  Regionname_factor  \n",
       "Rooms                  0.1008        -0.0815    0.1015             0.1540  \n",
       "Price                  0.2037        -0.0422    0.0114             0.1324  \n",
       "Distance               0.2394        -0.0549    0.2583             0.5141  \n",
       "Postcode               0.4454         0.0623    0.1007             0.5029  \n",
       "Bedroom2               0.1022        -0.0814    0.1246             0.1567  \n",
       "Bathroom               0.1190        -0.0522    0.0494             0.1525  \n",
       "Car                    0.0634        -0.0243    0.0936             0.1208  \n",
       "Landsize               0.0108        -0.0069    0.0348             0.0157  \n",
       "BuildingArea          -0.0238        -0.0288    0.0221             0.0729  \n",
       "YearBuilt             -0.0035         0.0064    0.1014             0.0641  \n",
       "Lattitude             -0.3576         0.0471    0.0002            -0.5645  \n",
       "Longtitude             1.0000         0.0660    0.0785             0.4856  \n",
       "Propertycount          0.0660         1.0000   -0.0021            -0.1877  \n",
       "Date_num               0.0785        -0.0021    1.0000             0.1462  \n",
       "Regionname_factor      0.4856        -0.1877    0.1462             1.0000  "
      ]
     },
     "execution_count": 26,
     "metadata": {},
     "output_type": "execute_result"
    }
   ],
   "source": [
    "## When the tool of grouped statistics is working.....\n",
    "## We may need something more abstract\n",
    "\n",
    "## Correlation matrix\n",
    "melb.corr()\n"
   ]
  },
  {
   "cell_type": "code",
   "execution_count": 27,
   "id": "designing-royal",
   "metadata": {},
   "outputs": [],
   "source": [
    "## With this tool, we can have a quick overview about the relationships between variables\n",
    "## Are those variables having small coefficients with Price should be excluded from model?\n",
    "## What is correlation in statistics?\n",
    "## What is correlation in real world?\n",
    "\n",
    "## Is the coefficients with Regionname_factor making sense?"
   ]
  },
  {
   "cell_type": "code",
   "execution_count": 27,
   "id": "dependent-guarantee",
   "metadata": {},
   "outputs": [
    {
     "data": {
      "text/html": [
       "<div>\n",
       "<style scoped>\n",
       "    .dataframe tbody tr th:only-of-type {\n",
       "        vertical-align: middle;\n",
       "    }\n",
       "\n",
       "    .dataframe tbody tr th {\n",
       "        vertical-align: top;\n",
       "    }\n",
       "\n",
       "    .dataframe thead th {\n",
       "        text-align: right;\n",
       "    }\n",
       "</style>\n",
       "<table border=\"1\" class=\"dataframe\">\n",
       "  <thead>\n",
       "    <tr style=\"text-align: right;\">\n",
       "      <th></th>\n",
       "      <th>YearBuilt</th>\n",
       "      <th>count</th>\n",
       "      <th>mean</th>\n",
       "    </tr>\n",
       "  </thead>\n",
       "  <tbody>\n",
       "    <tr>\n",
       "      <th>76</th>\n",
       "      <td>1951.0000</td>\n",
       "      <td>4</td>\n",
       "      <td>1762875.0000</td>\n",
       "    </tr>\n",
       "    <tr>\n",
       "      <th>77</th>\n",
       "      <td>1952.0000</td>\n",
       "      <td>4</td>\n",
       "      <td>1172500.0000</td>\n",
       "    </tr>\n",
       "    <tr>\n",
       "      <th>78</th>\n",
       "      <td>1953.0000</td>\n",
       "      <td>5</td>\n",
       "      <td>1357000.0000</td>\n",
       "    </tr>\n",
       "    <tr>\n",
       "      <th>79</th>\n",
       "      <td>1954.0000</td>\n",
       "      <td>3</td>\n",
       "      <td>1063666.6667</td>\n",
       "    </tr>\n",
       "    <tr>\n",
       "      <th>80</th>\n",
       "      <td>1955.0000</td>\n",
       "      <td>100</td>\n",
       "      <td>1064687.5000</td>\n",
       "    </tr>\n",
       "    <tr>\n",
       "      <th>...</th>\n",
       "      <td>...</td>\n",
       "      <td>...</td>\n",
       "      <td>...</td>\n",
       "    </tr>\n",
       "    <tr>\n",
       "      <th>139</th>\n",
       "      <td>2014.0000</td>\n",
       "      <td>100</td>\n",
       "      <td>921915.0000</td>\n",
       "    </tr>\n",
       "    <tr>\n",
       "      <th>140</th>\n",
       "      <td>2015.0000</td>\n",
       "      <td>65</td>\n",
       "      <td>1231484.6154</td>\n",
       "    </tr>\n",
       "    <tr>\n",
       "      <th>141</th>\n",
       "      <td>2016.0000</td>\n",
       "      <td>58</td>\n",
       "      <td>1523655.1724</td>\n",
       "    </tr>\n",
       "    <tr>\n",
       "      <th>142</th>\n",
       "      <td>2017.0000</td>\n",
       "      <td>18</td>\n",
       "      <td>1037972.2778</td>\n",
       "    </tr>\n",
       "    <tr>\n",
       "      <th>143</th>\n",
       "      <td>2018.0000</td>\n",
       "      <td>1</td>\n",
       "      <td>1310000.0000</td>\n",
       "    </tr>\n",
       "  </tbody>\n",
       "</table>\n",
       "<p>68 rows × 3 columns</p>\n",
       "</div>"
      ],
      "text/plain": [
       "     YearBuilt  count         mean\n",
       "76   1951.0000      4 1762875.0000\n",
       "77   1952.0000      4 1172500.0000\n",
       "78   1953.0000      5 1357000.0000\n",
       "79   1954.0000      3 1063666.6667\n",
       "80   1955.0000    100 1064687.5000\n",
       "..         ...    ...          ...\n",
       "139  2014.0000    100  921915.0000\n",
       "140  2015.0000     65 1231484.6154\n",
       "141  2016.0000     58 1523655.1724\n",
       "142  2017.0000     18 1037972.2778\n",
       "143  2018.0000      1 1310000.0000\n",
       "\n",
       "[68 rows x 3 columns]"
      ]
     },
     "execution_count": 27,
     "metadata": {},
     "output_type": "execute_result"
    }
   ],
   "source": [
    "## With the result above, \n",
    "## I'm curious why there is a negative correlation relationship between Price and YearBuilt.\n",
    "## Since it implies when YearBuilt goes up (\"younger\"), \n",
    "## Price will tend to be down (\"Cheaper\")\n",
    "\n",
    "mean_price_by_year = melb.groupby(\"YearBuilt\").Price.aggregate([\"count\", \"mean\"])\n",
    "\n",
    "## After the aggregate operation, YearBuilt is no longer treated as varible, but index\n",
    "## use reset_index to unset thing transformation\n",
    "mean_price_by_year = mean_price_by_year.reset_index()\n",
    "\n",
    "mean_price_by_year[mean_price_by_year.YearBuilt > 1950] "
   ]
  },
  {
   "cell_type": "markdown",
   "id": "featured-portuguese",
   "metadata": {},
   "source": [
    "### Data Visualization"
   ]
  },
  {
   "cell_type": "code",
   "execution_count": 29,
   "id": "charitable-johnson",
   "metadata": {},
   "outputs": [],
   "source": [
    "## The table of mean Price by YearBuilt is hard to read.....\n",
    "## Try some visualization maybe?\n"
   ]
  },
  {
   "cell_type": "code",
   "execution_count": 30,
   "id": "average-fisher",
   "metadata": {},
   "outputs": [
    {
     "data": {
      "text/plain": [
       "<AxesSubplot:xlabel='YearBuilt'>"
      ]
     },
     "execution_count": 30,
     "metadata": {},
     "output_type": "execute_result"
    },
    {
     "data": {
      "image/png": "[encoded data removed]",
      "text/plain": [
       "<Figure size 432x288 with 1 Axes>"
      ]
     },
     "metadata": {
      "needs_background": "light"
     },
     "output_type": "display_data"
    }
   ],
   "source": [
    "## A line plot of mean price, by yearbuilt\n",
    "## The correlation is right, the younger the cheaper.....\n",
    "\n",
    "mean_price_by_year[mean_price_by_year.YearBuilt > 1900].plot(x=\"YearBuilt\", y=\"mean\") "
   ]
  },
  {
   "cell_type": "code",
   "execution_count": 31,
   "id": "worth-eagle",
   "metadata": {},
   "outputs": [
    {
     "data": {
      "text/html": [
       "<div>\n",
       "<style scoped>\n",
       "    .dataframe tbody tr th:only-of-type {\n",
       "        vertical-align: middle;\n",
       "    }\n",
       "\n",
       "    .dataframe tbody tr th {\n",
       "        vertical-align: top;\n",
       "    }\n",
       "\n",
       "    .dataframe thead th {\n",
       "        text-align: right;\n",
       "    }\n",
       "</style>\n",
       "<table border=\"1\" class=\"dataframe\">\n",
       "  <thead>\n",
       "    <tr style=\"text-align: right;\">\n",
       "      <th></th>\n",
       "      <th>Price</th>\n",
       "      <th>unit_price</th>\n",
       "      <th>YearBuilt</th>\n",
       "    </tr>\n",
       "  </thead>\n",
       "  <tbody>\n",
       "    <tr>\n",
       "      <th>Price</th>\n",
       "      <td>1.0000</td>\n",
       "      <td>0.0622</td>\n",
       "      <td>-0.3236</td>\n",
       "    </tr>\n",
       "    <tr>\n",
       "      <th>unit_price</th>\n",
       "      <td>0.0622</td>\n",
       "      <td>1.0000</td>\n",
       "      <td>-0.0070</td>\n",
       "    </tr>\n",
       "    <tr>\n",
       "      <th>YearBuilt</th>\n",
       "      <td>-0.3236</td>\n",
       "      <td>-0.0070</td>\n",
       "      <td>1.0000</td>\n",
       "    </tr>\n",
       "  </tbody>\n",
       "</table>\n",
       "</div>"
      ],
      "text/plain": [
       "             Price  unit_price  YearBuilt\n",
       "Price       1.0000      0.0622    -0.3236\n",
       "unit_price  0.0622      1.0000    -0.0070\n",
       "YearBuilt  -0.3236     -0.0070     1.0000"
      ]
     },
     "execution_count": 31,
     "metadata": {},
     "output_type": "execute_result"
    }
   ],
   "source": [
    "## Maybe the old building is bigger?\n",
    "## a new column is coming....\n",
    "melb[\"unit_price\"] = melb.Price / melb.BuildingArea\n",
    "melb[[\"Price\", \"unit_price\", \"YearBuilt\"]].corr()\n",
    "\n"
   ]
  },
  {
   "cell_type": "code",
   "execution_count": 32,
   "id": "toxic-orchestra",
   "metadata": {},
   "outputs": [],
   "source": [
    "## After these few code blocks, what do we know now?\n",
    "## 1. We should put YearBuilt and BuildingArea into the model together if we need one of them\n",
    "## 2. Can I use unit_price in the prediction model?"
   ]
  },
  {
   "cell_type": "code",
   "execution_count": 33,
   "id": "anticipated-dubai",
   "metadata": {},
   "outputs": [],
   "source": [
    "## I can show you more about the visualization tools often used in my works...."
   ]
  },
  {
   "cell_type": "code",
   "execution_count": 34,
   "id": "indie-wisdom",
   "metadata": {},
   "outputs": [
    {
     "data": {
      "text/plain": [
       "<AxesSubplot:>"
      ]
     },
     "execution_count": 34,
     "metadata": {},
     "output_type": "execute_result"
    },
    {
     "data": {
      "image/png": "[encoded data removed]",
      "text/plain": [
       "<Figure size 432x288 with 1 Axes>"
      ]
     },
     "metadata": {
      "needs_background": "light"
     },
     "output_type": "display_data"
    }
   ],
   "source": [
    "## Bar plot\n",
    "melb.Regionname.value_counts().plot.bar()"
   ]
  },
  {
   "cell_type": "code",
   "execution_count": 35,
   "id": "advised-heritage",
   "metadata": {},
   "outputs": [
    {
     "data": {
      "text/plain": [
       "<AxesSubplot:ylabel='Frequency'>"
      ]
     },
     "execution_count": 35,
     "metadata": {},
     "output_type": "execute_result"
    },
    {
     "data": {
      "image/png": "[encoded data removed]",
      "text/plain": [
       "<Figure size 432x288 with 1 Axes>"
      ]
     },
     "metadata": {
      "needs_background": "light"
     },
     "output_type": "display_data"
    }
   ],
   "source": [
    "## histogram\n",
    "## What is the difference betweeen bar plot and histogram?\n",
    "melb.Distance.plot.hist()"
   ]
  },
  {
   "cell_type": "code",
   "execution_count": 36,
   "id": "banned-deployment",
   "metadata": {},
   "outputs": [
    {
     "data": {
      "text/plain": [
       "<AxesSubplot:ylabel='Density'>"
      ]
     },
     "execution_count": 36,
     "metadata": {},
     "output_type": "execute_result"
    },
    {
     "data": {
      "image/png": "[encoded data removed]",
      "text/plain": [
       "<Figure size 432x288 with 1 Axes>"
      ]
     },
     "metadata": {
      "needs_background": "light"
     },
     "output_type": "display_data"
    }
   ],
   "source": [
    "## density\n",
    "## What is the difference betweeen density and histogram?\n",
    "melb.Distance.plot.kde()"
   ]
  },
  {
   "cell_type": "code",
   "execution_count": 37,
   "id": "flush-accuracy",
   "metadata": {},
   "outputs": [
    {
     "data": {
      "text/plain": [
       "<AxesSubplot:>"
      ]
     },
     "execution_count": 37,
     "metadata": {},
     "output_type": "execute_result"
    },
    {
     "data": {
      "image/png": "[encoded data removed]",
      "text/plain": [
       "<Figure size 432x288 with 1 Axes>"
      ]
     },
     "metadata": {
      "needs_background": "light"
     },
     "output_type": "display_data"
    }
   ],
   "source": [
    "## Boxplot \n",
    "## The dot donates outliers.....\n",
    "melb.Landsize.plot.box()"
   ]
  },
  {
   "cell_type": "code",
   "execution_count": 38,
   "id": "adjustable-memorabilia",
   "metadata": {},
   "outputs": [
    {
     "data": {
      "text/plain": [
       "<AxesSubplot:xlabel='Landsize', ylabel='Price'>"
      ]
     },
     "execution_count": 38,
     "metadata": {},
     "output_type": "execute_result"
    },
    {
     "data": {
      "image/png": "[encoded data removed]",
      "text/plain": [
       "<Figure size 432x288 with 1 Axes>"
      ]
     },
     "metadata": {
      "needs_background": "light"
     },
     "output_type": "display_data"
    }
   ],
   "source": [
    "## scatter plot\n",
    "## yeah these crazy outliers og Landsize make this plot valueless\n",
    "melb.plot.scatter(x=\"Landsize\", y=\"Price\")\n"
   ]
  },
  {
   "cell_type": "code",
   "execution_count": 39,
   "id": "human-pressing",
   "metadata": {},
   "outputs": [
    {
     "data": {
      "text/plain": [
       "<AxesSubplot:xlabel='Landsize', ylabel='Price'>"
      ]
     },
     "execution_count": 39,
     "metadata": {},
     "output_type": "execute_result"
    },
    {
     "data": {
      "image/png": "[encoded data removed]",
      "text/plain": [
       "<Figure size 432x288 with 1 Axes>"
      ]
     },
     "metadata": {
      "needs_background": "light"
     },
     "output_type": "display_data"
    }
   ],
   "source": [
    "## scatter plot: 2\n",
    "## exclude outliers \n",
    "## Is there insight to you?\n",
    "melb[melb.Landsize < 10000].plot.scatter(x=\"Landsize\", y=\"Price\")"
   ]
  },
  {
   "cell_type": "markdown",
   "id": "recreational-interview",
   "metadata": {},
   "source": [
    "## Your first model: Linear Regression"
   ]
  },
  {
   "cell_type": "markdown",
   "id": "needed-cholesterol",
   "metadata": {},
   "source": [
    "### Round 1: Linear is all you need"
   ]
  },
  {
   "cell_type": "code",
   "execution_count": 166,
   "id": "planned-adrian",
   "metadata": {},
   "outputs": [],
   "source": [
    "## First, seperate the whole dataset into 2 parts\n",
    "## the first 10000 rows as melb_train\n",
    "## all the others as melb_test\n",
    "## and you should forget about melb_test when training th model\n",
    "\n",
    "melb_train = melb[:10000]\n",
    "melb_test = melb[10000:]"
   ]
  },
  {
   "cell_type": "code",
   "execution_count": 167,
   "id": "worst-finnish",
   "metadata": {},
   "outputs": [],
   "source": [
    "## Scikit-learn \n",
    "from sklearn.linear_model import LinearRegression\n",
    "\n",
    "## Initiate a model with intercept (b_0)\n",
    "lr_model = LinearRegression(fit_intercept=True)"
   ]
  },
  {
   "cell_type": "code",
   "execution_count": 169,
   "id": "worth-planning",
   "metadata": {},
   "outputs": [
    {
     "data": {
      "text/plain": [
       "<AxesSubplot:xlabel='Distance', ylabel='Price'>"
      ]
     },
     "execution_count": 169,
     "metadata": {},
     "output_type": "execute_result"
    },
    {
     "data": {
      "image/png": "[encoded data removed]",
      "text/plain": [
       "<Figure size 432x288 with 1 Axes>"
      ]
     },
     "metadata": {
      "needs_background": "light"
     },
     "output_type": "display_data"
    }
   ],
   "source": [
    "## First we try a model with only one feature: Distance\n",
    "melb_train.plot.scatter(y=\"Price\", x=\"Distance\")"
   ]
  },
  {
   "cell_type": "code",
   "execution_count": 170,
   "id": "defensive-contact",
   "metadata": {},
   "outputs": [
    {
     "data": {
      "text/plain": [
       "LinearRegression()"
      ]
     },
     "execution_count": 170,
     "metadata": {},
     "output_type": "execute_result"
    }
   ],
   "source": [
    "## select the features\n",
    "features_in_model = [\"Distance\"]\n",
    "X = melb_train[features_in_model]\n",
    "\n",
    "## select the prediction target\n",
    "y = melb_train[\"Price\"]\n",
    "\n",
    "## train the Linear regression model with y and X\n",
    "lr_model.fit(X, y)"
   ]
  },
  {
   "cell_type": "code",
   "execution_count": 171,
   "id": "ceramic-collector",
   "metadata": {},
   "outputs": [
    {
     "name": "stdout",
     "output_type": "stream",
     "text": [
      "b_0 = 1259111.5915\n",
      "b_1 = -17987.4190\n"
     ]
    },
    {
     "data": {
      "text/plain": [
       "[<matplotlib.lines.Line2D at 0x7f895f437910>]"
      ]
     },
     "execution_count": 171,
     "metadata": {},
     "output_type": "execute_result"
    },
    {
     "data": {
      "image/png": "[encoded data removed]",
      "text/plain": [
       "<Figure size 432x288 with 1 Axes>"
      ]
     },
     "metadata": {
      "needs_background": "light"
     },
     "output_type": "display_data"
    }
   ],
   "source": [
    "## The model we just fitted is:\n",
    "## Price = b_0 + b_1 * Distance\n",
    "\n",
    "print(\"b_0 = {:.4f}\".format(lr_model.intercept_))\n",
    "print(\"b_1 = {:.4f}\".format(lr_model.coef_[0]))\n",
    "\n",
    "## plot the result on the scatter plot\n",
    "lr_pred_price = lr_model.intercept_ + melb_train.Distance*lr_model.coef_[0]\n",
    "\n",
    "import matplotlib.pyplot as plt\n",
    "plt.scatter(melb_train.Distance, melb_train.Price)\n",
    "plt.plot(melb_train.Distance, lr_pred_price , color = \"red\")"
   ]
  },
  {
   "cell_type": "code",
   "execution_count": 172,
   "id": "decent-tender",
   "metadata": {},
   "outputs": [
    {
     "name": "stdout",
     "output_type": "stream",
     "text": [
      "R^2 = 0.0275\n"
     ]
    }
   ],
   "source": [
    "## If the target is prefectly predicted by the feature\n",
    "## all the data point (blue) will lay on the fitted line (red)\n",
    "## obviously, this model is not perfect\n",
    "## But how is it?\n",
    "print(\"R^2 = {:.4f}\".format(lr_model.score(X, y)))\n"
   ]
  },
  {
   "cell_type": "markdown",
   "id": "fleet-scale",
   "metadata": {},
   "source": [
    "### Round 2: more features, more obstacles"
   ]
  },
  {
   "cell_type": "code",
   "execution_count": 173,
   "id": "sweet-culture",
   "metadata": {},
   "outputs": [
    {
     "data": {
      "text/html": [
       "<div>\n",
       "<style scoped>\n",
       "    .dataframe tbody tr th:only-of-type {\n",
       "        vertical-align: middle;\n",
       "    }\n",
       "\n",
       "    .dataframe tbody tr th {\n",
       "        vertical-align: top;\n",
       "    }\n",
       "\n",
       "    .dataframe thead th {\n",
       "        text-align: right;\n",
       "    }\n",
       "</style>\n",
       "<table border=\"1\" class=\"dataframe\">\n",
       "  <thead>\n",
       "    <tr style=\"text-align: right;\">\n",
       "      <th></th>\n",
       "      <th>Distance</th>\n",
       "      <th>Rooms</th>\n",
       "      <th>YearBuilt</th>\n",
       "      <th>BuildingArea</th>\n",
       "      <th>Landsize</th>\n",
       "    </tr>\n",
       "  </thead>\n",
       "  <tbody>\n",
       "    <tr>\n",
       "      <th>0</th>\n",
       "      <td>12.0000</td>\n",
       "      <td>3</td>\n",
       "      <td>1960.0000</td>\n",
       "      <td>120.0000</td>\n",
       "      <td>586.0000</td>\n",
       "    </tr>\n",
       "    <tr>\n",
       "      <th>1</th>\n",
       "      <td>6.2000</td>\n",
       "      <td>3</td>\n",
       "      <td>NaN</td>\n",
       "      <td>NaN</td>\n",
       "      <td>449.0000</td>\n",
       "    </tr>\n",
       "    <tr>\n",
       "      <th>2</th>\n",
       "      <td>3.5000</td>\n",
       "      <td>3</td>\n",
       "      <td>NaN</td>\n",
       "      <td>NaN</td>\n",
       "      <td>370.0000</td>\n",
       "    </tr>\n",
       "    <tr>\n",
       "      <th>3</th>\n",
       "      <td>14.7000</td>\n",
       "      <td>4</td>\n",
       "      <td>2000.0000</td>\n",
       "      <td>244.0000</td>\n",
       "      <td>334.0000</td>\n",
       "    </tr>\n",
       "    <tr>\n",
       "      <th>4</th>\n",
       "      <td>13.0000</td>\n",
       "      <td>4</td>\n",
       "      <td>2008.0000</td>\n",
       "      <td>255.0000</td>\n",
       "      <td>354.0000</td>\n",
       "    </tr>\n",
       "  </tbody>\n",
       "</table>\n",
       "</div>"
      ],
      "text/plain": [
       "   Distance  Rooms  YearBuilt  BuildingArea  Landsize\n",
       "0   12.0000      3  1960.0000      120.0000  586.0000\n",
       "1    6.2000      3        NaN           NaN  449.0000\n",
       "2    3.5000      3        NaN           NaN  370.0000\n",
       "3   14.7000      4  2000.0000      244.0000  334.0000\n",
       "4   13.0000      4  2008.0000      255.0000  354.0000"
      ]
     },
     "execution_count": 173,
     "metadata": {},
     "output_type": "execute_result"
    }
   ],
   "source": [
    "## 0.02 is a poor result\n",
    "## Distance itself can't have much information for predicting price\n",
    "## we can try some another combination of features\n",
    "features_in_model = [\"Distance\", \"Rooms\", \"YearBuilt\", \"BuildingArea\",\"Landsize\"]\n",
    "\n",
    "X = melb_train[features_in_model]\n",
    "\n",
    "## However, there are missing data \n",
    "## NaN is \"Not a Number\"\n",
    "X.head()"
   ]
  },
  {
   "cell_type": "code",
   "execution_count": 157,
   "id": "sunrise-journalism",
   "metadata": {},
   "outputs": [
    {
     "data": {
      "text/plain": [
       "0     True\n",
       "1    False\n",
       "2    False\n",
       "3     True\n",
       "4     True\n",
       "dtype: bool"
      ]
     },
     "execution_count": 157,
     "metadata": {},
     "output_type": "execute_result"
    }
   ],
   "source": [
    "## When \"YearBuilt\" is not a number, the model can't multiply it with a coefficient\n",
    "## We can just keep all the rows with no missing value\n",
    "## the 2nd and 3rd row will be dropped\n",
    "flawless_rows = melb_train[features_in_model].isna().sum(axis=1) == 0\n",
    "flawless_rows.head()\n"
   ]
  },
  {
   "cell_type": "code",
   "execution_count": 174,
   "id": "transparent-judgment",
   "metadata": {},
   "outputs": [
    {
     "data": {
      "text/plain": [
       "LinearRegression()"
      ]
     },
     "execution_count": 174,
     "metadata": {},
     "output_type": "execute_result"
    }
   ],
   "source": [
    "## Select the features, and keep those rows with no missing value\n",
    "X = X.loc[flawless_rows, features_in_model]\n",
    "\n",
    "## apply same missing value policy on target\n",
    "y = melb_train.loc[flawless_rows, \"Price\"]\n",
    "\n",
    "## Initiate a model\n",
    "lr_model_v2 = LinearRegression(fit_intercept=True)\n",
    "\n",
    "## train the Linear regression model\n",
    "lr_model.fit(X, y)\n"
   ]
  },
  {
   "cell_type": "code",
   "execution_count": 175,
   "id": "checked-arena",
   "metadata": {},
   "outputs": [
    {
     "name": "stdout",
     "output_type": "stream",
     "text": [
      "b_0 = 8818093.8974\n",
      "b_1 = -29998.2911\n",
      "b_2 = 270512.6542\n",
      "b_3 = -4371.5463\n",
      "b_4 = 2293.5095\n",
      "b_5 = 33.8143\n"
     ]
    }
   ],
   "source": [
    "## The model v2 is:\n",
    "## Price = b_0 + b_1 * Distance + b_2 * Rooms + b_3 * YearBuilt +\n",
    "##         b_4 * BuildingArea + b_5 * Landsize\n",
    "\n",
    "print(\"b_0 = {:.4f}\".format(lr_model.intercept_))\n",
    "for i in range(len(lr_model.coef_)):\n",
    "    print(\"b_{} = {:.4f}\".format(i + 1,lr_model.coef_[i]))\n",
    "\n",
    "\n"
   ]
  },
  {
   "cell_type": "code",
   "execution_count": 176,
   "id": "direct-variable",
   "metadata": {},
   "outputs": [
    {
     "name": "stdout",
     "output_type": "stream",
     "text": [
      "R^2 = 0.4896\n"
     ]
    }
   ],
   "source": [
    "## overall performance\n",
    "## it's far better\n",
    "print(\"R^2 = {:.4f}\".format(lr_model.score(X, y)))"
   ]
  },
  {
   "cell_type": "markdown",
   "id": "introductory-jonathan",
   "metadata": {},
   "source": [
    "### Evaluate with test data "
   ]
  },
  {
   "cell_type": "code",
   "execution_count": 189,
   "id": "controlled-combine",
   "metadata": {},
   "outputs": [
    {
     "data": {
      "text/html": [
       "<div>\n",
       "<style scoped>\n",
       "    .dataframe tbody tr th:only-of-type {\n",
       "        vertical-align: middle;\n",
       "    }\n",
       "\n",
       "    .dataframe tbody tr th {\n",
       "        vertical-align: top;\n",
       "    }\n",
       "\n",
       "    .dataframe thead th {\n",
       "        text-align: right;\n",
       "    }\n",
       "</style>\n",
       "<table border=\"1\" class=\"dataframe\">\n",
       "  <thead>\n",
       "    <tr style=\"text-align: right;\">\n",
       "      <th></th>\n",
       "      <th>Distance</th>\n",
       "      <th>Rooms</th>\n",
       "      <th>YearBuilt</th>\n",
       "      <th>BuildingArea</th>\n",
       "      <th>Landsize</th>\n",
       "    </tr>\n",
       "  </thead>\n",
       "  <tbody>\n",
       "    <tr>\n",
       "      <th>10000</th>\n",
       "      <td>7.9000</td>\n",
       "      <td>3</td>\n",
       "      <td>1945.0000</td>\n",
       "      <td>170.0000</td>\n",
       "      <td>537.0000</td>\n",
       "    </tr>\n",
       "    <tr>\n",
       "      <th>10001</th>\n",
       "      <td>11.7000</td>\n",
       "      <td>3</td>\n",
       "      <td>1980.0000</td>\n",
       "      <td>NaN</td>\n",
       "      <td>273.0000</td>\n",
       "    </tr>\n",
       "    <tr>\n",
       "      <th>10002</th>\n",
       "      <td>7.8000</td>\n",
       "      <td>2</td>\n",
       "      <td>1965.0000</td>\n",
       "      <td>77.0000</td>\n",
       "      <td>0.0000</td>\n",
       "    </tr>\n",
       "    <tr>\n",
       "      <th>10003</th>\n",
       "      <td>7.5000</td>\n",
       "      <td>5</td>\n",
       "      <td>1915.0000</td>\n",
       "      <td>222.0000</td>\n",
       "      <td>1012.0000</td>\n",
       "    </tr>\n",
       "    <tr>\n",
       "      <th>10004</th>\n",
       "      <td>17.9000</td>\n",
       "      <td>3</td>\n",
       "      <td>1965.0000</td>\n",
       "      <td>135.0000</td>\n",
       "      <td>533.0000</td>\n",
       "    </tr>\n",
       "  </tbody>\n",
       "</table>\n",
       "</div>"
      ],
      "text/plain": [
       "       Distance  Rooms  YearBuilt  BuildingArea  Landsize\n",
       "10000    7.9000      3  1945.0000      170.0000  537.0000\n",
       "10001   11.7000      3  1980.0000           NaN  273.0000\n",
       "10002    7.8000      2  1965.0000       77.0000    0.0000\n",
       "10003    7.5000      5  1915.0000      222.0000 1012.0000\n",
       "10004   17.9000      3  1965.0000      135.0000  533.0000"
      ]
     },
     "execution_count": 189,
     "metadata": {},
     "output_type": "execute_result"
    }
   ],
   "source": [
    "## apply same logic on testing data\n",
    "## oops....... there are missing values in test data, too.....\n",
    "X_test = melb_test[features_in_model]\n",
    "y_test = melb_test[\"Price\"]\n",
    "\n",
    "X_test.head()\n"
   ]
  },
  {
   "cell_type": "code",
   "execution_count": 190,
   "id": "recorded-puzzle",
   "metadata": {},
   "outputs": [
    {
     "ename": "ValueError",
     "evalue": "Input contains NaN, infinity or a value too large for dtype('float64').",
     "output_type": "error",
     "traceback": [
      "\u001b[0;31m---------------------------------------------------------------------------\u001b[0m",
      "\u001b[0;31mValueError\u001b[0m                                Traceback (most recent call last)",
      "\u001b[0;32m<ipython-input-190-f47abd781222>\u001b[0m in \u001b[0;36m<module>\u001b[0;34m\u001b[0m\n\u001b[1;32m      1\u001b[0m \u001b[0;31m## what if just put test data like this into model?\u001b[0m\u001b[0;34m\u001b[0m\u001b[0;34m\u001b[0m\u001b[0;34m\u001b[0m\u001b[0m\n\u001b[0;32m----> 2\u001b[0;31m \u001b[0mlr_model\u001b[0m\u001b[0;34m.\u001b[0m\u001b[0mpredict\u001b[0m\u001b[0;34m(\u001b[0m\u001b[0mX_test\u001b[0m\u001b[0;34m)\u001b[0m\u001b[0;34m\u001b[0m\u001b[0;34m\u001b[0m\u001b[0m\n\u001b[0m",
      "\u001b[0;32m~/opt/miniconda3/envs/ntu-dac-ml/lib/python3.8/site-packages/sklearn/linear_model/_base.py\u001b[0m in \u001b[0;36mpredict\u001b[0;34m(self, X)\u001b[0m\n\u001b[1;32m    236\u001b[0m             \u001b[0mReturns\u001b[0m \u001b[0mpredicted\u001b[0m \u001b[0mvalues\u001b[0m\u001b[0;34m.\u001b[0m\u001b[0;34m\u001b[0m\u001b[0;34m\u001b[0m\u001b[0m\n\u001b[1;32m    237\u001b[0m         \"\"\"\n\u001b[0;32m--> 238\u001b[0;31m         \u001b[0;32mreturn\u001b[0m \u001b[0mself\u001b[0m\u001b[0;34m.\u001b[0m\u001b[0m_decision_function\u001b[0m\u001b[0;34m(\u001b[0m\u001b[0mX\u001b[0m\u001b[0;34m)\u001b[0m\u001b[0;34m\u001b[0m\u001b[0;34m\u001b[0m\u001b[0m\n\u001b[0m\u001b[1;32m    239\u001b[0m \u001b[0;34m\u001b[0m\u001b[0m\n\u001b[1;32m    240\u001b[0m     \u001b[0m_preprocess_data\u001b[0m \u001b[0;34m=\u001b[0m \u001b[0mstaticmethod\u001b[0m\u001b[0;34m(\u001b[0m\u001b[0m_preprocess_data\u001b[0m\u001b[0;34m)\u001b[0m\u001b[0;34m\u001b[0m\u001b[0;34m\u001b[0m\u001b[0m\n",
      "\u001b[0;32m~/opt/miniconda3/envs/ntu-dac-ml/lib/python3.8/site-packages/sklearn/linear_model/_base.py\u001b[0m in \u001b[0;36m_decision_function\u001b[0;34m(self, X)\u001b[0m\n\u001b[1;32m    218\u001b[0m         \u001b[0mcheck_is_fitted\u001b[0m\u001b[0;34m(\u001b[0m\u001b[0mself\u001b[0m\u001b[0;34m)\u001b[0m\u001b[0;34m\u001b[0m\u001b[0;34m\u001b[0m\u001b[0m\n\u001b[1;32m    219\u001b[0m \u001b[0;34m\u001b[0m\u001b[0m\n\u001b[0;32m--> 220\u001b[0;31m         \u001b[0mX\u001b[0m \u001b[0;34m=\u001b[0m \u001b[0mcheck_array\u001b[0m\u001b[0;34m(\u001b[0m\u001b[0mX\u001b[0m\u001b[0;34m,\u001b[0m \u001b[0maccept_sparse\u001b[0m\u001b[0;34m=\u001b[0m\u001b[0;34m[\u001b[0m\u001b[0;34m'csr'\u001b[0m\u001b[0;34m,\u001b[0m \u001b[0;34m'csc'\u001b[0m\u001b[0;34m,\u001b[0m \u001b[0;34m'coo'\u001b[0m\u001b[0;34m]\u001b[0m\u001b[0;34m)\u001b[0m\u001b[0;34m\u001b[0m\u001b[0;34m\u001b[0m\u001b[0m\n\u001b[0m\u001b[1;32m    221\u001b[0m         return safe_sparse_dot(X, self.coef_.T,\n\u001b[1;32m    222\u001b[0m                                dense_output=True) + self.intercept_\n",
      "\u001b[0;32m~/opt/miniconda3/envs/ntu-dac-ml/lib/python3.8/site-packages/sklearn/utils/validation.py\u001b[0m in \u001b[0;36minner_f\u001b[0;34m(*args, **kwargs)\u001b[0m\n\u001b[1;32m     61\u001b[0m             \u001b[0mextra_args\u001b[0m \u001b[0;34m=\u001b[0m \u001b[0mlen\u001b[0m\u001b[0;34m(\u001b[0m\u001b[0margs\u001b[0m\u001b[0;34m)\u001b[0m \u001b[0;34m-\u001b[0m \u001b[0mlen\u001b[0m\u001b[0;34m(\u001b[0m\u001b[0mall_args\u001b[0m\u001b[0;34m)\u001b[0m\u001b[0;34m\u001b[0m\u001b[0;34m\u001b[0m\u001b[0m\n\u001b[1;32m     62\u001b[0m             \u001b[0;32mif\u001b[0m \u001b[0mextra_args\u001b[0m \u001b[0;34m<=\u001b[0m \u001b[0;36m0\u001b[0m\u001b[0;34m:\u001b[0m\u001b[0;34m\u001b[0m\u001b[0;34m\u001b[0m\u001b[0m\n\u001b[0;32m---> 63\u001b[0;31m                 \u001b[0;32mreturn\u001b[0m \u001b[0mf\u001b[0m\u001b[0;34m(\u001b[0m\u001b[0;34m*\u001b[0m\u001b[0margs\u001b[0m\u001b[0;34m,\u001b[0m \u001b[0;34m**\u001b[0m\u001b[0mkwargs\u001b[0m\u001b[0;34m)\u001b[0m\u001b[0;34m\u001b[0m\u001b[0;34m\u001b[0m\u001b[0m\n\u001b[0m\u001b[1;32m     64\u001b[0m \u001b[0;34m\u001b[0m\u001b[0m\n\u001b[1;32m     65\u001b[0m             \u001b[0;31m# extra_args > 0\u001b[0m\u001b[0;34m\u001b[0m\u001b[0;34m\u001b[0m\u001b[0;34m\u001b[0m\u001b[0m\n",
      "\u001b[0;32m~/opt/miniconda3/envs/ntu-dac-ml/lib/python3.8/site-packages/sklearn/utils/validation.py\u001b[0m in \u001b[0;36mcheck_array\u001b[0;34m(array, accept_sparse, accept_large_sparse, dtype, order, copy, force_all_finite, ensure_2d, allow_nd, ensure_min_samples, ensure_min_features, estimator)\u001b[0m\n\u001b[1;32m    661\u001b[0m \u001b[0;34m\u001b[0m\u001b[0m\n\u001b[1;32m    662\u001b[0m         \u001b[0;32mif\u001b[0m \u001b[0mforce_all_finite\u001b[0m\u001b[0;34m:\u001b[0m\u001b[0;34m\u001b[0m\u001b[0;34m\u001b[0m\u001b[0m\n\u001b[0;32m--> 663\u001b[0;31m             _assert_all_finite(array,\n\u001b[0m\u001b[1;32m    664\u001b[0m                                allow_nan=force_all_finite == 'allow-nan')\n\u001b[1;32m    665\u001b[0m \u001b[0;34m\u001b[0m\u001b[0m\n",
      "\u001b[0;32m~/opt/miniconda3/envs/ntu-dac-ml/lib/python3.8/site-packages/sklearn/utils/validation.py\u001b[0m in \u001b[0;36m_assert_all_finite\u001b[0;34m(X, allow_nan, msg_dtype)\u001b[0m\n\u001b[1;32m    101\u001b[0m                 not allow_nan and not np.isfinite(X).all()):\n\u001b[1;32m    102\u001b[0m             \u001b[0mtype_err\u001b[0m \u001b[0;34m=\u001b[0m \u001b[0;34m'infinity'\u001b[0m \u001b[0;32mif\u001b[0m \u001b[0mallow_nan\u001b[0m \u001b[0;32melse\u001b[0m \u001b[0;34m'NaN, infinity'\u001b[0m\u001b[0;34m\u001b[0m\u001b[0;34m\u001b[0m\u001b[0m\n\u001b[0;32m--> 103\u001b[0;31m             raise ValueError(\n\u001b[0m\u001b[1;32m    104\u001b[0m                     \u001b[0mmsg_err\u001b[0m\u001b[0;34m.\u001b[0m\u001b[0mformat\u001b[0m\u001b[0;34m\u001b[0m\u001b[0;34m\u001b[0m\u001b[0m\n\u001b[1;32m    105\u001b[0m                     (type_err,\n",
      "\u001b[0;31mValueError\u001b[0m: Input contains NaN, infinity or a value too large for dtype('float64')."
     ]
    }
   ],
   "source": [
    "## what if just put test data like this into model?\n",
    "## ummmmmmm......\n",
    "lr_model.predict(X_test)"
   ]
  },
  {
   "cell_type": "code",
   "execution_count": 196,
   "id": "trained-kitty",
   "metadata": {},
   "outputs": [
    {
     "name": "stdout",
     "output_type": "stream",
     "text": [
      "R^2 on test data = 0.4808\n"
     ]
    }
   ],
   "source": [
    "## in part 1 of the tutorial, we drop those rows with missing value\n",
    "## just like what we did in the training phrase\n",
    "## how to handle missing values is a topic for later\n",
    "## but keep in mind: dropping data is bad! 壞份子! 抽煙bad!\n",
    "\n",
    "flawless_rows_test = melb_test[features_in_model].isna().sum(axis=1) == 0\n",
    "X_test = melb_test.loc[flawless_rows_test, features_in_model]\n",
    "y_test = melb_test.loc[flawless_rows_test, \"Price\"]\n",
    "\n",
    "## overall performance on test data\n",
    "print(\"R^2 on test data = {:.4f}\".format(lr_model.score(X_test, y_test)))"
   ]
  },
  {
   "cell_type": "markdown",
   "id": "attended-console",
   "metadata": {},
   "source": [
    "## Homework 1\n",
    "1. EDA and data visualization on this data. Share with your pals. Is your story convincing? Is your story implying something helpful to the prediction models? \n",
    "2. Try some other models, but keep them LinearRegression(). Record your design and the following train/test R^2. There are some small tips:\n",
    "    * different combination of variables\n",
    "    * use categorical variables (in a good way....)\n",
    "    * do some operations on numerics variables\n",
    "    * deal with the missing values (since it gives you more data to use)\n",
    "    \n",
    "3. The main topic in this part is a regression problem. What if it's a binary classification problem now? (i.e there are only \"1\" and \"0\" in y)\n",
    "    "
   ]
  },
  {
   "cell_type": "code",
   "execution_count": null,
   "id": "internal-black",
   "metadata": {},
   "outputs": [],
   "source": []
  },
  {
   "cell_type": "code",
   "execution_count": null,
   "id": "induced-subscriber",
   "metadata": {},
   "outputs": [],
   "source": []
  },
  {
   "cell_type": "code",
   "execution_count": null,
   "id": "satisfactory-gravity",
   "metadata": {},
   "outputs": [],
   "source": []
  }
 ],
 "metadata": {
  "kernelspec": {
   "display_name": "Python 3",
   "language": "python",
   "name": "python3"
  },
  "language_info": {
   "codemirror_mode": {
    "name": "ipython",
    "version": 3
   },
   "file_extension": ".py",
   "mimetype": "text/x-python",
   "name": "python",
   "nbconvert_exporter": "python",
   "pygments_lexer": "ipython3",
   "version": "3.8.8"
  }
 },
 "nbformat": 4,
 "nbformat_minor": 5
}
