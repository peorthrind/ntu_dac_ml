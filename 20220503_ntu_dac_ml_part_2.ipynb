{
 "cells": [
  {
   "cell_type": "markdown",
   "id": "spectacular-customer",
   "metadata": {},
   "source": [
    "# Machine learning, a tutorial, part II\n"
   ]
  },
  {
   "cell_type": "markdown",
   "id": "sonic-caribbean",
   "metadata": {},
   "source": [
    "## 2-1 Model evaluation"
   ]
  },
  {
   "cell_type": "code",
   "execution_count": 1,
   "id": "alive-delight",
   "metadata": {},
   "outputs": [],
   "source": [
    "## import packages\n",
    "import pandas as pd\n",
    "import numpy as np\n",
    "\n",
    "## some setting for better reading experience\n",
    "from IPython.display import display\n",
    "pd.options.display.max_columns = None\n",
    "pd.set_option('display.float_format', lambda x: '%.4f' % x)\n",
    "\n",
    "##  \n",
    "randomState = 8"
   ]
  },
  {
   "cell_type": "code",
   "execution_count": 2,
   "id": "neither-glucose",
   "metadata": {},
   "outputs": [],
   "source": [
    "## read data \n",
    "space = pd.read_csv(\"data/train.csv\").sample(frac=1, random_state=randomState).reset_index(drop=True)\n",
    "\n",
    "space_test = space[6000:]\n",
    "space_train = space[:6000]\n"
   ]
  },
  {
   "cell_type": "code",
   "execution_count": 3,
   "id": "08f2c21c",
   "metadata": {},
   "outputs": [
    {
     "data": {
      "text/plain": [
       "array([1, 0, 1, ..., 1, 0, 1])"
      ]
     },
     "execution_count": 3,
     "metadata": {},
     "output_type": "execute_result"
    }
   ],
   "source": [
    "## A basic classification model\n",
    "\n",
    "## Scikit-learn \n",
    "from sklearn.linear_model import LogisticRegression\n",
    "\n",
    "## Initiate a model with intercept (b_0)\n",
    "lg_model = LogisticRegression(fit_intercept=True)\n",
    "\n",
    "## the rest remains the same\n",
    "## select the features\n",
    "features_in_model = [\"Age\", \"RoomService\"]\n",
    "X = space_train.loc[:, features_in_model]\n",
    "X[\"Age\"] = X.Age.fillna(X.Age.mean())\n",
    "X[\"RoomService\"] = X.RoomService.fillna(0)\n",
    "\n",
    "## select the prediction target\n",
    "y = space_train.loc[:, \"Transported\"]\n",
    "y = y.replace({True:1, False:0})\n",
    "\n",
    "## train the Linear regression model with y and X\n",
    "lg_model.fit(X, y)\n",
    "\n",
    "## the predicted results are no longer \"probability\" but the \"predicted class\"\n",
    "lg_model.predict(X)"
   ]
  },
  {
   "cell_type": "code",
   "execution_count": 4,
   "id": "23728892",
   "metadata": {},
   "outputs": [
    {
     "data": {
      "text/html": [
       "<div>\n",
       "<style scoped>\n",
       "    .dataframe tbody tr th:only-of-type {\n",
       "        vertical-align: middle;\n",
       "    }\n",
       "\n",
       "    .dataframe tbody tr th {\n",
       "        vertical-align: top;\n",
       "    }\n",
       "\n",
       "    .dataframe thead th {\n",
       "        text-align: right;\n",
       "    }\n",
       "</style>\n",
       "<table border=\"1\" class=\"dataframe\">\n",
       "  <thead>\n",
       "    <tr style=\"text-align: right;\">\n",
       "      <th></th>\n",
       "      <th>true_transported</th>\n",
       "      <th>pred_transported</th>\n",
       "    </tr>\n",
       "  </thead>\n",
       "  <tbody>\n",
       "    <tr>\n",
       "      <th>0</th>\n",
       "      <td>1</td>\n",
       "      <td>1</td>\n",
       "    </tr>\n",
       "    <tr>\n",
       "      <th>1</th>\n",
       "      <td>1</td>\n",
       "      <td>0</td>\n",
       "    </tr>\n",
       "    <tr>\n",
       "      <th>2</th>\n",
       "      <td>1</td>\n",
       "      <td>1</td>\n",
       "    </tr>\n",
       "    <tr>\n",
       "      <th>3</th>\n",
       "      <td>1</td>\n",
       "      <td>1</td>\n",
       "    </tr>\n",
       "    <tr>\n",
       "      <th>4</th>\n",
       "      <td>1</td>\n",
       "      <td>1</td>\n",
       "    </tr>\n",
       "    <tr>\n",
       "      <th>...</th>\n",
       "      <td>...</td>\n",
       "      <td>...</td>\n",
       "    </tr>\n",
       "    <tr>\n",
       "      <th>5995</th>\n",
       "      <td>1</td>\n",
       "      <td>1</td>\n",
       "    </tr>\n",
       "    <tr>\n",
       "      <th>5996</th>\n",
       "      <td>1</td>\n",
       "      <td>1</td>\n",
       "    </tr>\n",
       "    <tr>\n",
       "      <th>5997</th>\n",
       "      <td>1</td>\n",
       "      <td>1</td>\n",
       "    </tr>\n",
       "    <tr>\n",
       "      <th>5998</th>\n",
       "      <td>0</td>\n",
       "      <td>0</td>\n",
       "    </tr>\n",
       "    <tr>\n",
       "      <th>5999</th>\n",
       "      <td>0</td>\n",
       "      <td>1</td>\n",
       "    </tr>\n",
       "  </tbody>\n",
       "</table>\n",
       "<p>6000 rows × 2 columns</p>\n",
       "</div>"
      ],
      "text/plain": [
       "      true_transported  pred_transported\n",
       "0                    1                 1\n",
       "1                    1                 0\n",
       "2                    1                 1\n",
       "3                    1                 1\n",
       "4                    1                 1\n",
       "...                ...               ...\n",
       "5995                 1                 1\n",
       "5996                 1                 1\n",
       "5997                 1                 1\n",
       "5998                 0                 0\n",
       "5999                 0                 1\n",
       "\n",
       "[6000 rows x 2 columns]"
      ]
     },
     "execution_count": 4,
     "metadata": {},
     "output_type": "execute_result"
    }
   ],
   "source": [
    "## some are right, some are wrong.....\n",
    "## How to summarize it?\n",
    "\n",
    "predicted_result = pd.DataFrame()\n",
    "predicted_result[\"true_transported\"] = y\n",
    "predicted_result[\"pred_transported\"] = lg_model.predict(X)\n",
    "\n",
    "predicted_result"
   ]
  },
  {
   "cell_type": "code",
   "execution_count": 5,
   "id": "7e90a658",
   "metadata": {},
   "outputs": [
    {
     "data": {
      "text/plain": [
       "true_transported  pred_transported\n",
       "0                 0                   1019\n",
       "                  1                   1931\n",
       "1                 0                    316\n",
       "                  1                   2734\n",
       "dtype: int64"
      ]
     },
     "execution_count": 5,
     "metadata": {},
     "output_type": "execute_result"
    }
   ],
   "source": [
    "predicted_result.groupby([\"true_transported\", \"pred_transported\"]).size() "
   ]
  },
  {
   "cell_type": "code",
   "execution_count": 6,
   "id": "7f6bc3eb",
   "metadata": {},
   "outputs": [
    {
     "data": {
      "text/plain": [
       "array([[1019, 1931],\n",
       "       [ 316, 2734]])"
      ]
     },
     "execution_count": 6,
     "metadata": {},
     "output_type": "execute_result"
    }
   ],
   "source": [
    "from sklearn.metrics import confusion_matrix\n",
    "\n",
    "confusion_matrix(y, lg_model.predict(X))\n"
   ]
  },
  {
   "cell_type": "code",
   "execution_count": 7,
   "id": "65414d14",
   "metadata": {},
   "outputs": [
    {
     "name": "stdout",
     "output_type": "stream",
     "text": [
      "true_transported  pred_transported\n",
      "0                 0                  0.1698\n",
      "                  1                  0.3218\n",
      "1                 0                  0.0527\n",
      "                  1                  0.4557\n",
      "dtype: float64\n",
      "0.6255\n",
      "0.6255\n"
     ]
    }
   ],
   "source": [
    "## % of having a right answer\n",
    "## ACCURACY\n",
    "\n",
    "print(predicted_result.groupby([\"true_transported\", \"pred_transported\"]).size()  / 6000)\n",
    "\n",
    "\n",
    "## same same....\n",
    "print(lg_model.score(X, y))\n",
    "\n",
    "from sklearn.metrics import accuracy_score\n",
    "\n",
    "print(accuracy_score(y, lg_model.predict(X)))"
   ]
  },
  {
   "cell_type": "code",
   "execution_count": 8,
   "id": "c1128d6b",
   "metadata": {},
   "outputs": [
    {
     "name": "stdout",
     "output_type": "stream",
     "text": [
      "              precision    recall  f1-score   support\n",
      "\n",
      "           0     0.7633    0.3454    0.4756      2950\n",
      "           1     0.5861    0.8964    0.7087      3050\n",
      "\n",
      "    accuracy                         0.6255      6000\n",
      "   macro avg     0.6747    0.6209    0.5922      6000\n",
      "weighted avg     0.6732    0.6255    0.5941      6000\n",
      "\n"
     ]
    }
   ],
   "source": [
    "## ALL metrics at once\n",
    "\n",
    "from sklearn.metrics import classification_report\n",
    "\n",
    "print(classification_report(y, lg_model.predict(X), digits=4))\n",
    "\n",
    "##"
   ]
  },
  {
   "cell_type": "code",
   "execution_count": 9,
   "id": "8da5a3f6",
   "metadata": {},
   "outputs": [
    {
     "name": "stdout",
     "output_type": "stream",
     "text": [
      "0.6644535704362323\n"
     ]
    }
   ],
   "source": [
    "## ROC AUC\n",
    "## https://paulvanderlaken.com/2019/08/16/roc-auc-precision-and-recall-visually-explained/\n",
    "## https://scikit-learn.org/stable/modules/generated/sklearn.metrics.roc_curve.html\n",
    "## https://scikit-learn.org/stable/modules/generated/sklearn.metrics.roc_auc_score.html\n",
    "\n",
    "import matplotlib.pyplot as plt\n",
    "from sklearn.metrics import roc_curve, RocCurveDisplay, auc, roc_auc_score\n",
    "\n",
    "## get the pred probability\n",
    "pred = lg_model.predict_proba(X)[:, 1]\n",
    "\n",
    "## AUC score\n",
    "print(roc_auc_score(y, pred))\n",
    "\n"
   ]
  },
  {
   "cell_type": "code",
   "execution_count": 10,
   "id": "bd11e05b",
   "metadata": {},
   "outputs": [
    {
     "data": {
      "image/png": "[encoded data removed]",
      "text/plain": [
       "<Figure size 640x480 with 1 Axes>"
      ]
     },
     "metadata": {},
     "output_type": "display_data"
    }
   ],
   "source": [
    "## the whole curve\n",
    "\n",
    "fpr, tpr, thresholds = roc_curve(y, pred)\n",
    "\n",
    "roc_auc = auc(fpr, tpr)\n",
    "display = RocCurveDisplay(fpr=fpr, tpr=tpr, roc_auc=roc_auc,\n",
    "                                   estimator_name='Logistic regression')\n",
    "display.plot()\n",
    "plt.show()\n",
    "\n"
   ]
  },
  {
   "cell_type": "markdown",
   "id": "entertaining-antarctica",
   "metadata": {},
   "source": [
    "## 2-2 Tree-based models"
   ]
  },
  {
   "cell_type": "markdown",
   "id": "stone-cooperative",
   "metadata": {},
   "source": [
    "### 2-2-1 A show case"
   ]
  },
  {
   "cell_type": "code",
   "execution_count": 11,
   "id": "lasting-robert",
   "metadata": {},
   "outputs": [
    {
     "name": "stdout",
     "output_type": "stream",
     "text": [
      "With the same processed data as linear model:\n",
      "Accuracy on training data = 0.7520\n",
      "ROC AUC score on training data = 0.8181\n"
     ]
    },
    {
     "data": {
      "text/plain": [
       "<sklearn.metrics._plot.roc_curve.RocCurveDisplay at 0x7fe14a13ceb0>"
      ]
     },
     "execution_count": 11,
     "metadata": {},
     "output_type": "execute_result"
    },
    {
     "data": {
      "image/png": "[encoded data removed]",
      "text/plain": [
       "<Figure size 640x480 with 1 Axes>"
      ]
     },
     "metadata": {},
     "output_type": "display_data"
    }
   ],
   "source": [
    "## Wait........ feel the burn......\n",
    "\n",
    "## a new tree based model\n",
    "from sklearn.ensemble import RandomForestClassifier\n",
    "\n",
    "rf_model = RandomForestClassifier()\n",
    "\n",
    "## all the same pipeline\n",
    "print(\"With the same processed data as linear model:\")\n",
    "rf_model.fit(X, y)\n",
    "\n",
    "\n",
    "print(\"Accuracy on training data = {:.4f}\".format(rf_model.score(X, y)))\n",
    "print(\"ROC AUC score on training data = {:.4f}\".format(roc_auc_score(y, rf_model.predict_proba(X)[:,1])))\n",
    "\n",
    "fpr, tpr, thresholds = roc_curve(y, rf_model.predict_proba(X)[:,1])\n",
    "\n",
    "roc_auc = auc(fpr, tpr)\n",
    "\n",
    "display_rf = RocCurveDisplay(fpr=fpr, tpr=tpr, roc_auc=roc_auc,\n",
    "                                   estimator_name='Random forest')\n",
    "\n",
    "display_rf.plot()\n",
    "#plt.show()\n",
    "\n",
    "##\n"
   ]
  },
  {
   "cell_type": "code",
   "execution_count": 12,
   "id": "colonial-finland",
   "metadata": {},
   "outputs": [
    {
     "name": "stdout",
     "output_type": "stream",
     "text": [
      "With the no-feature-engineering data (missing value only):\n",
      "Accuracy on training data = 0.7577\n",
      "ROC AUC score on training data = 0.8171\n",
      "Accuracy on test data = 0.6268\n",
      "ROC AUC score on test data = 0.6458\n"
     ]
    }
   ],
   "source": [
    "## it just works!!\n",
    "\n",
    "rf_model = RandomForestClassifier()\n",
    "\n",
    "print(\"With the no-feature-engineering data (missing value only):\")\n",
    "rf_model.fit(space_train.loc[:, features_in_model].fillna(-1), y)\n",
    "\n",
    "print(\"Accuracy on training data = {:.4f}\".format(rf_model.score(space_train.loc[:, features_in_model].fillna(-1), y)))\n",
    "print(\"ROC AUC score on training data = {:.4f}\".format(roc_auc_score(y, rf_model.predict_proba(X)[:,1])))\n",
    "\n",
    "\n",
    "## with test data\n",
    "print(\"Accuracy on test data = {:.4f}\".format(rf_model.score(space_test.loc[:, features_in_model].fillna(-1), \n",
    "                                                             space_test.loc[:, \"Transported\"].replace({True:1, False:0}))))\n",
    "print(\"ROC AUC score on test data = {:.4f}\".format(roc_auc_score(space_test.loc[:, \"Transported\"].replace({True:1, False:0}), \n",
    "                                                                 rf_model.predict_proba(space_test.loc[:, features_in_model].fillna(-1))[:,1])))\n",
    "\n"
   ]
  },
  {
   "cell_type": "markdown",
   "id": "living-maintenance",
   "metadata": {},
   "source": [
    "## 2-2-2 Random Forest\n",
    "https://scikit-learn.org/stable/modules/generated/sklearn.ensemble.RandomForestClassifier.html#sklearn.ensemble.RandomForestClassifier"
   ]
  },
  {
   "cell_type": "code",
   "execution_count": 13,
   "id": "ordinary-height",
   "metadata": {},
   "outputs": [
    {
     "data": {
      "text/html": [
       "<style>#sk-container-id-1 {color: black;background-color: white;}#sk-container-id-1 pre{padding: 0;}#sk-container-id-1 div.sk-toggleable {background-color: white;}#sk-container-id-1 label.sk-toggleable__label {cursor: pointer;display: block;width: 100%;margin-bottom: 0;padding: 0.3em;box-sizing: border-box;text-align: center;}#sk-container-id-1 label.sk-toggleable__label-arrow:before {content: \"▸\";float: left;margin-right: 0.25em;color: #696969;}#sk-container-id-1 label.sk-toggleable__label-arrow:hover:before {color: black;}#sk-container-id-1 div.sk-estimator:hover label.sk-toggleable__label-arrow:before {color: black;}#sk-container-id-1 div.sk-toggleable__content {max-height: 0;max-width: 0;overflow: hidden;text-align: left;background-color: #f0f8ff;}#sk-container-id-1 div.sk-toggleable__content pre {margin: 0.2em;color: black;border-radius: 0.25em;background-color: #f0f8ff;}#sk-container-id-1 input.sk-toggleable__control:checked~div.sk-toggleable__content {max-height: 200px;max-width: 100%;overflow: auto;}#sk-container-id-1 input.sk-toggleable__control:checked~label.sk-toggleable__label-arrow:before {content: \"▾\";}#sk-container-id-1 div.sk-estimator input.sk-toggleable__control:checked~label.sk-toggleable__label {background-color: #d4ebff;}#sk-container-id-1 div.sk-label input.sk-toggleable__control:checked~label.sk-toggleable__label {background-color: #d4ebff;}#sk-container-id-1 input.sk-hidden--visually {border: 0;clip: rect(1px 1px 1px 1px);clip: rect(1px, 1px, 1px, 1px);height: 1px;margin: -1px;overflow: hidden;padding: 0;position: absolute;width: 1px;}#sk-container-id-1 div.sk-estimator {font-family: monospace;background-color: #f0f8ff;border: 1px dotted black;border-radius: 0.25em;box-sizing: border-box;margin-bottom: 0.5em;}#sk-container-id-1 div.sk-estimator:hover {background-color: #d4ebff;}#sk-container-id-1 div.sk-parallel-item::after {content: \"\";width: 100%;border-bottom: 1px solid gray;flex-grow: 1;}#sk-container-id-1 div.sk-label:hover label.sk-toggleable__label {background-color: #d4ebff;}#sk-container-id-1 div.sk-serial::before {content: \"\";position: absolute;border-left: 1px solid gray;box-sizing: border-box;top: 0;bottom: 0;left: 50%;z-index: 0;}#sk-container-id-1 div.sk-serial {display: flex;flex-direction: column;align-items: center;background-color: white;padding-right: 0.2em;padding-left: 0.2em;position: relative;}#sk-container-id-1 div.sk-item {position: relative;z-index: 1;}#sk-container-id-1 div.sk-parallel {display: flex;align-items: stretch;justify-content: center;background-color: white;position: relative;}#sk-container-id-1 div.sk-item::before, #sk-container-id-1 div.sk-parallel-item::before {content: \"\";position: absolute;border-left: 1px solid gray;box-sizing: border-box;top: 0;bottom: 0;left: 50%;z-index: -1;}#sk-container-id-1 div.sk-parallel-item {display: flex;flex-direction: column;z-index: 1;position: relative;background-color: white;}#sk-container-id-1 div.sk-parallel-item:first-child::after {align-self: flex-end;width: 50%;}#sk-container-id-1 div.sk-parallel-item:last-child::after {align-self: flex-start;width: 50%;}#sk-container-id-1 div.sk-parallel-item:only-child::after {width: 0;}#sk-container-id-1 div.sk-dashed-wrapped {border: 1px dashed gray;margin: 0 0.4em 0.5em 0.4em;box-sizing: border-box;padding-bottom: 0.4em;background-color: white;}#sk-container-id-1 div.sk-label label {font-family: monospace;font-weight: bold;display: inline-block;line-height: 1.2em;}#sk-container-id-1 div.sk-label-container {text-align: center;}#sk-container-id-1 div.sk-container {/* jupyter's `normalize.less` sets `[hidden] { display: none; }` but bootstrap.min.css set `[hidden] { display: none !important; }` so we also need the `!important` here to be able to override the default hidden behavior on the sphinx rendered scikit-learn.org. See: https://github.com/scikit-learn/scikit-learn/issues/21755 */display: inline-block !important;position: relative;}#sk-container-id-1 div.sk-text-repr-fallback {display: none;}</style><div id=\"sk-container-id-1\" class=\"sk-top-container\"><div class=\"sk-text-repr-fallback\"><pre>DecisionTreeClassifier()</pre><b>In a Jupyter environment, please rerun this cell to show the HTML representation or trust the notebook. <br />On GitHub, the HTML representation is unable to render, please try loading this page with nbviewer.org.</b></div><div class=\"sk-container\" hidden><div class=\"sk-item\"><div class=\"sk-estimator sk-toggleable\"><input class=\"sk-toggleable__control sk-hidden--visually\" id=\"sk-estimator-id-1\" type=\"checkbox\" checked><label for=\"sk-estimator-id-1\" class=\"sk-toggleable__label sk-toggleable__label-arrow\">DecisionTreeClassifier</label><div class=\"sk-toggleable__content\"><pre>DecisionTreeClassifier()</pre></div></div></div></div></div>"
      ],
      "text/plain": [
       "DecisionTreeClassifier()"
      ]
     },
     "execution_count": 13,
     "metadata": {},
     "output_type": "execute_result"
    }
   ],
   "source": [
    "## We already have a random forest model above\n",
    "## just dig into it\n",
    "\n",
    "## it is constructed by many DecisionTrees\n",
    "rf_model.estimator_"
   ]
  },
  {
   "cell_type": "code",
   "execution_count": 14,
   "id": "tracked-friend",
   "metadata": {},
   "outputs": [
    {
     "data": {
      "text/plain": [
       "100"
      ]
     },
     "execution_count": 14,
     "metadata": {},
     "output_type": "execute_result"
    }
   ],
   "source": [
    "## 100 trees\n",
    "rf_model.n_estimators"
   ]
  },
  {
   "cell_type": "code",
   "execution_count": 15,
   "id": "indonesian-dialogue",
   "metadata": {},
   "outputs": [
    {
     "name": "stdout",
     "output_type": "stream",
     "text": [
      "With the no-feature-engineering data (missing value only):\n"
     ]
    },
    {
     "name": "stderr",
     "output_type": "stream",
     "text": [
      "[Parallel(n_jobs=3)]: Using backend ThreadingBackend with 3 concurrent workers.\n",
      "[Parallel(n_jobs=3)]: Done  44 tasks      | elapsed:    0.1s\n",
      "[Parallel(n_jobs=3)]: Done 194 tasks      | elapsed:    0.4s\n",
      "[Parallel(n_jobs=3)]: Done 300 out of 300 | elapsed:    0.6s finished\n",
      "[Parallel(n_jobs=3)]: Using backend ThreadingBackend with 3 concurrent workers.\n",
      "[Parallel(n_jobs=3)]: Done  44 tasks      | elapsed:    0.0s\n",
      "[Parallel(n_jobs=3)]: Done 194 tasks      | elapsed:    0.1s\n",
      "[Parallel(n_jobs=3)]: Done 300 out of 300 | elapsed:    0.1s finished\n",
      "[Parallel(n_jobs=3)]: Using backend ThreadingBackend with 3 concurrent workers.\n",
      "[Parallel(n_jobs=3)]: Done  44 tasks      | elapsed:    0.0s\n",
      "[Parallel(n_jobs=3)]: Done 194 tasks      | elapsed:    0.1s\n",
      "[Parallel(n_jobs=3)]: Done 300 out of 300 | elapsed:    0.1s finished\n",
      "[Parallel(n_jobs=3)]: Using backend ThreadingBackend with 3 concurrent workers.\n",
      "[Parallel(n_jobs=3)]: Done  44 tasks      | elapsed:    0.0s\n"
     ]
    },
    {
     "name": "stdout",
     "output_type": "stream",
     "text": [
      "Accuracy on training data = 0.6793\n",
      "ROC AUC score on training data = 0.7355\n",
      "Accuracy on test data = 0.6580\n",
      "ROC AUC score on test data = 0.6874\n"
     ]
    },
    {
     "name": "stderr",
     "output_type": "stream",
     "text": [
      "[Parallel(n_jobs=3)]: Done 194 tasks      | elapsed:    0.0s\n",
      "[Parallel(n_jobs=3)]: Done 300 out of 300 | elapsed:    0.1s finished\n",
      "[Parallel(n_jobs=3)]: Using backend ThreadingBackend with 3 concurrent workers.\n",
      "[Parallel(n_jobs=3)]: Done  44 tasks      | elapsed:    0.0s\n",
      "[Parallel(n_jobs=3)]: Done 194 tasks      | elapsed:    0.0s\n",
      "[Parallel(n_jobs=3)]: Done 300 out of 300 | elapsed:    0.1s finished\n"
     ]
    }
   ],
   "source": [
    "## As the manual shows, there are tons of hyperparameters to be set\n",
    "\n",
    "rf_model = RandomForestClassifier(\n",
    "    ## number of trees in forest, usually the more the better\n",
    "    n_estimators = 300,\n",
    "    ## these two controls the size of a tree = prune\n",
    "    ## the depth is big means the tree is big\n",
    "    ## the leaf is big means the tree is small (why?)\n",
    "    max_depth = 10, \n",
    "    min_samples_leaf = 5,\n",
    "    ## how many features can a decision tree use?\n",
    "    max_features =  \"sqrt\",\n",
    "    ## these two are the key of random forest\n",
    "    bootstrap = True,\n",
    "    oob_score = True,\n",
    "    ## multi-processing\n",
    "    n_jobs = 3,\n",
    "    ## showing messeges\n",
    "    verbose = 1\n",
    ")\n",
    "\n",
    "print(\"With the no-feature-engineering data (missing value only):\")\n",
    "rf_model.fit(space_train.loc[:, features_in_model].fillna(-1), y)\n",
    "\n",
    "print(\"Accuracy on training data = {:.4f}\".format(rf_model.score(space_train.loc[:, features_in_model].fillna(-1), y)))\n",
    "print(\"ROC AUC score on training data = {:.4f}\".format(roc_auc_score(y, rf_model.predict_proba(X)[:,1])))\n",
    "\n",
    "\n",
    "## with test data\n",
    "print(\"Accuracy on test data = {:.4f}\".format(rf_model.score(space_test.loc[:, features_in_model].fillna(-1), \n",
    "                                                             space_test.loc[:, \"Transported\"].replace({True:1, False:0}))))\n",
    "print(\"ROC AUC score on test data = {:.4f}\".format(roc_auc_score(space_test.loc[:, \"Transported\"].replace({True:1, False:0}), \n",
    "                                                                 rf_model.predict_proba(space_test.loc[:, features_in_model].fillna(-1))[:,1])))\n",
    "\n"
   ]
  },
  {
   "cell_type": "code",
   "execution_count": 16,
   "id": "arctic-vegetable",
   "metadata": {},
   "outputs": [
    {
     "name": "stdout",
     "output_type": "stream",
     "text": [
      "Accuracy on test data (2693 rows) = 0.6580,\n",
      "the oob score on training data (6000 rows) = 0.6642\n"
     ]
    },
    {
     "name": "stderr",
     "output_type": "stream",
     "text": [
      "[Parallel(n_jobs=3)]: Using backend ThreadingBackend with 3 concurrent workers.\n",
      "[Parallel(n_jobs=3)]: Done  44 tasks      | elapsed:    0.0s\n",
      "[Parallel(n_jobs=3)]: Done 194 tasks      | elapsed:    0.0s\n",
      "[Parallel(n_jobs=3)]: Done 300 out of 300 | elapsed:    0.1s finished\n"
     ]
    }
   ],
   "source": [
    "## Random forest offers an approximation of \"accuracy on test set\": oob score\n",
    "print(\"\"\"Accuracy on test data (2693 rows) = {:.4f},\n",
    "the oob score on training data (6000 rows) = {:.4f}\"\"\".format(rf_model.score(space_test.loc[:, features_in_model].fillna(-1), \n",
    "                                                             space_test.loc[:, \"Transported\"].replace({True:1, False:0})), \n",
    "                                                                    rf_model.oob_score_))\n",
    "##"
   ]
  },
  {
   "cell_type": "code",
   "execution_count": 17,
   "id": "c6d912f5",
   "metadata": {},
   "outputs": [
    {
     "data": {
      "text/plain": [
       "array([0.25313461, 0.74686539])"
      ]
     },
     "execution_count": 17,
     "metadata": {},
     "output_type": "execute_result"
    }
   ],
   "source": [
    "## There are more than predicted value\n",
    "\n",
    "rf_model.feature_importances_"
   ]
  },
  {
   "cell_type": "code",
   "execution_count": 18,
   "id": "4a6b1798",
   "metadata": {},
   "outputs": [
    {
     "name": "stdout",
     "output_type": "stream",
     "text": [
      "Feature improtance is this 2-variable model\n",
      "Age: 0.253135\n",
      "RoomService: 0.746865\n"
     ]
    }
   ],
   "source": [
    "print(\"Feature improtance is this 2-variable model\")\n",
    "for p in zip(features_in_model, rf_model.feature_importances_):\n",
    "    print(\"%s: %f\" % (p[0], p[1]))"
   ]
  },
  {
   "cell_type": "code",
   "execution_count": 19,
   "id": "32730b95",
   "metadata": {},
   "outputs": [
    {
     "name": "stderr",
     "output_type": "stream",
     "text": [
      "[Parallel(n_jobs=3)]: Using backend ThreadingBackend with 3 concurrent workers.\n",
      "[Parallel(n_jobs=3)]: Done  44 tasks      | elapsed:    0.0s\n",
      "[Parallel(n_jobs=3)]: Done 194 tasks      | elapsed:    0.0s\n",
      "[Parallel(n_jobs=3)]: Done 300 out of 300 | elapsed:    0.1s finished\n",
      "[Parallel(n_jobs=3)]: Using backend ThreadingBackend with 3 concurrent workers.\n",
      "[Parallel(n_jobs=3)]: Using backend ThreadingBackend with 3 concurrent workers.\n",
      "[Parallel(n_jobs=3)]: Done  44 tasks      | elapsed:    0.0s\n",
      "[Parallel(n_jobs=3)]: Done  44 tasks      | elapsed:    0.0s\n",
      "[Parallel(n_jobs=3)]: Done 194 tasks      | elapsed:    0.1s\n",
      "[Parallel(n_jobs=3)]: Done 194 tasks      | elapsed:    0.1s\n",
      "[Parallel(n_jobs=3)]: Done 300 out of 300 | elapsed:    0.1s finished\n",
      "[Parallel(n_jobs=3)]: Done 300 out of 300 | elapsed:    0.1s finished\n",
      "[Parallel(n_jobs=3)]: Using backend ThreadingBackend with 3 concurrent workers.\n",
      "[Parallel(n_jobs=3)]: Using backend ThreadingBackend with 3 concurrent workers.\n",
      "[Parallel(n_jobs=3)]: Done  44 tasks      | elapsed:    0.0s\n",
      "[Parallel(n_jobs=3)]: Done  44 tasks      | elapsed:    0.0s\n",
      "[Parallel(n_jobs=3)]: Done 194 tasks      | elapsed:    0.1s\n",
      "[Parallel(n_jobs=3)]: Done 194 tasks      | elapsed:    0.1s\n",
      "[Parallel(n_jobs=3)]: Done 300 out of 300 | elapsed:    0.1s finished\n",
      "[Parallel(n_jobs=3)]: Done 300 out of 300 | elapsed:    0.1s finished\n",
      "[Parallel(n_jobs=3)]: Using backend ThreadingBackend with 3 concurrent workers.\n",
      "[Parallel(n_jobs=3)]: Using backend ThreadingBackend with 3 concurrent workers.\n",
      "[Parallel(n_jobs=3)]: Done  44 tasks      | elapsed:    0.0s\n",
      "[Parallel(n_jobs=3)]: Done  44 tasks      | elapsed:    0.0s\n",
      "[Parallel(n_jobs=3)]: Done 194 tasks      | elapsed:    0.1s\n",
      "[Parallel(n_jobs=3)]: Done 194 tasks      | elapsed:    0.1s\n",
      "[Parallel(n_jobs=3)]: Done 300 out of 300 | elapsed:    0.1s finished\n",
      "[Parallel(n_jobs=3)]: Done 300 out of 300 | elapsed:    0.1s finished\n",
      "[Parallel(n_jobs=3)]: Using backend ThreadingBackend with 3 concurrent workers.\n",
      "[Parallel(n_jobs=3)]: Using backend ThreadingBackend with 3 concurrent workers.\n",
      "[Parallel(n_jobs=3)]: Done  44 tasks      | elapsed:    0.0s\n",
      "[Parallel(n_jobs=3)]: Done  44 tasks      | elapsed:    0.0s\n",
      "[Parallel(n_jobs=3)]: Done 194 tasks      | elapsed:    0.1s\n",
      "[Parallel(n_jobs=3)]: Done 194 tasks      | elapsed:    0.1s\n",
      "[Parallel(n_jobs=3)]: Done 300 out of 300 | elapsed:    0.1s finished\n",
      "[Parallel(n_jobs=3)]: Done 300 out of 300 | elapsed:    0.1s finished\n",
      "[Parallel(n_jobs=3)]: Using backend ThreadingBackend with 3 concurrent workers.\n",
      "[Parallel(n_jobs=3)]: Using backend ThreadingBackend with 3 concurrent workers.\n",
      "[Parallel(n_jobs=3)]: Done  44 tasks      | elapsed:    0.0s\n",
      "[Parallel(n_jobs=3)]: Done  44 tasks      | elapsed:    0.0s\n",
      "[Parallel(n_jobs=3)]: Done 194 tasks      | elapsed:    0.1s\n",
      "[Parallel(n_jobs=3)]: Done 194 tasks      | elapsed:    0.1s\n",
      "[Parallel(n_jobs=3)]: Done 300 out of 300 | elapsed:    0.1s finished\n",
      "[Parallel(n_jobs=3)]: Done 300 out of 300 | elapsed:    0.1s finished\n",
      "[Parallel(n_jobs=3)]: Using backend ThreadingBackend with 3 concurrent workers.\n",
      "[Parallel(n_jobs=3)]: Using backend ThreadingBackend with 3 concurrent workers.\n",
      "[Parallel(n_jobs=3)]: Done  44 tasks      | elapsed:    0.0s\n",
      "[Parallel(n_jobs=3)]: Done  44 tasks      | elapsed:    0.0s\n",
      "[Parallel(n_jobs=3)]: Done 194 tasks      | elapsed:    0.1s\n",
      "[Parallel(n_jobs=3)]: Done 194 tasks      | elapsed:    0.1s\n",
      "[Parallel(n_jobs=3)]: Done 300 out of 300 | elapsed:    0.1s finished\n",
      "[Parallel(n_jobs=3)]: Done 300 out of 300 | elapsed:    0.1s finished\n",
      "[Parallel(n_jobs=3)]: Using backend ThreadingBackend with 3 concurrent workers.\n",
      "[Parallel(n_jobs=3)]: Using backend ThreadingBackend with 3 concurrent workers.\n",
      "[Parallel(n_jobs=3)]: Done  44 tasks      | elapsed:    0.0s\n",
      "[Parallel(n_jobs=3)]: Done  44 tasks      | elapsed:    0.0s\n",
      "[Parallel(n_jobs=3)]: Done 194 tasks      | elapsed:    0.1s\n",
      "[Parallel(n_jobs=3)]: Done 194 tasks      | elapsed:    0.1s\n",
      "[Parallel(n_jobs=3)]: Done 300 out of 300 | elapsed:    0.1s finished\n",
      "[Parallel(n_jobs=3)]: Done 300 out of 300 | elapsed:    0.1s finished\n",
      "[Parallel(n_jobs=3)]: Using backend ThreadingBackend with 3 concurrent workers.\n",
      "[Parallel(n_jobs=3)]: Using backend ThreadingBackend with 3 concurrent workers.\n",
      "[Parallel(n_jobs=3)]: Done  44 tasks      | elapsed:    0.0s\n",
      "[Parallel(n_jobs=3)]: Done  44 tasks      | elapsed:    0.0s\n",
      "[Parallel(n_jobs=3)]: Done 194 tasks      | elapsed:    0.1s\n",
      "[Parallel(n_jobs=3)]: Done 194 tasks      | elapsed:    0.1s\n",
      "[Parallel(n_jobs=3)]: Done 300 out of 300 | elapsed:    0.1s finished\n",
      "[Parallel(n_jobs=3)]: Done 300 out of 300 | elapsed:    0.1s finished\n",
      "[Parallel(n_jobs=3)]: Using backend ThreadingBackend with 3 concurrent workers.\n",
      "[Parallel(n_jobs=3)]: Using backend ThreadingBackend with 3 concurrent workers.\n",
      "[Parallel(n_jobs=3)]: Done  44 tasks      | elapsed:    0.0s\n",
      "[Parallel(n_jobs=3)]: Done  44 tasks      | elapsed:    0.0s\n",
      "[Parallel(n_jobs=3)]: Done 194 tasks      | elapsed:    0.1s\n",
      "[Parallel(n_jobs=3)]: Done 194 tasks      | elapsed:    0.1s\n",
      "[Parallel(n_jobs=3)]: Done 300 out of 300 | elapsed:    0.1s finished\n",
      "[Parallel(n_jobs=3)]: Done 300 out of 300 | elapsed:    0.1s finished\n",
      "[Parallel(n_jobs=3)]: Using backend ThreadingBackend with 3 concurrent workers.\n",
      "[Parallel(n_jobs=3)]: Using backend ThreadingBackend with 3 concurrent workers.\n",
      "[Parallel(n_jobs=3)]: Done  44 tasks      | elapsed:    0.0s\n",
      "[Parallel(n_jobs=3)]: Done  44 tasks      | elapsed:    0.0s\n",
      "[Parallel(n_jobs=3)]: Done 194 tasks      | elapsed:    0.1s\n",
      "[Parallel(n_jobs=3)]: Done 194 tasks      | elapsed:    0.1s\n",
      "[Parallel(n_jobs=3)]: Done 300 out of 300 | elapsed:    0.1s finished\n",
      "[Parallel(n_jobs=3)]: Done 300 out of 300 | elapsed:    0.1s finished\n"
     ]
    },
    {
     "data": {
      "text/plain": [
       "Age           -0.0029\n",
       "RoomService    0.1646\n",
       "dtype: float64"
      ]
     },
     "execution_count": 19,
     "metadata": {},
     "output_type": "execute_result"
    }
   ],
   "source": [
    "## a different version of feature importance \n",
    "## https://scikit-learn.org/stable/modules/generated/sklearn.inspection.permutation_importance.html\n",
    "\n",
    "from sklearn.inspection import permutation_importance\n",
    "\n",
    "result = permutation_importance(\n",
    "    rf_model, \n",
    "    space_test.loc[:, features_in_model].fillna(-1), \n",
    "    space_test.loc[:, \"Transported\"].replace({True:1, False:0}), \n",
    "n_repeats=10, random_state=randomState, n_jobs=3\n",
    ")\n",
    "\n",
    "forest_importances = pd.Series(result.importances_mean, index=features_in_model)\n",
    "\n",
    "forest_importances"
   ]
  },
  {
   "cell_type": "markdown",
   "id": "9633ce77",
   "metadata": {},
   "source": [
    "## 2-3 Cross validation \n",
    "https://scikit-learn.org/stable/modules/cross_validation.html"
   ]
  },
  {
   "cell_type": "code",
   "execution_count": 20,
   "id": "442863d9",
   "metadata": {},
   "outputs": [
    {
     "name": "stdout",
     "output_type": "stream",
     "text": [
      "Mean CV Accuracy: 0.66220\n"
     ]
    }
   ],
   "source": [
    "### of course you can make the Cross validation procedure by yourself\n",
    "### define model, cut training data into k fold, choose k-1 to train and 1 for evaluation\n",
    "### repeat this for n times.....\n",
    "\n",
    "### or we can use a predefined procedure\n",
    "from sklearn.model_selection import cross_val_score\n",
    "from sklearn.model_selection import RepeatedKFold\n",
    "\n",
    "\n",
    "rf_model_cv = RandomForestClassifier(\n",
    "    n_estimators = 300,\n",
    "    max_depth = 10, \n",
    "    min_samples_leaf = 5,\n",
    "    max_features =  \"sqrt\",\n",
    "    bootstrap = True,\n",
    "    oob_score = True\n",
    ")\n",
    "\n",
    "\n",
    "# define evaluation procedure\n",
    "rf_cv = RepeatedKFold(n_splits=5 , n_repeats=10, random_state=randomState)\n",
    "\n",
    "# evaluate model\n",
    "rf_cv_scores = cross_val_score(rf_model_cv, \n",
    "                         X = space_train.loc[:, features_in_model].fillna(-1), \n",
    "                         y = y,\n",
    "                         cv= rf_cv, \n",
    "                               n_jobs=-1)\n",
    "# summarize performance\n",
    "print('Mean CV Accuracy: %.5f' % np.mean(rf_cv_scores))\n",
    "\n"
   ]
  },
  {
   "cell_type": "code",
   "execution_count": 21,
   "id": "9c9a11e4",
   "metadata": {},
   "outputs": [
    {
     "name": "stdout",
     "output_type": "stream",
     "text": [
      "Accuracy on training data = 0.6793\n",
      "Accuracy on test data = 0.6580\n"
     ]
    },
    {
     "name": "stderr",
     "output_type": "stream",
     "text": [
      "[Parallel(n_jobs=3)]: Using backend ThreadingBackend with 3 concurrent workers.\n",
      "[Parallel(n_jobs=3)]: Done  44 tasks      | elapsed:    0.0s\n",
      "[Parallel(n_jobs=3)]: Done 194 tasks      | elapsed:    0.1s\n",
      "[Parallel(n_jobs=3)]: Done 300 out of 300 | elapsed:    0.1s finished\n",
      "[Parallel(n_jobs=3)]: Using backend ThreadingBackend with 3 concurrent workers.\n",
      "[Parallel(n_jobs=3)]: Done  44 tasks      | elapsed:    0.0s\n",
      "[Parallel(n_jobs=3)]: Done 194 tasks      | elapsed:    0.0s\n",
      "[Parallel(n_jobs=3)]: Done 300 out of 300 | elapsed:    0.1s finished\n"
     ]
    }
   ],
   "source": [
    "print(\"Accuracy on training data = {:.4f}\".format(rf_model.score(space_train.loc[:, features_in_model].fillna(-1), y)))\n",
    "\n",
    "print(\"Accuracy on test data = {:.4f}\".format(rf_model.score(space_test.loc[:, features_in_model].fillna(-1), \n",
    "                                                             space_test.loc[:, \"Transported\"].replace({True:1, False:0}))))"
   ]
  },
  {
   "cell_type": "code",
   "execution_count": null,
   "id": "301a983b",
   "metadata": {},
   "outputs": [],
   "source": [
    "### best scenario for CV: hyperparameter tuning\n",
    "\n",
    "rf_model_cv = RandomForestClassifier(\n",
    "    n_estimators = 300,\n",
    "    criterion = \"entropy\", ## a different measure of the splitting quality\n",
    "    max_depth = 10, \n",
    "    min_samples_leaf = 20, ## from 5 to 20\n",
    "    max_features =  \"sqrt\",\n",
    "    bootstrap = True,\n",
    "    oob_score = True\n",
    ")\n",
    "\n",
    "\n",
    "\n",
    "# define evaluation procedure\n",
    "rf_cv = RepeatedKFold(n_splits=5 , n_repeats=10, random_state=randomState)\n",
    "\n",
    "# evaluate model\n",
    "rf_cv_scores = cross_val_score(rf_model_cv, \n",
    "                         X = space_train.loc[:, features_in_model].fillna(-1), \n",
    "                         y = y,\n",
    "                         cv= rf_cv, \n",
    "                               n_jobs=-1)\n",
    "# summarize performance\n",
    "print('Mean CV Accuracy: %.5f' % np.mean(rf_cv_scores))\n"
   ]
  },
  {
   "cell_type": "markdown",
   "id": "optical-momentum",
   "metadata": {},
   "source": [
    "\n",
    "## Homeworks\n",
    "\n",
    "1. Read the docs of scikit-learn about the random forest\n",
    "2. Try some different feature pre-processing method and hyperparameters. Then evaluate them with CV manner\n",
    "3. How about some different scoring method? (default: accuracy)\n",
    "4. Record the settings and following scores, which one is the best? why?\n",
    "\n"
   ]
  },
  {
   "cell_type": "code",
   "execution_count": null,
   "id": "olive-enemy",
   "metadata": {},
   "outputs": [],
   "source": []
  }
 ],
 "metadata": {
  "kernelspec": {
   "display_name": "Python 3 (ipykernel)",
   "language": "python",
   "name": "python3"
  },
  "language_info": {
   "codemirror_mode": {
    "name": "ipython",
    "version": 3
   },
   "file_extension": ".py",
   "mimetype": "text/x-python",
   "name": "python",
   "nbconvert_exporter": "python",
   "pygments_lexer": "ipython3",
   "version": "3.9.16"
  }
 },
 "nbformat": 4,
 "nbformat_minor": 5
}
