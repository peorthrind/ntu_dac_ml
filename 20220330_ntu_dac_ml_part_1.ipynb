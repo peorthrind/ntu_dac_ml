{
 "cells": [
  {
   "cell_type": "markdown",
   "id": "chemical-packaging",
   "metadata": {},
   "source": [
    "# Machine learning, a tutorial, part I"
   ]
  },
  {
   "cell_type": "markdown",
   "id": "younger-radiation",
   "metadata": {},
   "source": [
    "## 1-0 Sunmary\n",
    "In this tutorial, a dataset about Melbourne Housing is being used.\n",
    "The goal is building good machine learning models to PREDITCT HOUSE PRICE.\n"
   ]
  },
  {
   "cell_type": "markdown",
   "id": "dried-pilot",
   "metadata": {},
   "source": [
    "## 1-1: What is machine learning?"
   ]
  },
  {
   "cell_type": "markdown",
   "id": "current-cable",
   "metadata": {},
   "source": [
    "## 1-2: Data type and a quick trip"
   ]
  },
  {
   "cell_type": "code",
   "execution_count": 1,
   "id": "cosmetic-reporter",
   "metadata": {},
   "outputs": [],
   "source": [
    "## import packages\n",
    "import pandas as pd\n",
    "\n",
    "## some setting for better reading experience\n",
    "from IPython.display import display\n",
    "pd.options.display.max_columns = None\n",
    "pd.set_option('display.float_format', lambda x: '%.4f' % x)\n",
    "\n",
    "##  \n",
    "randomState = 8"
   ]
  },
  {
   "cell_type": "code",
   "execution_count": 2,
   "id": "worth-gender",
   "metadata": {},
   "outputs": [
    {
     "data": {
      "text/html": [
       "<div>\n",
       "<style scoped>\n",
       "    .dataframe tbody tr th:only-of-type {\n",
       "        vertical-align: middle;\n",
       "    }\n",
       "\n",
       "    .dataframe tbody tr th {\n",
       "        vertical-align: top;\n",
       "    }\n",
       "\n",
       "    .dataframe thead th {\n",
       "        text-align: right;\n",
       "    }\n",
       "</style>\n",
       "<table border=\"1\" class=\"dataframe\">\n",
       "  <thead>\n",
       "    <tr style=\"text-align: right;\">\n",
       "      <th></th>\n",
       "      <th>Suburb</th>\n",
       "      <th>Address</th>\n",
       "      <th>Rooms</th>\n",
       "      <th>Type</th>\n",
       "      <th>Price</th>\n",
       "      <th>Method</th>\n",
       "      <th>SellerG</th>\n",
       "      <th>Date</th>\n",
       "      <th>Distance</th>\n",
       "      <th>Postcode</th>\n",
       "      <th>Bedroom2</th>\n",
       "      <th>Bathroom</th>\n",
       "      <th>Car</th>\n",
       "      <th>Landsize</th>\n",
       "      <th>BuildingArea</th>\n",
       "      <th>YearBuilt</th>\n",
       "      <th>CouncilArea</th>\n",
       "      <th>Lattitude</th>\n",
       "      <th>Longtitude</th>\n",
       "      <th>Regionname</th>\n",
       "      <th>Propertycount</th>\n",
       "    </tr>\n",
       "  </thead>\n",
       "  <tbody>\n",
       "    <tr>\n",
       "      <th>0</th>\n",
       "      <td>Kew</td>\n",
       "      <td>27 Earl St</td>\n",
       "      <td>3</td>\n",
       "      <td>h</td>\n",
       "      <td>1410000.0000</td>\n",
       "      <td>PI</td>\n",
       "      <td>Fletchers</td>\n",
       "      <td>24/09/2016</td>\n",
       "      <td>5.6000</td>\n",
       "      <td>3101.0000</td>\n",
       "      <td>3.0000</td>\n",
       "      <td>1.0000</td>\n",
       "      <td>1.0000</td>\n",
       "      <td>519.0000</td>\n",
       "      <td>NaN</td>\n",
       "      <td>NaN</td>\n",
       "      <td>Boroondara</td>\n",
       "      <td>-37.7960</td>\n",
       "      <td>145.0377</td>\n",
       "      <td>Southern Metropolitan</td>\n",
       "      <td>10331.0000</td>\n",
       "    </tr>\n",
       "    <tr>\n",
       "      <th>1</th>\n",
       "      <td>Hoppers Crossing</td>\n",
       "      <td>2 Dunk Ct</td>\n",
       "      <td>3</td>\n",
       "      <td>h</td>\n",
       "      <td>418000.0000</td>\n",
       "      <td>S</td>\n",
       "      <td>Ray</td>\n",
       "      <td>27/05/2017</td>\n",
       "      <td>18.4000</td>\n",
       "      <td>3029.0000</td>\n",
       "      <td>3.0000</td>\n",
       "      <td>2.0000</td>\n",
       "      <td>1.0000</td>\n",
       "      <td>435.0000</td>\n",
       "      <td>NaN</td>\n",
       "      <td>NaN</td>\n",
       "      <td>Wyndham</td>\n",
       "      <td>-37.8677</td>\n",
       "      <td>144.6841</td>\n",
       "      <td>Western Metropolitan</td>\n",
       "      <td>13830.0000</td>\n",
       "    </tr>\n",
       "    <tr>\n",
       "      <th>2</th>\n",
       "      <td>Sunshine</td>\n",
       "      <td>17 Leonard St</td>\n",
       "      <td>3</td>\n",
       "      <td>h</td>\n",
       "      <td>850000.0000</td>\n",
       "      <td>S</td>\n",
       "      <td>Douglas</td>\n",
       "      <td>18/06/2016</td>\n",
       "      <td>12.6000</td>\n",
       "      <td>3020.0000</td>\n",
       "      <td>3.0000</td>\n",
       "      <td>1.0000</td>\n",
       "      <td>2.0000</td>\n",
       "      <td>505.0000</td>\n",
       "      <td>NaN</td>\n",
       "      <td>1970.0000</td>\n",
       "      <td>Brimbank</td>\n",
       "      <td>-37.7798</td>\n",
       "      <td>144.8352</td>\n",
       "      <td>Western Metropolitan</td>\n",
       "      <td>3755.0000</td>\n",
       "    </tr>\n",
       "    <tr>\n",
       "      <th>3</th>\n",
       "      <td>Albert Park</td>\n",
       "      <td>102 Graham St</td>\n",
       "      <td>3</td>\n",
       "      <td>h</td>\n",
       "      <td>2155000.0000</td>\n",
       "      <td>S</td>\n",
       "      <td>RT</td>\n",
       "      <td>8/04/2017</td>\n",
       "      <td>3.3000</td>\n",
       "      <td>3206.0000</td>\n",
       "      <td>3.0000</td>\n",
       "      <td>2.0000</td>\n",
       "      <td>0.0000</td>\n",
       "      <td>130.0000</td>\n",
       "      <td>NaN</td>\n",
       "      <td>NaN</td>\n",
       "      <td>Port Phillip</td>\n",
       "      <td>-37.8453</td>\n",
       "      <td>144.9490</td>\n",
       "      <td>Southern Metropolitan</td>\n",
       "      <td>3280.0000</td>\n",
       "    </tr>\n",
       "    <tr>\n",
       "      <th>4</th>\n",
       "      <td>Murrumbeena</td>\n",
       "      <td>49 Dalny Rd</td>\n",
       "      <td>3</td>\n",
       "      <td>h</td>\n",
       "      <td>1100000.0000</td>\n",
       "      <td>VB</td>\n",
       "      <td>hockingstuart</td>\n",
       "      <td>27/06/2016</td>\n",
       "      <td>12.1000</td>\n",
       "      <td>3163.0000</td>\n",
       "      <td>3.0000</td>\n",
       "      <td>2.0000</td>\n",
       "      <td>2.0000</td>\n",
       "      <td>506.0000</td>\n",
       "      <td>169.0000</td>\n",
       "      <td>1950.0000</td>\n",
       "      <td>Glen Eira</td>\n",
       "      <td>-37.9020</td>\n",
       "      <td>145.0705</td>\n",
       "      <td>Southern Metropolitan</td>\n",
       "      <td>4442.0000</td>\n",
       "    </tr>\n",
       "  </tbody>\n",
       "</table>\n",
       "</div>"
      ],
      "text/plain": [
       "             Suburb        Address  Rooms Type        Price Method  \\\n",
       "0               Kew     27 Earl St      3    h 1410000.0000     PI   \n",
       "1  Hoppers Crossing      2 Dunk Ct      3    h  418000.0000      S   \n",
       "2          Sunshine  17 Leonard St      3    h  850000.0000      S   \n",
       "3       Albert Park  102 Graham St      3    h 2155000.0000      S   \n",
       "4       Murrumbeena    49 Dalny Rd      3    h 1100000.0000     VB   \n",
       "\n",
       "         SellerG        Date  Distance  Postcode  Bedroom2  Bathroom    Car  \\\n",
       "0      Fletchers  24/09/2016    5.6000 3101.0000    3.0000    1.0000 1.0000   \n",
       "1            Ray  27/05/2017   18.4000 3029.0000    3.0000    2.0000 1.0000   \n",
       "2        Douglas  18/06/2016   12.6000 3020.0000    3.0000    1.0000 2.0000   \n",
       "3             RT   8/04/2017    3.3000 3206.0000    3.0000    2.0000 0.0000   \n",
       "4  hockingstuart  27/06/2016   12.1000 3163.0000    3.0000    2.0000 2.0000   \n",
       "\n",
       "   Landsize  BuildingArea  YearBuilt   CouncilArea  Lattitude  Longtitude  \\\n",
       "0  519.0000           NaN        NaN    Boroondara   -37.7960    145.0377   \n",
       "1  435.0000           NaN        NaN       Wyndham   -37.8677    144.6841   \n",
       "2  505.0000           NaN  1970.0000      Brimbank   -37.7798    144.8352   \n",
       "3  130.0000           NaN        NaN  Port Phillip   -37.8453    144.9490   \n",
       "4  506.0000      169.0000  1950.0000     Glen Eira   -37.9020    145.0705   \n",
       "\n",
       "              Regionname  Propertycount  \n",
       "0  Southern Metropolitan     10331.0000  \n",
       "1   Western Metropolitan     13830.0000  \n",
       "2   Western Metropolitan      3755.0000  \n",
       "3  Southern Metropolitan      3280.0000  \n",
       "4  Southern Metropolitan      4442.0000  "
      ]
     },
     "execution_count": 2,
     "metadata": {},
     "output_type": "execute_result"
    }
   ],
   "source": [
    "## read data \n",
    "melb = pd.read_csv(\"data/melb_training_data.csv\").sample(frac=1, random_state=randomState).reset_index(drop=True)\n",
    "melb.drop(columns = [\"Unnamed: 0\"], inplace=True)\n",
    "\n",
    "melb_test = melb[9000:]\n",
    "melb = melb[:9000]\n",
    "\n",
    "## a quick peek\n",
    "melb.head()"
   ]
  },
  {
   "cell_type": "markdown",
   "id": "stupid-rhythm",
   "metadata": {},
   "source": [
    "### Notes on Specific Variables\n",
    "\n",
    "* Rooms: Number of rooms\n",
    "\n",
    "* Price: Price in dollars\n",
    "\n",
    "* Method: S - property sold; SP - property sold prior; PI - property passed in; PN - sold prior not disclosed; SN - sold not disclosed; NB - no bid; VB - vendor bid; W - withdrawn prior to auction; SA - sold after auction; SS - sold after auction price not disclosed. N/A - price or highest bid not available.\n",
    "\n",
    "* Type: br - bedroom(s); h - house,cottage,villa, semi,terrace; u - unit, duplex; t - townhouse; dev site - development site; o res - other residential.\n",
    "\n",
    "* SellerG: Real Estate Agent\n",
    "\n",
    "* Date: Date sold\n",
    "\n",
    "* Distance: Distance from CBD\n",
    "\n",
    "* Regionname: General Region (West, North West, North, North east …etc)\n",
    "\n",
    "* Propertycount: Number of properties that exist in the suburb.\n",
    "\n",
    "* Bedroom2 : Scraped # of Bedrooms (from different source)\n",
    "\n",
    "* Bathroom: Number of Bathrooms\n",
    "\n",
    "* Car: Number of carspots\n",
    "\n",
    "* Landsize: Land Size\n",
    "\n",
    "* BuildingArea: Building Size\n",
    "\n",
    "* CouncilArea: Governing council for the area\n",
    "\n"
   ]
  },
  {
   "cell_type": "code",
   "execution_count": 9,
   "id": "apart-romantic",
   "metadata": {},
   "outputs": [
    {
     "data": {
      "text/plain": [
       "Suburb                      object\n",
       "Address                     object\n",
       "Rooms                        int64\n",
       "Type                        object\n",
       "Price                      float64\n",
       "Method                      object\n",
       "SellerG                     object\n",
       "Date                        object\n",
       "Distance                   float64\n",
       "Postcode                   float64\n",
       "Bedroom2                   float64\n",
       "Bathroom                   float64\n",
       "Car                        float64\n",
       "Landsize                   float64\n",
       "BuildingArea               float64\n",
       "YearBuilt                  float64\n",
       "CouncilArea                 object\n",
       "Lattitude                  float64\n",
       "Longtitude                 float64\n",
       "Regionname                  object\n",
       "Propertycount              float64\n",
       "Date_in_datetime    datetime64[ns]\n",
       "Date_num                     int64\n",
       "dtype: object"
      ]
     },
     "execution_count": 9,
     "metadata": {},
     "output_type": "execute_result"
    }
   ],
   "source": [
    "## data types in machine learning (or statistics)\n",
    "## https://en.wikipedia.org/wiki/Statistical_data_type\n",
    "\n",
    "## data types in python(pandas) \n",
    "## object ~ categorical\n",
    "## float/int ~ numeric\n",
    "melb.dtypes\n",
    "\n",
    "##"
   ]
  },
  {
   "cell_type": "markdown",
   "id": "suburban-salad",
   "metadata": {},
   "source": [
    "### Categorical variable: Date"
   ]
  },
  {
   "cell_type": "code",
   "execution_count": 4,
   "id": "novel-latter",
   "metadata": {},
   "outputs": [
    {
     "name": "stdout",
     "output_type": "stream",
     "text": [
      "Date in first row: 24/09/2016 \n",
      "Date in second row 27/05/2017\n"
     ]
    },
    {
     "ename": "TypeError",
     "evalue": "unsupported operand type(s) for -: 'str' and 'str'",
     "output_type": "error",
     "traceback": [
      "\u001b[0;31m---------------------------------------------------------------------------\u001b[0m",
      "\u001b[0;31mTypeError\u001b[0m                                 Traceback (most recent call last)",
      "Input \u001b[0;32mIn [4]\u001b[0m, in \u001b[0;36m<module>\u001b[0;34m\u001b[0m\n\u001b[1;32m      2\u001b[0m \u001b[38;5;28mprint\u001b[39m(\u001b[38;5;124m\"\u001b[39m\u001b[38;5;124mDate in first row:\u001b[39m\u001b[38;5;124m\"\u001b[39m ,melb\u001b[38;5;241m.\u001b[39mDate[\u001b[38;5;241m0\u001b[39m], \u001b[38;5;124m\"\u001b[39m\u001b[38;5;130;01m\\n\u001b[39;00m\u001b[38;5;124mDate in second row\u001b[39m\u001b[38;5;124m\"\u001b[39m,melb\u001b[38;5;241m.\u001b[39mDate[\u001b[38;5;241m1\u001b[39m])\n\u001b[1;32m      4\u001b[0m \u001b[38;5;66;03m## it's obvious to us that subtraction between two dates is reasonable\u001b[39;00m\n\u001b[1;32m      5\u001b[0m \u001b[38;5;66;03m## try to calculate day_diff.....\u001b[39;00m\n\u001b[0;32m----> 6\u001b[0m \u001b[38;5;28mprint\u001b[39m(\u001b[43mmelb\u001b[49m\u001b[38;5;241;43m.\u001b[39;49m\u001b[43mDate\u001b[49m\u001b[43m[\u001b[49m\u001b[38;5;241;43m0\u001b[39;49m\u001b[43m]\u001b[49m\u001b[43m \u001b[49m\u001b[38;5;241;43m-\u001b[39;49m\u001b[43m \u001b[49m\u001b[43mmelb\u001b[49m\u001b[38;5;241;43m.\u001b[39;49m\u001b[43mDate\u001b[49m\u001b[43m[\u001b[49m\u001b[38;5;241;43m1\u001b[39;49m\u001b[43m]\u001b[49m)\n",
      "\u001b[0;31mTypeError\u001b[0m: unsupported operand type(s) for -: 'str' and 'str'"
     ]
    }
   ],
   "source": [
    "## the operations can be applied on object/float are different\n",
    "print(\"Date in first row:\" ,melb.Date[0], \"\\nDate in second row\",melb.Date[1])\n",
    "\n",
    "## it's obvious to us that subtraction between two dates is reasonable\n",
    "## try to calculate day_diff.....\n",
    "print(melb.Date[0] - melb.Date[1])\n",
    "\n"
   ]
  },
  {
   "cell_type": "code",
   "execution_count": 5,
   "id": "stuck-monte",
   "metadata": {},
   "outputs": [
    {
     "data": {
      "text/plain": [
       "Date                        object\n",
       "Date_in_datetime    datetime64[ns]\n",
       "dtype: object"
      ]
     },
     "execution_count": 5,
     "metadata": {},
     "output_type": "execute_result"
    }
   ],
   "source": [
    "## into datetime format\n",
    "melb[\"Date_in_datetime\"] = pd.to_datetime(melb.Date)\n",
    "\n",
    "## the data types of two version of date are different\n",
    "## the later is actually numeric \n",
    "melb[[\"Date\", \"Date_in_datetime\"]].head().dtypes\n"
   ]
  },
  {
   "cell_type": "code",
   "execution_count": 6,
   "id": "billion-voltage",
   "metadata": {},
   "outputs": [
    {
     "data": {
      "text/html": [
       "<div>\n",
       "<style scoped>\n",
       "    .dataframe tbody tr th:only-of-type {\n",
       "        vertical-align: middle;\n",
       "    }\n",
       "\n",
       "    .dataframe tbody tr th {\n",
       "        vertical-align: top;\n",
       "    }\n",
       "\n",
       "    .dataframe thead th {\n",
       "        text-align: right;\n",
       "    }\n",
       "</style>\n",
       "<table border=\"1\" class=\"dataframe\">\n",
       "  <thead>\n",
       "    <tr style=\"text-align: right;\">\n",
       "      <th></th>\n",
       "      <th>Date</th>\n",
       "      <th>Date_in_datetime</th>\n",
       "    </tr>\n",
       "  </thead>\n",
       "  <tbody>\n",
       "    <tr>\n",
       "      <th>0</th>\n",
       "      <td>24/09/2016</td>\n",
       "      <td>2016-09-24</td>\n",
       "    </tr>\n",
       "    <tr>\n",
       "      <th>1</th>\n",
       "      <td>27/05/2017</td>\n",
       "      <td>2017-05-27</td>\n",
       "    </tr>\n",
       "    <tr>\n",
       "      <th>2</th>\n",
       "      <td>18/06/2016</td>\n",
       "      <td>2016-06-18</td>\n",
       "    </tr>\n",
       "    <tr>\n",
       "      <th>3</th>\n",
       "      <td>8/04/2017</td>\n",
       "      <td>2017-08-04</td>\n",
       "    </tr>\n",
       "    <tr>\n",
       "      <th>4</th>\n",
       "      <td>27/06/2016</td>\n",
       "      <td>2016-06-27</td>\n",
       "    </tr>\n",
       "  </tbody>\n",
       "</table>\n",
       "</div>"
      ],
      "text/plain": [
       "         Date Date_in_datetime\n",
       "0  24/09/2016       2016-09-24\n",
       "1  27/05/2017       2017-05-27\n",
       "2  18/06/2016       2016-06-18\n",
       "3   8/04/2017       2017-08-04\n",
       "4  27/06/2016       2016-06-27"
      ]
     },
     "execution_count": 6,
     "metadata": {},
     "output_type": "execute_result"
    }
   ],
   "source": [
    "## Date_in_datetime is well-formated (wrapped)\n",
    "melb[[\"Date\", \"Date_in_datetime\"]].head()"
   ]
  },
  {
   "cell_type": "code",
   "execution_count": 7,
   "id": "threatened-article",
   "metadata": {},
   "outputs": [
    {
     "name": "stdout",
     "output_type": "stream",
     "text": [
      "Day difference is: -245 days +00:00:00\n",
      "Day difference is: -245\n"
     ]
    }
   ],
   "source": [
    "## Since the datetime data type is numeric, do some operation\n",
    "day_diff_1 = melb.Date_in_datetime[0] - melb.Date_in_datetime[1]\n",
    "\n",
    "## the wrapped number\n",
    "print(\"Day difference is:\" , day_diff_1)\n",
    "\n",
    "## the naked number\n",
    "print(\"Day difference is:\" , day_diff_1.days)"
   ]
  },
  {
   "cell_type": "code",
   "execution_count": 8,
   "id": "arctic-hampshire",
   "metadata": {},
   "outputs": [
    {
     "name": "stdout",
     "output_type": "stream",
     "text": [
      "0    1474675200000000000\n",
      "1    1495843200000000000\n",
      "2    1466208000000000000\n",
      "3    1501804800000000000\n",
      "4    1466985600000000000\n",
      "Name: Date_num, dtype: int64\n"
     ]
    }
   ],
   "source": [
    "## into a more \"pure\" numeric format\n",
    "melb[\"Date_num\"] = pd.to_datetime(melb.Date).astype(\"int\")\n",
    "\n",
    "## It's UNIX time in nanoseconds!\n",
    "## https://zh.wikipedia.org/wiki/UNIX时间\n",
    "print(melb[\"Date_num\"].head())"
   ]
  },
  {
   "cell_type": "code",
   "execution_count": 10,
   "id": "wooden-sunday",
   "metadata": {},
   "outputs": [
    {
     "name": "stdout",
     "output_type": "stream",
     "text": [
      "Day difference is: -245.0\n"
     ]
    }
   ],
   "source": [
    "## same calculation.....\n",
    "day_diff_2 = melb.Date_num[0] - melb.Date_num[1]\n",
    "print(\"Day difference is:\" , day_diff_2 / (10**9 * 60 * 60 *24))"
   ]
  },
  {
   "cell_type": "code",
   "execution_count": 11,
   "id": "solar-basement",
   "metadata": {},
   "outputs": [
    {
     "data": {
      "text/plain": [
       "count           9000\n",
       "unique            58\n",
       "top       27/05/2017\n",
       "freq             303\n",
       "Name: Date, dtype: object"
      ]
     },
     "execution_count": 11,
     "metadata": {},
     "output_type": "execute_result"
    }
   ],
   "source": [
    "## why is the difference of data dypes important?\n",
    "## to describe a categorical column\n",
    "melb.Date.describe()"
   ]
  },
  {
   "cell_type": "code",
   "execution_count": 12,
   "id": "expensive-trial",
   "metadata": {},
   "outputs": [
    {
     "data": {
      "text/plain": [
       "count                  9000.0000\n",
       "mean    1484670518400000000.0000\n",
       "std       15547177190370468.0000\n",
       "min     1453939200000000000.0000\n",
       "25%     1470787200000000000.0000\n",
       "50%     1487980800000000000.0000\n",
       "75%     1498262400000000000.0000\n",
       "max     1512691200000000000.0000\n",
       "Name: Date_num, dtype: float64"
      ]
     },
     "execution_count": 12,
     "metadata": {},
     "output_type": "execute_result"
    }
   ],
   "source": [
    "## to describe a numeric column  \n",
    "melb.Date_num.describe()"
   ]
  },
  {
   "cell_type": "code",
   "execution_count": 13,
   "id": "formal-calgary",
   "metadata": {},
   "outputs": [
    {
     "name": "stdout",
     "output_type": "stream",
     "text": [
      "Sort the original format(string): \n",
      "\n",
      "2    18/06/2016\n",
      "0    24/09/2016\n",
      "1    27/05/2017\n",
      "4    27/06/2016\n",
      "3     8/04/2017\n",
      "Name: Date, dtype: object\n",
      "Sort the datetime formate: \n",
      "\n",
      "2   2016-06-18\n",
      "4   2016-06-27\n",
      "0   2016-09-24\n",
      "1   2017-05-27\n",
      "3   2017-08-04\n",
      "Name: Date_in_datetime, dtype: datetime64[ns]\n"
     ]
    }
   ],
   "source": [
    "## Other than subtraction.....\n",
    "print(\"Sort the original format(string): \\n\")\n",
    "print(melb.Date.head().sort_values())\n",
    "\n",
    "print(\"Sort the datetime formate: \\n\")\n",
    "print(melb.Date_in_datetime.head().sort_values())"
   ]
  },
  {
   "cell_type": "code",
   "execution_count": 14,
   "id": "innocent-watson",
   "metadata": {},
   "outputs": [],
   "source": [
    "## The right \"order\" of a variable especially crucial when making a graph!\n"
   ]
  },
  {
   "cell_type": "markdown",
   "id": "amazing-franklin",
   "metadata": {},
   "source": [
    "### Categorical variable: Region"
   ]
  },
  {
   "cell_type": "code",
   "execution_count": 15,
   "id": "generous-government",
   "metadata": {},
   "outputs": [
    {
     "data": {
      "text/plain": [
       "Southern Metropolitan         3143\n",
       "Northern Metropolitan         2567\n",
       "Western Metropolitan          1966\n",
       "Eastern Metropolitan           946\n",
       "South-Eastern Metropolitan     293\n",
       "Eastern Victoria                33\n",
       "Northern Victoria               30\n",
       "Western Victoria                22\n",
       "Name: Regionname, dtype: int64"
      ]
     },
     "execution_count": 15,
     "metadata": {},
     "output_type": "execute_result"
    }
   ],
   "source": [
    "## Date is natually can be understand as an numeric sequence\n",
    "## But how about other categorical variables?\n",
    "melb.Regionname.value_counts()"
   ]
  },
  {
   "cell_type": "code",
   "execution_count": 16,
   "id": "peripheral-sense",
   "metadata": {},
   "outputs": [
    {
     "data": {
      "text/plain": [
       "0    Southern Metropolitan\n",
       "1     Western Metropolitan\n",
       "2     Western Metropolitan\n",
       "3    Southern Metropolitan\n",
       "4    Southern Metropolitan\n",
       "5    Southern Metropolitan\n",
       "6     Western Metropolitan\n",
       "7     Western Metropolitan\n",
       "8    Northern Metropolitan\n",
       "9     Western Metropolitan\n",
       "Name: Regionname, dtype: object"
      ]
     },
     "execution_count": 16,
     "metadata": {},
     "output_type": "execute_result"
    }
   ],
   "source": [
    "melb.Regionname.head(10)"
   ]
  },
  {
   "cell_type": "code",
   "execution_count": 17,
   "id": "sensitive-convertible",
   "metadata": {},
   "outputs": [
    {
     "data": {
      "text/plain": [
       "(array([0, 1, 1, ..., 1, 0, 0]),\n",
       " Index(['Southern Metropolitan', 'Western Metropolitan',\n",
       "        'Northern Metropolitan', 'South-Eastern Metropolitan',\n",
       "        'Eastern Metropolitan', 'Western Victoria', 'Eastern Victoria',\n",
       "        'Northern Victoria'],\n",
       "       dtype='object'))"
      ]
     },
     "execution_count": 17,
     "metadata": {},
     "output_type": "execute_result"
    }
   ],
   "source": [
    "## encode Regionname into numeric\n",
    "pd.factorize(melb.Regionname)"
   ]
  },
  {
   "cell_type": "code",
   "execution_count": 18,
   "id": "placed-responsibility",
   "metadata": {},
   "outputs": [
    {
     "data": {
      "text/html": [
       "<div>\n",
       "<style scoped>\n",
       "    .dataframe tbody tr th:only-of-type {\n",
       "        vertical-align: middle;\n",
       "    }\n",
       "\n",
       "    .dataframe tbody tr th {\n",
       "        vertical-align: top;\n",
       "    }\n",
       "\n",
       "    .dataframe thead th {\n",
       "        text-align: right;\n",
       "    }\n",
       "</style>\n",
       "<table border=\"1\" class=\"dataframe\">\n",
       "  <thead>\n",
       "    <tr style=\"text-align: right;\">\n",
       "      <th></th>\n",
       "      <th>Regionname</th>\n",
       "      <th>Regionname_factor</th>\n",
       "    </tr>\n",
       "  </thead>\n",
       "  <tbody>\n",
       "    <tr>\n",
       "      <th>0</th>\n",
       "      <td>Southern Metropolitan</td>\n",
       "      <td>0</td>\n",
       "    </tr>\n",
       "    <tr>\n",
       "      <th>1</th>\n",
       "      <td>Western Metropolitan</td>\n",
       "      <td>1</td>\n",
       "    </tr>\n",
       "    <tr>\n",
       "      <th>2</th>\n",
       "      <td>Western Metropolitan</td>\n",
       "      <td>1</td>\n",
       "    </tr>\n",
       "    <tr>\n",
       "      <th>3</th>\n",
       "      <td>Southern Metropolitan</td>\n",
       "      <td>0</td>\n",
       "    </tr>\n",
       "    <tr>\n",
       "      <th>4</th>\n",
       "      <td>Southern Metropolitan</td>\n",
       "      <td>0</td>\n",
       "    </tr>\n",
       "    <tr>\n",
       "      <th>5</th>\n",
       "      <td>Southern Metropolitan</td>\n",
       "      <td>0</td>\n",
       "    </tr>\n",
       "    <tr>\n",
       "      <th>6</th>\n",
       "      <td>Western Metropolitan</td>\n",
       "      <td>1</td>\n",
       "    </tr>\n",
       "    <tr>\n",
       "      <th>7</th>\n",
       "      <td>Western Metropolitan</td>\n",
       "      <td>1</td>\n",
       "    </tr>\n",
       "    <tr>\n",
       "      <th>8</th>\n",
       "      <td>Northern Metropolitan</td>\n",
       "      <td>2</td>\n",
       "    </tr>\n",
       "    <tr>\n",
       "      <th>9</th>\n",
       "      <td>Western Metropolitan</td>\n",
       "      <td>1</td>\n",
       "    </tr>\n",
       "  </tbody>\n",
       "</table>\n",
       "</div>"
      ],
      "text/plain": [
       "              Regionname  Regionname_factor\n",
       "0  Southern Metropolitan                  0\n",
       "1   Western Metropolitan                  1\n",
       "2   Western Metropolitan                  1\n",
       "3  Southern Metropolitan                  0\n",
       "4  Southern Metropolitan                  0\n",
       "5  Southern Metropolitan                  0\n",
       "6   Western Metropolitan                  1\n",
       "7   Western Metropolitan                  1\n",
       "8  Northern Metropolitan                  2\n",
       "9   Western Metropolitan                  1"
      ]
     },
     "execution_count": 18,
     "metadata": {},
     "output_type": "execute_result"
    }
   ],
   "source": [
    "## create a factorized column\n",
    "melb[\"Regionname_factor\"] = pd.factorize(melb.Regionname)[0]\n",
    "melb[[\"Regionname\", \"Regionname_factor\"]].head(10)\n",
    "\n",
    "##"
   ]
  },
  {
   "cell_type": "markdown",
   "id": "documented-bangladesh",
   "metadata": {},
   "source": [
    "## Exploratory Data Analysis"
   ]
  },
  {
   "cell_type": "markdown",
   "id": "strange-mumbai",
   "metadata": {},
   "source": [
    "It's hard to teach you something solid about EDA in less than 1 hour. In my opinion, EDA is more like art than science. The sense is CULTIVATED with reading good works and practise. What I can do here is to show you a really small part of code when I'm exploring this Melbourne dataset....\n",
    "\n",
    "And of course, there will be a lot of reading material for you!\n",
    "\n",
    "The main purpose of this tutorial is to PREDICT PRICE. Keep this in mind when doing EDA!"
   ]
  },
  {
   "cell_type": "markdown",
   "id": "following-cemetery",
   "metadata": {},
   "source": [
    "### Table & Descriptive Statistics"
   ]
  },
  {
   "cell_type": "code",
   "execution_count": 19,
   "id": "fourth-variety",
   "metadata": {},
   "outputs": [
    {
     "data": {
      "text/html": [
       "<div>\n",
       "<style scoped>\n",
       "    .dataframe tbody tr th:only-of-type {\n",
       "        vertical-align: middle;\n",
       "    }\n",
       "\n",
       "    .dataframe tbody tr th {\n",
       "        vertical-align: top;\n",
       "    }\n",
       "\n",
       "    .dataframe thead th {\n",
       "        text-align: right;\n",
       "    }\n",
       "</style>\n",
       "<table border=\"1\" class=\"dataframe\">\n",
       "  <thead>\n",
       "    <tr style=\"text-align: right;\">\n",
       "      <th></th>\n",
       "      <th>Rooms</th>\n",
       "      <th>Price</th>\n",
       "      <th>Distance</th>\n",
       "      <th>Postcode</th>\n",
       "      <th>Bedroom2</th>\n",
       "      <th>Bathroom</th>\n",
       "      <th>Car</th>\n",
       "      <th>Landsize</th>\n",
       "      <th>BuildingArea</th>\n",
       "      <th>YearBuilt</th>\n",
       "      <th>Lattitude</th>\n",
       "      <th>Longtitude</th>\n",
       "      <th>Propertycount</th>\n",
       "      <th>Date_num</th>\n",
       "      <th>Regionname_factor</th>\n",
       "    </tr>\n",
       "  </thead>\n",
       "  <tbody>\n",
       "    <tr>\n",
       "      <th>count</th>\n",
       "      <td>9000.0000</td>\n",
       "      <td>9000.0000</td>\n",
       "      <td>9000.0000</td>\n",
       "      <td>9000.0000</td>\n",
       "      <td>9000.0000</td>\n",
       "      <td>9000.0000</td>\n",
       "      <td>8958.0000</td>\n",
       "      <td>9000.0000</td>\n",
       "      <td>4719.0000</td>\n",
       "      <td>5446.0000</td>\n",
       "      <td>9000.0000</td>\n",
       "      <td>9000.0000</td>\n",
       "      <td>9000.0000</td>\n",
       "      <td>9000.0000</td>\n",
       "      <td>9000.0000</td>\n",
       "    </tr>\n",
       "    <tr>\n",
       "      <th>mean</th>\n",
       "      <td>2.9484</td>\n",
       "      <td>1078794.5841</td>\n",
       "      <td>10.1427</td>\n",
       "      <td>3105.0629</td>\n",
       "      <td>2.9229</td>\n",
       "      <td>1.5372</td>\n",
       "      <td>1.6105</td>\n",
       "      <td>587.5162</td>\n",
       "      <td>156.2305</td>\n",
       "      <td>1964.9282</td>\n",
       "      <td>-37.8092</td>\n",
       "      <td>144.9949</td>\n",
       "      <td>7450.9457</td>\n",
       "      <td>1484670518400000000.0000</td>\n",
       "      <td>1.3646</td>\n",
       "    </tr>\n",
       "    <tr>\n",
       "      <th>std</th>\n",
       "      <td>0.9590</td>\n",
       "      <td>641379.2721</td>\n",
       "      <td>5.8568</td>\n",
       "      <td>88.7083</td>\n",
       "      <td>0.9568</td>\n",
       "      <td>0.6919</td>\n",
       "      <td>0.9637</td>\n",
       "      <td>4802.2310</td>\n",
       "      <td>660.2289</td>\n",
       "      <td>36.3403</td>\n",
       "      <td>0.0792</td>\n",
       "      <td>0.1038</td>\n",
       "      <td>4375.6508</td>\n",
       "      <td>15547177190370468.0000</td>\n",
       "      <td>1.3523</td>\n",
       "    </tr>\n",
       "    <tr>\n",
       "      <th>min</th>\n",
       "      <td>1.0000</td>\n",
       "      <td>85000.0000</td>\n",
       "      <td>0.0000</td>\n",
       "      <td>3000.0000</td>\n",
       "      <td>0.0000</td>\n",
       "      <td>0.0000</td>\n",
       "      <td>0.0000</td>\n",
       "      <td>0.0000</td>\n",
       "      <td>0.0000</td>\n",
       "      <td>1830.0000</td>\n",
       "      <td>-38.1825</td>\n",
       "      <td>144.4857</td>\n",
       "      <td>249.0000</td>\n",
       "      <td>1453939200000000000.0000</td>\n",
       "      <td>0.0000</td>\n",
       "    </tr>\n",
       "    <tr>\n",
       "      <th>25%</th>\n",
       "      <td>2.0000</td>\n",
       "      <td>650000.0000</td>\n",
       "      <td>6.2000</td>\n",
       "      <td>3044.0000</td>\n",
       "      <td>2.0000</td>\n",
       "      <td>1.0000</td>\n",
       "      <td>1.0000</td>\n",
       "      <td>180.0000</td>\n",
       "      <td>94.0000</td>\n",
       "      <td>1940.0000</td>\n",
       "      <td>-37.8566</td>\n",
       "      <td>144.9287</td>\n",
       "      <td>4387.0000</td>\n",
       "      <td>1470787200000000000.0000</td>\n",
       "      <td>0.0000</td>\n",
       "    </tr>\n",
       "    <tr>\n",
       "      <th>50%</th>\n",
       "      <td>3.0000</td>\n",
       "      <td>905000.0000</td>\n",
       "      <td>9.2000</td>\n",
       "      <td>3084.0000</td>\n",
       "      <td>3.0000</td>\n",
       "      <td>1.0000</td>\n",
       "      <td>2.0000</td>\n",
       "      <td>446.0000</td>\n",
       "      <td>128.0000</td>\n",
       "      <td>1970.0000</td>\n",
       "      <td>-37.8027</td>\n",
       "      <td>145.0004</td>\n",
       "      <td>6567.0000</td>\n",
       "      <td>1487980800000000000.0000</td>\n",
       "      <td>1.0000</td>\n",
       "    </tr>\n",
       "    <tr>\n",
       "      <th>75%</th>\n",
       "      <td>4.0000</td>\n",
       "      <td>1340000.0000</td>\n",
       "      <td>13.0000</td>\n",
       "      <td>3148.0000</td>\n",
       "      <td>3.0000</td>\n",
       "      <td>2.0000</td>\n",
       "      <td>2.0000</td>\n",
       "      <td>651.0000</td>\n",
       "      <td>175.0000</td>\n",
       "      <td>2000.0000</td>\n",
       "      <td>-37.7565</td>\n",
       "      <td>145.0573</td>\n",
       "      <td>10331.0000</td>\n",
       "      <td>1498262400000000000.0000</td>\n",
       "      <td>2.0000</td>\n",
       "    </tr>\n",
       "    <tr>\n",
       "      <th>max</th>\n",
       "      <td>10.0000</td>\n",
       "      <td>9000000.0000</td>\n",
       "      <td>48.1000</td>\n",
       "      <td>3977.0000</td>\n",
       "      <td>10.0000</td>\n",
       "      <td>8.0000</td>\n",
       "      <td>10.0000</td>\n",
       "      <td>433014.0000</td>\n",
       "      <td>44515.0000</td>\n",
       "      <td>2018.0000</td>\n",
       "      <td>-37.4539</td>\n",
       "      <td>145.5264</td>\n",
       "      <td>21650.0000</td>\n",
       "      <td>1512691200000000000.0000</td>\n",
       "      <td>7.0000</td>\n",
       "    </tr>\n",
       "  </tbody>\n",
       "</table>\n",
       "</div>"
      ],
      "text/plain": [
       "          Rooms        Price  Distance  Postcode  Bedroom2  Bathroom  \\\n",
       "count 9000.0000    9000.0000 9000.0000 9000.0000 9000.0000 9000.0000   \n",
       "mean     2.9484 1078794.5841   10.1427 3105.0629    2.9229    1.5372   \n",
       "std      0.9590  641379.2721    5.8568   88.7083    0.9568    0.6919   \n",
       "min      1.0000   85000.0000    0.0000 3000.0000    0.0000    0.0000   \n",
       "25%      2.0000  650000.0000    6.2000 3044.0000    2.0000    1.0000   \n",
       "50%      3.0000  905000.0000    9.2000 3084.0000    3.0000    1.0000   \n",
       "75%      4.0000 1340000.0000   13.0000 3148.0000    3.0000    2.0000   \n",
       "max     10.0000 9000000.0000   48.1000 3977.0000   10.0000    8.0000   \n",
       "\n",
       "            Car    Landsize  BuildingArea  YearBuilt  Lattitude  Longtitude  \\\n",
       "count 8958.0000   9000.0000     4719.0000  5446.0000  9000.0000   9000.0000   \n",
       "mean     1.6105    587.5162      156.2305  1964.9282   -37.8092    144.9949   \n",
       "std      0.9637   4802.2310      660.2289    36.3403     0.0792      0.1038   \n",
       "min      0.0000      0.0000        0.0000  1830.0000   -38.1825    144.4857   \n",
       "25%      1.0000    180.0000       94.0000  1940.0000   -37.8566    144.9287   \n",
       "50%      2.0000    446.0000      128.0000  1970.0000   -37.8027    145.0004   \n",
       "75%      2.0000    651.0000      175.0000  2000.0000   -37.7565    145.0573   \n",
       "max     10.0000 433014.0000    44515.0000  2018.0000   -37.4539    145.5264   \n",
       "\n",
       "       Propertycount                 Date_num  Regionname_factor  \n",
       "count      9000.0000                9000.0000          9000.0000  \n",
       "mean       7450.9457 1484670518400000000.0000             1.3646  \n",
       "std        4375.6508   15547177190370468.0000             1.3523  \n",
       "min         249.0000 1453939200000000000.0000             0.0000  \n",
       "25%        4387.0000 1470787200000000000.0000             0.0000  \n",
       "50%        6567.0000 1487980800000000000.0000             1.0000  \n",
       "75%       10331.0000 1498262400000000000.0000             2.0000  \n",
       "max       21650.0000 1512691200000000000.0000             7.0000  "
      ]
     },
     "execution_count": 19,
     "metadata": {},
     "output_type": "execute_result"
    }
   ],
   "source": [
    "## describe method offers a simple statitical overview(for numeric columns, by default)\n",
    "melb.describe()"
   ]
  },
  {
   "cell_type": "code",
   "execution_count": 20,
   "id": "traditional-advancement",
   "metadata": {},
   "outputs": [
    {
     "data": {
      "text/html": [
       "<div>\n",
       "<style scoped>\n",
       "    .dataframe tbody tr th:only-of-type {\n",
       "        vertical-align: middle;\n",
       "    }\n",
       "\n",
       "    .dataframe tbody tr th {\n",
       "        vertical-align: top;\n",
       "    }\n",
       "\n",
       "    .dataframe thead th {\n",
       "        text-align: right;\n",
       "    }\n",
       "</style>\n",
       "<table border=\"1\" class=\"dataframe\">\n",
       "  <thead>\n",
       "    <tr style=\"text-align: right;\">\n",
       "      <th></th>\n",
       "      <th>Suburb</th>\n",
       "      <th>Address</th>\n",
       "      <th>Type</th>\n",
       "      <th>Method</th>\n",
       "      <th>SellerG</th>\n",
       "      <th>Date</th>\n",
       "      <th>CouncilArea</th>\n",
       "      <th>Regionname</th>\n",
       "    </tr>\n",
       "  </thead>\n",
       "  <tbody>\n",
       "    <tr>\n",
       "      <th>count</th>\n",
       "      <td>9000</td>\n",
       "      <td>9000</td>\n",
       "      <td>9000</td>\n",
       "      <td>9000</td>\n",
       "      <td>9000</td>\n",
       "      <td>9000</td>\n",
       "      <td>8077</td>\n",
       "      <td>9000</td>\n",
       "    </tr>\n",
       "    <tr>\n",
       "      <th>unique</th>\n",
       "      <td>299</td>\n",
       "      <td>8907</td>\n",
       "      <td>3</td>\n",
       "      <td>5</td>\n",
       "      <td>237</td>\n",
       "      <td>58</td>\n",
       "      <td>32</td>\n",
       "      <td>8</td>\n",
       "    </tr>\n",
       "    <tr>\n",
       "      <th>top</th>\n",
       "      <td>Reservoir</td>\n",
       "      <td>5 Charles St</td>\n",
       "      <td>h</td>\n",
       "      <td>S</td>\n",
       "      <td>Nelson</td>\n",
       "      <td>27/05/2017</td>\n",
       "      <td>Boroondara</td>\n",
       "      <td>Southern Metropolitan</td>\n",
       "    </tr>\n",
       "    <tr>\n",
       "      <th>freq</th>\n",
       "      <td>244</td>\n",
       "      <td>3</td>\n",
       "      <td>6264</td>\n",
       "      <td>5995</td>\n",
       "      <td>1037</td>\n",
       "      <td>303</td>\n",
       "      <td>774</td>\n",
       "      <td>3143</td>\n",
       "    </tr>\n",
       "  </tbody>\n",
       "</table>\n",
       "</div>"
      ],
      "text/plain": [
       "           Suburb       Address  Type Method SellerG        Date CouncilArea  \\\n",
       "count        9000          9000  9000   9000    9000        9000        8077   \n",
       "unique        299          8907     3      5     237          58          32   \n",
       "top     Reservoir  5 Charles St     h      S  Nelson  27/05/2017  Boroondara   \n",
       "freq          244             3  6264   5995    1037         303         774   \n",
       "\n",
       "                   Regionname  \n",
       "count                    9000  \n",
       "unique                      8  \n",
       "top     Southern Metropolitan  \n",
       "freq                     3143  "
      ]
     },
     "execution_count": 20,
     "metadata": {},
     "output_type": "execute_result"
    }
   ],
   "source": [
    "## to have one for categorical colunmns\n",
    "melb.describe(include=['object'])"
   ]
  },
  {
   "cell_type": "code",
   "execution_count": 21,
   "id": "insured-norway",
   "metadata": {},
   "outputs": [
    {
     "data": {
      "text/plain": [
       "count   9000.0000\n",
       "mean       2.9484\n",
       "std        0.9590\n",
       "min        1.0000\n",
       "25%        2.0000\n",
       "50%        3.0000\n",
       "75%        4.0000\n",
       "max       10.0000\n",
       "Name: Rooms, dtype: float64"
      ]
     },
     "execution_count": 21,
     "metadata": {},
     "output_type": "execute_result"
    }
   ],
   "source": [
    "## One variable \n",
    "## the Room variable is an integer and not so many distinct values (here, 1 to 10)\n",
    "## \n",
    "## the mean-std thing may not be helpful.....\n",
    "melb.Rooms.describe()"
   ]
  },
  {
   "cell_type": "code",
   "execution_count": 22,
   "id": "french-pattern",
   "metadata": {},
   "outputs": [
    {
     "data": {
      "text/plain": [
       "1      444\n",
       "2     2397\n",
       "3     3880\n",
       "4     1817\n",
       "5      402\n",
       "6       48\n",
       "7        6\n",
       "8        5\n",
       "10       1\n",
       "Name: Rooms, dtype: int64"
      ]
     },
     "execution_count": 22,
     "metadata": {},
     "output_type": "execute_result"
    }
   ],
   "source": [
    "## Discrete distribution\n",
    "melb.Rooms.value_counts().sort_index()"
   ]
  },
  {
   "cell_type": "code",
   "execution_count": 23,
   "id": "coupled-terrorism",
   "metadata": {},
   "outputs": [
    {
     "data": {
      "text/html": [
       "<div>\n",
       "<style scoped>\n",
       "    .dataframe tbody tr th:only-of-type {\n",
       "        vertical-align: middle;\n",
       "    }\n",
       "\n",
       "    .dataframe tbody tr th {\n",
       "        vertical-align: top;\n",
       "    }\n",
       "\n",
       "    .dataframe thead th {\n",
       "        text-align: right;\n",
       "    }\n",
       "</style>\n",
       "<table border=\"1\" class=\"dataframe\">\n",
       "  <thead>\n",
       "    <tr style=\"text-align: right;\">\n",
       "      <th></th>\n",
       "      <th>count</th>\n",
       "      <th>mean</th>\n",
       "      <th>std</th>\n",
       "      <th>min</th>\n",
       "      <th>25%</th>\n",
       "      <th>50%</th>\n",
       "      <th>75%</th>\n",
       "      <th>max</th>\n",
       "    </tr>\n",
       "    <tr>\n",
       "      <th>Rooms</th>\n",
       "      <th></th>\n",
       "      <th></th>\n",
       "      <th></th>\n",
       "      <th></th>\n",
       "      <th></th>\n",
       "      <th></th>\n",
       "      <th></th>\n",
       "      <th></th>\n",
       "    </tr>\n",
       "  </thead>\n",
       "  <tbody>\n",
       "    <tr>\n",
       "      <th>1</th>\n",
       "      <td>444.0000</td>\n",
       "      <td>436783.6712</td>\n",
       "      <td>238623.4613</td>\n",
       "      <td>85000.0000</td>\n",
       "      <td>325000.0000</td>\n",
       "      <td>385750.0000</td>\n",
       "      <td>459250.0000</td>\n",
       "      <td>2450000.0000</td>\n",
       "    </tr>\n",
       "    <tr>\n",
       "      <th>2</th>\n",
       "      <td>2397.0000</td>\n",
       "      <td>766250.1640</td>\n",
       "      <td>353145.4426</td>\n",
       "      <td>190000.0000</td>\n",
       "      <td>526000.0000</td>\n",
       "      <td>680000.0000</td>\n",
       "      <td>905000.0000</td>\n",
       "      <td>4525000.0000</td>\n",
       "    </tr>\n",
       "    <tr>\n",
       "      <th>3</th>\n",
       "      <td>3880.0000</td>\n",
       "      <td>1083961.5606</td>\n",
       "      <td>510737.4341</td>\n",
       "      <td>283000.0000</td>\n",
       "      <td>730000.0000</td>\n",
       "      <td>950000.0000</td>\n",
       "      <td>1330000.0000</td>\n",
       "      <td>9000000.0000</td>\n",
       "    </tr>\n",
       "    <tr>\n",
       "      <th>4</th>\n",
       "      <td>1817.0000</td>\n",
       "      <td>1441791.5294</td>\n",
       "      <td>743808.5463</td>\n",
       "      <td>131000.0000</td>\n",
       "      <td>895500.0000</td>\n",
       "      <td>1280000.0000</td>\n",
       "      <td>1785000.0000</td>\n",
       "      <td>5700000.0000</td>\n",
       "    </tr>\n",
       "    <tr>\n",
       "      <th>5</th>\n",
       "      <td>402.0000</td>\n",
       "      <td>1856778.8557</td>\n",
       "      <td>964162.0667</td>\n",
       "      <td>355000.0000</td>\n",
       "      <td>1174000.0000</td>\n",
       "      <td>1700000.0000</td>\n",
       "      <td>2297500.0000</td>\n",
       "      <td>8000000.0000</td>\n",
       "    </tr>\n",
       "    <tr>\n",
       "      <th>6</th>\n",
       "      <td>48.0000</td>\n",
       "      <td>1835843.7500</td>\n",
       "      <td>1055387.3452</td>\n",
       "      <td>506000.0000</td>\n",
       "      <td>1195000.0000</td>\n",
       "      <td>1733000.0000</td>\n",
       "      <td>2150125.0000</td>\n",
       "      <td>6500000.0000</td>\n",
       "    </tr>\n",
       "    <tr>\n",
       "      <th>7</th>\n",
       "      <td>6.0000</td>\n",
       "      <td>1594166.6667</td>\n",
       "      <td>639276.2835</td>\n",
       "      <td>1005000.0000</td>\n",
       "      <td>1228750.0000</td>\n",
       "      <td>1325000.0000</td>\n",
       "      <td>1837500.0000</td>\n",
       "      <td>2705000.0000</td>\n",
       "    </tr>\n",
       "    <tr>\n",
       "      <th>8</th>\n",
       "      <td>5.0000</td>\n",
       "      <td>1600200.0000</td>\n",
       "      <td>955688.3383</td>\n",
       "      <td>770000.0000</td>\n",
       "      <td>881000.0000</td>\n",
       "      <td>1150000.0000</td>\n",
       "      <td>2250000.0000</td>\n",
       "      <td>2950000.0000</td>\n",
       "    </tr>\n",
       "    <tr>\n",
       "      <th>10</th>\n",
       "      <td>1.0000</td>\n",
       "      <td>900000.0000</td>\n",
       "      <td>NaN</td>\n",
       "      <td>900000.0000</td>\n",
       "      <td>900000.0000</td>\n",
       "      <td>900000.0000</td>\n",
       "      <td>900000.0000</td>\n",
       "      <td>900000.0000</td>\n",
       "    </tr>\n",
       "  </tbody>\n",
       "</table>\n",
       "</div>"
      ],
      "text/plain": [
       "          count         mean          std          min          25%  \\\n",
       "Rooms                                                                 \n",
       "1      444.0000  436783.6712  238623.4613   85000.0000  325000.0000   \n",
       "2     2397.0000  766250.1640  353145.4426  190000.0000  526000.0000   \n",
       "3     3880.0000 1083961.5606  510737.4341  283000.0000  730000.0000   \n",
       "4     1817.0000 1441791.5294  743808.5463  131000.0000  895500.0000   \n",
       "5      402.0000 1856778.8557  964162.0667  355000.0000 1174000.0000   \n",
       "6       48.0000 1835843.7500 1055387.3452  506000.0000 1195000.0000   \n",
       "7        6.0000 1594166.6667  639276.2835 1005000.0000 1228750.0000   \n",
       "8        5.0000 1600200.0000  955688.3383  770000.0000  881000.0000   \n",
       "10       1.0000  900000.0000          NaN  900000.0000  900000.0000   \n",
       "\n",
       "               50%          75%          max  \n",
       "Rooms                                         \n",
       "1      385750.0000  459250.0000 2450000.0000  \n",
       "2      680000.0000  905000.0000 4525000.0000  \n",
       "3      950000.0000 1330000.0000 9000000.0000  \n",
       "4     1280000.0000 1785000.0000 5700000.0000  \n",
       "5     1700000.0000 2297500.0000 8000000.0000  \n",
       "6     1733000.0000 2150125.0000 6500000.0000  \n",
       "7     1325000.0000 1837500.0000 2705000.0000  \n",
       "8     1150000.0000 2250000.0000 2950000.0000  \n",
       "10     900000.0000  900000.0000  900000.0000  "
      ]
     },
     "execution_count": 23,
     "metadata": {},
     "output_type": "execute_result"
    }
   ],
   "source": [
    "## Grouped statistics\n",
    "## It's a two variables analysis now\n",
    "\n",
    "## What does the the groupby operation mean?\n",
    "\n",
    "## In general, more room, higher the mean price is  \n",
    "## If I'm going to predict the price, should I put this variable into the model?\n",
    "melb.groupby(\"Rooms\").Price.describe()\n"
   ]
  },
  {
   "cell_type": "code",
   "execution_count": 24,
   "id": "contemporary-adams",
   "metadata": {},
   "outputs": [
    {
     "data": {
      "text/plain": [
       "count     9000.0000\n",
       "mean       587.5162\n",
       "std       4802.2310\n",
       "min          0.0000\n",
       "25%        180.0000\n",
       "50%        446.0000\n",
       "75%        651.0000\n",
       "max     433014.0000\n",
       "Name: Landsize, dtype: float64"
      ]
     },
     "execution_count": 24,
     "metadata": {},
     "output_type": "execute_result"
    }
   ],
   "source": [
    "## The fact that Room has only 10 distinct values allows us \n",
    "## to summarize other varibles as if it's a categorical variable.\n",
    "## What if not? \n",
    "\n",
    "## the Landsize variable is an float (continuous)\n",
    "\n",
    "melb.Landsize.describe()"
   ]
  },
  {
   "cell_type": "code",
   "execution_count": 25,
   "id": "appreciated-banking",
   "metadata": {},
   "outputs": [
    {
     "data": {
      "text/plain": [
       "0.0000         1258\n",
       "2.0000            1\n",
       "5.0000            1\n",
       "10.0000           1\n",
       "15.0000           1\n",
       "               ... \n",
       "40468.0000        1\n",
       "41400.0000        1\n",
       "44500.0000        1\n",
       "76000.0000        1\n",
       "433014.0000       1\n",
       "Name: Landsize, Length: 1306, dtype: int64"
      ]
     },
     "execution_count": 25,
     "metadata": {},
     "output_type": "execute_result"
    }
   ],
   "source": [
    "## Distribution....... ummmmmmm\n",
    "melb.Landsize.value_counts().sort_index()"
   ]
  },
  {
   "cell_type": "code",
   "execution_count": null,
   "id": "prepared-optics",
   "metadata": {},
   "outputs": [],
   "source": [
    "## Grouped statistics.....\n",
    "## please don't do this\n",
    "melb.groupby(\"Landsize\").Price.describe()"
   ]
  },
  {
   "cell_type": "code",
   "execution_count": 26,
   "id": "healthy-toner",
   "metadata": {},
   "outputs": [
    {
     "data": {
      "text/html": [
       "<div>\n",
       "<style scoped>\n",
       "    .dataframe tbody tr th:only-of-type {\n",
       "        vertical-align: middle;\n",
       "    }\n",
       "\n",
       "    .dataframe tbody tr th {\n",
       "        vertical-align: top;\n",
       "    }\n",
       "\n",
       "    .dataframe thead th {\n",
       "        text-align: right;\n",
       "    }\n",
       "</style>\n",
       "<table border=\"1\" class=\"dataframe\">\n",
       "  <thead>\n",
       "    <tr style=\"text-align: right;\">\n",
       "      <th></th>\n",
       "      <th>Rooms</th>\n",
       "      <th>Price</th>\n",
       "      <th>Distance</th>\n",
       "      <th>Postcode</th>\n",
       "      <th>Bedroom2</th>\n",
       "      <th>Bathroom</th>\n",
       "      <th>Car</th>\n",
       "      <th>Landsize</th>\n",
       "      <th>BuildingArea</th>\n",
       "      <th>YearBuilt</th>\n",
       "      <th>Lattitude</th>\n",
       "      <th>Longtitude</th>\n",
       "      <th>Propertycount</th>\n",
       "      <th>Date_num</th>\n",
       "      <th>Regionname_factor</th>\n",
       "    </tr>\n",
       "  </thead>\n",
       "  <tbody>\n",
       "    <tr>\n",
       "      <th>Rooms</th>\n",
       "      <td>1.0000</td>\n",
       "      <td>0.4946</td>\n",
       "      <td>0.2893</td>\n",
       "      <td>0.0425</td>\n",
       "      <td>0.9539</td>\n",
       "      <td>0.5884</td>\n",
       "      <td>0.3971</td>\n",
       "      <td>0.0218</td>\n",
       "      <td>0.1132</td>\n",
       "      <td>-0.0793</td>\n",
       "      <td>0.0220</td>\n",
       "      <td>0.0971</td>\n",
       "      <td>-0.0830</td>\n",
       "      <td>0.1054</td>\n",
       "      <td>0.1202</td>\n",
       "    </tr>\n",
       "    <tr>\n",
       "      <th>Price</th>\n",
       "      <td>0.4946</td>\n",
       "      <td>1.0000</td>\n",
       "      <td>-0.1623</td>\n",
       "      <td>0.1154</td>\n",
       "      <td>0.4788</td>\n",
       "      <td>0.4702</td>\n",
       "      <td>0.2240</td>\n",
       "      <td>0.0366</td>\n",
       "      <td>0.0767</td>\n",
       "      <td>-0.3355</td>\n",
       "      <td>-0.2157</td>\n",
       "      <td>0.2025</td>\n",
       "      <td>-0.0453</td>\n",
       "      <td>0.0124</td>\n",
       "      <td>-0.2102</td>\n",
       "    </tr>\n",
       "    <tr>\n",
       "      <th>Distance</th>\n",
       "      <td>0.2893</td>\n",
       "      <td>-0.1623</td>\n",
       "      <td>1.0000</td>\n",
       "      <td>0.4223</td>\n",
       "      <td>0.2924</td>\n",
       "      <td>0.1283</td>\n",
       "      <td>0.2680</td>\n",
       "      <td>0.0236</td>\n",
       "      <td>0.1114</td>\n",
       "      <td>0.2475</td>\n",
       "      <td>-0.1155</td>\n",
       "      <td>0.2311</td>\n",
       "      <td>-0.0539</td>\n",
       "      <td>0.2561</td>\n",
       "      <td>0.3941</td>\n",
       "    </tr>\n",
       "    <tr>\n",
       "      <th>Postcode</th>\n",
       "      <td>0.0425</td>\n",
       "      <td>0.1154</td>\n",
       "      <td>0.4223</td>\n",
       "      <td>1.0000</td>\n",
       "      <td>0.0486</td>\n",
       "      <td>0.1121</td>\n",
       "      <td>0.0487</td>\n",
       "      <td>0.0292</td>\n",
       "      <td>0.0629</td>\n",
       "      <td>0.0302</td>\n",
       "      <td>-0.4002</td>\n",
       "      <td>0.4401</td>\n",
       "      <td>0.0660</td>\n",
       "      <td>0.0942</td>\n",
       "      <td>-0.0132</td>\n",
       "    </tr>\n",
       "    <tr>\n",
       "      <th>Bedroom2</th>\n",
       "      <td>0.9539</td>\n",
       "      <td>0.4788</td>\n",
       "      <td>0.2924</td>\n",
       "      <td>0.0486</td>\n",
       "      <td>1.0000</td>\n",
       "      <td>0.5873</td>\n",
       "      <td>0.3962</td>\n",
       "      <td>0.0218</td>\n",
       "      <td>0.1122</td>\n",
       "      <td>-0.0683</td>\n",
       "      <td>0.0225</td>\n",
       "      <td>0.0979</td>\n",
       "      <td>-0.0837</td>\n",
       "      <td>0.1312</td>\n",
       "      <td>0.1256</td>\n",
       "    </tr>\n",
       "    <tr>\n",
       "      <th>Bathroom</th>\n",
       "      <td>0.5884</td>\n",
       "      <td>0.4702</td>\n",
       "      <td>0.1283</td>\n",
       "      <td>0.1121</td>\n",
       "      <td>0.5873</td>\n",
       "      <td>1.0000</td>\n",
       "      <td>0.3173</td>\n",
       "      <td>0.0402</td>\n",
       "      <td>0.0987</td>\n",
       "      <td>0.1485</td>\n",
       "      <td>-0.0644</td>\n",
       "      <td>0.1137</td>\n",
       "      <td>-0.0564</td>\n",
       "      <td>0.0492</td>\n",
       "      <td>-0.0076</td>\n",
       "    </tr>\n",
       "    <tr>\n",
       "      <th>Car</th>\n",
       "      <td>0.3971</td>\n",
       "      <td>0.2240</td>\n",
       "      <td>0.2680</td>\n",
       "      <td>0.0487</td>\n",
       "      <td>0.3962</td>\n",
       "      <td>0.3173</td>\n",
       "      <td>1.0000</td>\n",
       "      <td>0.0216</td>\n",
       "      <td>0.0970</td>\n",
       "      <td>0.1196</td>\n",
       "      <td>0.0023</td>\n",
       "      <td>0.0574</td>\n",
       "      <td>-0.0102</td>\n",
       "      <td>0.0920</td>\n",
       "      <td>0.0564</td>\n",
       "    </tr>\n",
       "    <tr>\n",
       "      <th>Landsize</th>\n",
       "      <td>0.0218</td>\n",
       "      <td>0.0366</td>\n",
       "      <td>0.0236</td>\n",
       "      <td>0.0292</td>\n",
       "      <td>0.0218</td>\n",
       "      <td>0.0402</td>\n",
       "      <td>0.0216</td>\n",
       "      <td>1.0000</td>\n",
       "      <td>0.6071</td>\n",
       "      <td>0.0324</td>\n",
       "      <td>0.0119</td>\n",
       "      <td>0.0080</td>\n",
       "      <td>-0.0075</td>\n",
       "      <td>0.0357</td>\n",
       "      <td>0.0309</td>\n",
       "    </tr>\n",
       "    <tr>\n",
       "      <th>BuildingArea</th>\n",
       "      <td>0.1132</td>\n",
       "      <td>0.0767</td>\n",
       "      <td>0.1114</td>\n",
       "      <td>0.0629</td>\n",
       "      <td>0.1122</td>\n",
       "      <td>0.0987</td>\n",
       "      <td>0.0970</td>\n",
       "      <td>0.6071</td>\n",
       "      <td>1.0000</td>\n",
       "      <td>0.0080</td>\n",
       "      <td>0.0577</td>\n",
       "      <td>-0.0355</td>\n",
       "      <td>-0.0319</td>\n",
       "      <td>0.0275</td>\n",
       "      <td>0.0642</td>\n",
       "    </tr>\n",
       "    <tr>\n",
       "      <th>YearBuilt</th>\n",
       "      <td>-0.0793</td>\n",
       "      <td>-0.3355</td>\n",
       "      <td>0.2475</td>\n",
       "      <td>0.0302</td>\n",
       "      <td>-0.0683</td>\n",
       "      <td>0.1485</td>\n",
       "      <td>0.1196</td>\n",
       "      <td>0.0324</td>\n",
       "      <td>0.0080</td>\n",
       "      <td>1.0000</td>\n",
       "      <td>0.0721</td>\n",
       "      <td>-0.0093</td>\n",
       "      <td>0.0089</td>\n",
       "      <td>0.1067</td>\n",
       "      <td>0.1084</td>\n",
       "    </tr>\n",
       "    <tr>\n",
       "      <th>Lattitude</th>\n",
       "      <td>0.0220</td>\n",
       "      <td>-0.2157</td>\n",
       "      <td>-0.1155</td>\n",
       "      <td>-0.4002</td>\n",
       "      <td>0.0225</td>\n",
       "      <td>-0.0644</td>\n",
       "      <td>0.0023</td>\n",
       "      <td>0.0119</td>\n",
       "      <td>0.0577</td>\n",
       "      <td>0.0721</td>\n",
       "      <td>1.0000</td>\n",
       "      <td>-0.3559</td>\n",
       "      <td>0.0511</td>\n",
       "      <td>0.0087</td>\n",
       "      <td>0.3245</td>\n",
       "    </tr>\n",
       "    <tr>\n",
       "      <th>Longtitude</th>\n",
       "      <td>0.0971</td>\n",
       "      <td>0.2025</td>\n",
       "      <td>0.2311</td>\n",
       "      <td>0.4401</td>\n",
       "      <td>0.0979</td>\n",
       "      <td>0.1137</td>\n",
       "      <td>0.0574</td>\n",
       "      <td>0.0080</td>\n",
       "      <td>-0.0355</td>\n",
       "      <td>-0.0093</td>\n",
       "      <td>-0.3559</td>\n",
       "      <td>1.0000</td>\n",
       "      <td>0.0657</td>\n",
       "      <td>0.0675</td>\n",
       "      <td>0.2416</td>\n",
       "    </tr>\n",
       "    <tr>\n",
       "      <th>Propertycount</th>\n",
       "      <td>-0.0830</td>\n",
       "      <td>-0.0453</td>\n",
       "      <td>-0.0539</td>\n",
       "      <td>0.0660</td>\n",
       "      <td>-0.0837</td>\n",
       "      <td>-0.0564</td>\n",
       "      <td>-0.0102</td>\n",
       "      <td>-0.0075</td>\n",
       "      <td>-0.0319</td>\n",
       "      <td>0.0089</td>\n",
       "      <td>0.0511</td>\n",
       "      <td>0.0657</td>\n",
       "      <td>1.0000</td>\n",
       "      <td>-0.0030</td>\n",
       "      <td>-0.0313</td>\n",
       "    </tr>\n",
       "    <tr>\n",
       "      <th>Date_num</th>\n",
       "      <td>0.1054</td>\n",
       "      <td>0.0124</td>\n",
       "      <td>0.2561</td>\n",
       "      <td>0.0942</td>\n",
       "      <td>0.1312</td>\n",
       "      <td>0.0492</td>\n",
       "      <td>0.0920</td>\n",
       "      <td>0.0357</td>\n",
       "      <td>0.0275</td>\n",
       "      <td>0.1067</td>\n",
       "      <td>0.0087</td>\n",
       "      <td>0.0675</td>\n",
       "      <td>-0.0030</td>\n",
       "      <td>1.0000</td>\n",
       "      <td>0.1775</td>\n",
       "    </tr>\n",
       "    <tr>\n",
       "      <th>Regionname_factor</th>\n",
       "      <td>0.1202</td>\n",
       "      <td>-0.2102</td>\n",
       "      <td>0.3941</td>\n",
       "      <td>-0.0132</td>\n",
       "      <td>0.1256</td>\n",
       "      <td>-0.0076</td>\n",
       "      <td>0.0564</td>\n",
       "      <td>0.0309</td>\n",
       "      <td>0.0642</td>\n",
       "      <td>0.1084</td>\n",
       "      <td>0.3245</td>\n",
       "      <td>0.2416</td>\n",
       "      <td>-0.0313</td>\n",
       "      <td>0.1775</td>\n",
       "      <td>1.0000</td>\n",
       "    </tr>\n",
       "  </tbody>\n",
       "</table>\n",
       "</div>"
      ],
      "text/plain": [
       "                    Rooms   Price  Distance  Postcode  Bedroom2  Bathroom  \\\n",
       "Rooms              1.0000  0.4946    0.2893    0.0425    0.9539    0.5884   \n",
       "Price              0.4946  1.0000   -0.1623    0.1154    0.4788    0.4702   \n",
       "Distance           0.2893 -0.1623    1.0000    0.4223    0.2924    0.1283   \n",
       "Postcode           0.0425  0.1154    0.4223    1.0000    0.0486    0.1121   \n",
       "Bedroom2           0.9539  0.4788    0.2924    0.0486    1.0000    0.5873   \n",
       "Bathroom           0.5884  0.4702    0.1283    0.1121    0.5873    1.0000   \n",
       "Car                0.3971  0.2240    0.2680    0.0487    0.3962    0.3173   \n",
       "Landsize           0.0218  0.0366    0.0236    0.0292    0.0218    0.0402   \n",
       "BuildingArea       0.1132  0.0767    0.1114    0.0629    0.1122    0.0987   \n",
       "YearBuilt         -0.0793 -0.3355    0.2475    0.0302   -0.0683    0.1485   \n",
       "Lattitude          0.0220 -0.2157   -0.1155   -0.4002    0.0225   -0.0644   \n",
       "Longtitude         0.0971  0.2025    0.2311    0.4401    0.0979    0.1137   \n",
       "Propertycount     -0.0830 -0.0453   -0.0539    0.0660   -0.0837   -0.0564   \n",
       "Date_num           0.1054  0.0124    0.2561    0.0942    0.1312    0.0492   \n",
       "Regionname_factor  0.1202 -0.2102    0.3941   -0.0132    0.1256   -0.0076   \n",
       "\n",
       "                      Car  Landsize  BuildingArea  YearBuilt  Lattitude  \\\n",
       "Rooms              0.3971    0.0218        0.1132    -0.0793     0.0220   \n",
       "Price              0.2240    0.0366        0.0767    -0.3355    -0.2157   \n",
       "Distance           0.2680    0.0236        0.1114     0.2475    -0.1155   \n",
       "Postcode           0.0487    0.0292        0.0629     0.0302    -0.4002   \n",
       "Bedroom2           0.3962    0.0218        0.1122    -0.0683     0.0225   \n",
       "Bathroom           0.3173    0.0402        0.0987     0.1485    -0.0644   \n",
       "Car                1.0000    0.0216        0.0970     0.1196     0.0023   \n",
       "Landsize           0.0216    1.0000        0.6071     0.0324     0.0119   \n",
       "BuildingArea       0.0970    0.6071        1.0000     0.0080     0.0577   \n",
       "YearBuilt          0.1196    0.0324        0.0080     1.0000     0.0721   \n",
       "Lattitude          0.0023    0.0119        0.0577     0.0721     1.0000   \n",
       "Longtitude         0.0574    0.0080       -0.0355    -0.0093    -0.3559   \n",
       "Propertycount     -0.0102   -0.0075       -0.0319     0.0089     0.0511   \n",
       "Date_num           0.0920    0.0357        0.0275     0.1067     0.0087   \n",
       "Regionname_factor  0.0564    0.0309        0.0642     0.1084     0.3245   \n",
       "\n",
       "                   Longtitude  Propertycount  Date_num  Regionname_factor  \n",
       "Rooms                  0.0971        -0.0830    0.1054             0.1202  \n",
       "Price                  0.2025        -0.0453    0.0124            -0.2102  \n",
       "Distance               0.2311        -0.0539    0.2561             0.3941  \n",
       "Postcode               0.4401         0.0660    0.0942            -0.0132  \n",
       "Bedroom2               0.0979        -0.0837    0.1312             0.1256  \n",
       "Bathroom               0.1137        -0.0564    0.0492            -0.0076  \n",
       "Car                    0.0574        -0.0102    0.0920             0.0564  \n",
       "Landsize               0.0080        -0.0075    0.0357             0.0309  \n",
       "BuildingArea          -0.0355        -0.0319    0.0275             0.0642  \n",
       "YearBuilt             -0.0093         0.0089    0.1067             0.1084  \n",
       "Lattitude             -0.3559         0.0511    0.0087             0.3245  \n",
       "Longtitude             1.0000         0.0657    0.0675             0.2416  \n",
       "Propertycount          0.0657         1.0000   -0.0030            -0.0313  \n",
       "Date_num               0.0675        -0.0030    1.0000             0.1775  \n",
       "Regionname_factor      0.2416        -0.0313    0.1775             1.0000  "
      ]
     },
     "execution_count": 26,
     "metadata": {},
     "output_type": "execute_result"
    }
   ],
   "source": [
    "## When the tool of grouped statistics is not working.....\n",
    "## We may need something more abstract\n",
    "\n",
    "## Correlation matrix\n",
    "melb.corr()\n"
   ]
  },
  {
   "cell_type": "code",
   "execution_count": 27,
   "id": "designing-royal",
   "metadata": {},
   "outputs": [],
   "source": [
    "## With this tool, we can have a quick overview about the relationships between variables\n",
    "## Are those variables having small coefficients with Price should be excluded from model?\n",
    "## What is correlation in statistics?\n",
    "## What is correlation in real world?\n",
    "\n",
    "## Is the coefficients with Regionname_factor making sense?"
   ]
  },
  {
   "cell_type": "code",
   "execution_count": 27,
   "id": "dependent-guarantee",
   "metadata": {},
   "outputs": [
    {
     "data": {
      "text/html": [
       "<div>\n",
       "<style scoped>\n",
       "    .dataframe tbody tr th:only-of-type {\n",
       "        vertical-align: middle;\n",
       "    }\n",
       "\n",
       "    .dataframe tbody tr th {\n",
       "        vertical-align: top;\n",
       "    }\n",
       "\n",
       "    .dataframe thead th {\n",
       "        text-align: right;\n",
       "    }\n",
       "</style>\n",
       "<table border=\"1\" class=\"dataframe\">\n",
       "  <thead>\n",
       "    <tr style=\"text-align: right;\">\n",
       "      <th></th>\n",
       "      <th>YearBuilt</th>\n",
       "      <th>count</th>\n",
       "      <th>mean</th>\n",
       "    </tr>\n",
       "  </thead>\n",
       "  <tbody>\n",
       "    <tr>\n",
       "      <th>70</th>\n",
       "      <td>1951.0000</td>\n",
       "      <td>2</td>\n",
       "      <td>1200750.0000</td>\n",
       "    </tr>\n",
       "    <tr>\n",
       "      <th>71</th>\n",
       "      <td>1952.0000</td>\n",
       "      <td>3</td>\n",
       "      <td>1316666.6667</td>\n",
       "    </tr>\n",
       "    <tr>\n",
       "      <th>72</th>\n",
       "      <td>1953.0000</td>\n",
       "      <td>4</td>\n",
       "      <td>1250000.0000</td>\n",
       "    </tr>\n",
       "    <tr>\n",
       "      <th>73</th>\n",
       "      <td>1954.0000</td>\n",
       "      <td>2</td>\n",
       "      <td>1132500.0000</td>\n",
       "    </tr>\n",
       "    <tr>\n",
       "      <th>74</th>\n",
       "      <td>1955.0000</td>\n",
       "      <td>62</td>\n",
       "      <td>1138463.7097</td>\n",
       "    </tr>\n",
       "    <tr>\n",
       "      <th>...</th>\n",
       "      <td>...</td>\n",
       "      <td>...</td>\n",
       "      <td>...</td>\n",
       "    </tr>\n",
       "    <tr>\n",
       "      <th>133</th>\n",
       "      <td>2014.0000</td>\n",
       "      <td>71</td>\n",
       "      <td>937056.3380</td>\n",
       "    </tr>\n",
       "    <tr>\n",
       "      <th>134</th>\n",
       "      <td>2015.0000</td>\n",
       "      <td>44</td>\n",
       "      <td>1265534.0909</td>\n",
       "    </tr>\n",
       "    <tr>\n",
       "      <th>135</th>\n",
       "      <td>2016.0000</td>\n",
       "      <td>42</td>\n",
       "      <td>1510250.0000</td>\n",
       "    </tr>\n",
       "    <tr>\n",
       "      <th>136</th>\n",
       "      <td>2017.0000</td>\n",
       "      <td>13</td>\n",
       "      <td>1046730.8462</td>\n",
       "    </tr>\n",
       "    <tr>\n",
       "      <th>137</th>\n",
       "      <td>2018.0000</td>\n",
       "      <td>1</td>\n",
       "      <td>1310000.0000</td>\n",
       "    </tr>\n",
       "  </tbody>\n",
       "</table>\n",
       "<p>68 rows × 3 columns</p>\n",
       "</div>"
      ],
      "text/plain": [
       "     YearBuilt  count         mean\n",
       "70   1951.0000      2 1200750.0000\n",
       "71   1952.0000      3 1316666.6667\n",
       "72   1953.0000      4 1250000.0000\n",
       "73   1954.0000      2 1132500.0000\n",
       "74   1955.0000     62 1138463.7097\n",
       "..         ...    ...          ...\n",
       "133  2014.0000     71  937056.3380\n",
       "134  2015.0000     44 1265534.0909\n",
       "135  2016.0000     42 1510250.0000\n",
       "136  2017.0000     13 1046730.8462\n",
       "137  2018.0000      1 1310000.0000\n",
       "\n",
       "[68 rows x 3 columns]"
      ]
     },
     "execution_count": 27,
     "metadata": {},
     "output_type": "execute_result"
    }
   ],
   "source": [
    "## With the result above, \n",
    "## I'm curious why there is a negative correlation relationship between Price and YearBuilt.\n",
    "## Since it implies when YearBuilt goes up (\"younger\"), \n",
    "## Price will tend to be down (\"Cheaper\")\n",
    "\n",
    "mean_price_by_year = melb.groupby(\"YearBuilt\").Price.aggregate([\"count\", \"mean\"])\n",
    "\n",
    "## After the aggregate operation, YearBuilt is no longer treated as varible, but index\n",
    "## use reset_index to unset thing transformation\n",
    "mean_price_by_year = mean_price_by_year.reset_index()\n",
    "\n",
    "mean_price_by_year[mean_price_by_year.YearBuilt > 1950] "
   ]
  },
  {
   "cell_type": "markdown",
   "id": "featured-portuguese",
   "metadata": {},
   "source": [
    "### Data Visualization"
   ]
  },
  {
   "cell_type": "code",
   "execution_count": 28,
   "id": "charitable-johnson",
   "metadata": {},
   "outputs": [],
   "source": [
    "## The table of mean Price by YearBuilt is hard to read.....\n",
    "## Try some visualization maybe?\n"
   ]
  },
  {
   "cell_type": "code",
   "execution_count": 36,
   "id": "average-fisher",
   "metadata": {},
   "outputs": [
    {
     "data": {
      "text/plain": [
       "<AxesSubplot:xlabel='YearBuilt'>"
      ]
     },
     "execution_count": 36,
     "metadata": {},
     "output_type": "execute_result"
    },
    {
     "data": {
      "image/png": "[encoded data removed]",
      "text/plain": [
       "<Figure size 432x288 with 1 Axes>"
      ]
     },
     "metadata": {
      "needs_background": "light"
     },
     "output_type": "display_data"
    }
   ],
   "source": [
    "%matplotlib inline\n",
    "\n",
    "## A line plot of mean price, by yearbuilt\n",
    "## The correlation is right, the younger the cheaper.....\n",
    "\n",
    "\n",
    "mean_price_by_year[mean_price_by_year.YearBuilt > 1900].plot(x=\"YearBuilt\", y=\"mean\") "
   ]
  },
  {
   "cell_type": "code",
   "execution_count": 37,
   "id": "worth-eagle",
   "metadata": {},
   "outputs": [
    {
     "data": {
      "text/html": [
       "<div>\n",
       "<style scoped>\n",
       "    .dataframe tbody tr th:only-of-type {\n",
       "        vertical-align: middle;\n",
       "    }\n",
       "\n",
       "    .dataframe tbody tr th {\n",
       "        vertical-align: top;\n",
       "    }\n",
       "\n",
       "    .dataframe thead th {\n",
       "        text-align: right;\n",
       "    }\n",
       "</style>\n",
       "<table border=\"1\" class=\"dataframe\">\n",
       "  <thead>\n",
       "    <tr style=\"text-align: right;\">\n",
       "      <th></th>\n",
       "      <th>Price</th>\n",
       "      <th>unit_price</th>\n",
       "      <th>YearBuilt</th>\n",
       "    </tr>\n",
       "  </thead>\n",
       "  <tbody>\n",
       "    <tr>\n",
       "      <th>Price</th>\n",
       "      <td>1.0000</td>\n",
       "      <td>0.0680</td>\n",
       "      <td>-0.3355</td>\n",
       "    </tr>\n",
       "    <tr>\n",
       "      <th>unit_price</th>\n",
       "      <td>0.0680</td>\n",
       "      <td>1.0000</td>\n",
       "      <td>-0.0051</td>\n",
       "    </tr>\n",
       "    <tr>\n",
       "      <th>YearBuilt</th>\n",
       "      <td>-0.3355</td>\n",
       "      <td>-0.0051</td>\n",
       "      <td>1.0000</td>\n",
       "    </tr>\n",
       "  </tbody>\n",
       "</table>\n",
       "</div>"
      ],
      "text/plain": [
       "             Price  unit_price  YearBuilt\n",
       "Price       1.0000      0.0680    -0.3355\n",
       "unit_price  0.0680      1.0000    -0.0051\n",
       "YearBuilt  -0.3355     -0.0051     1.0000"
      ]
     },
     "execution_count": 37,
     "metadata": {},
     "output_type": "execute_result"
    }
   ],
   "source": [
    "## Maybe the old building is bigger?\n",
    "## a new column is coming....\n",
    "melb[\"unit_price\"] = melb.Price / melb.BuildingArea\n",
    "\n",
    "melb[[\"Price\", \"unit_price\", \"YearBuilt\"]].corr()\n",
    "\n"
   ]
  },
  {
   "cell_type": "code",
   "execution_count": 38,
   "id": "toxic-orchestra",
   "metadata": {},
   "outputs": [],
   "source": [
    "## After these few code blocks, what do we know now?\n",
    "## 1. We should put YearBuilt and BuildingArea into the model together if we need one of them\n",
    "## 2. Can I use unit_price in the prediction model?"
   ]
  },
  {
   "cell_type": "code",
   "execution_count": 39,
   "id": "anticipated-dubai",
   "metadata": {},
   "outputs": [],
   "source": [
    "## I can show you more about the visualization tools often used in my works...."
   ]
  },
  {
   "cell_type": "code",
   "execution_count": 40,
   "id": "indie-wisdom",
   "metadata": {},
   "outputs": [
    {
     "data": {
      "text/plain": [
       "<AxesSubplot:>"
      ]
     },
     "execution_count": 40,
     "metadata": {},
     "output_type": "execute_result"
    },
    {
     "data": {
      "image/png": "[encoded data removed]",
      "text/plain": [
       "<Figure size 432x288 with 1 Axes>"
      ]
     },
     "metadata": {
      "needs_background": "light"
     },
     "output_type": "display_data"
    }
   ],
   "source": [
    "## Bar plot\n",
    "melb.Regionname.value_counts().plot.bar()"
   ]
  },
  {
   "cell_type": "code",
   "execution_count": 41,
   "id": "advised-heritage",
   "metadata": {},
   "outputs": [
    {
     "data": {
      "text/plain": [
       "<AxesSubplot:ylabel='Frequency'>"
      ]
     },
     "execution_count": 41,
     "metadata": {},
     "output_type": "execute_result"
    },
    {
     "data": {
      "image/png": "[encoded data removed]",
      "text/plain": [
       "<Figure size 432x288 with 1 Axes>"
      ]
     },
     "metadata": {
      "needs_background": "light"
     },
     "output_type": "display_data"
    }
   ],
   "source": [
    "## histogram\n",
    "## What is the difference betweeen bar plot and histogram?\n",
    "melb.Distance.plot.hist()"
   ]
  },
  {
   "cell_type": "code",
   "execution_count": 42,
   "id": "banned-deployment",
   "metadata": {},
   "outputs": [
    {
     "data": {
      "text/plain": [
       "<AxesSubplot:ylabel='Density'>"
      ]
     },
     "execution_count": 42,
     "metadata": {},
     "output_type": "execute_result"
    },
    {
     "data": {
      "image/png": "[encoded data removed]",
      "text/plain": [
       "<Figure size 432x288 with 1 Axes>"
      ]
     },
     "metadata": {
      "needs_background": "light"
     },
     "output_type": "display_data"
    }
   ],
   "source": [
    "## density\n",
    "## What is the difference betweeen density and histogram?\n",
    "melb.Distance.plot.kde()"
   ]
  },
  {
   "cell_type": "code",
   "execution_count": 43,
   "id": "flush-accuracy",
   "metadata": {},
   "outputs": [
    {
     "data": {
      "text/plain": [
       "<AxesSubplot:>"
      ]
     },
     "execution_count": 43,
     "metadata": {},
     "output_type": "execute_result"
    },
    {
     "data": {
      "image/png": "[encoded data removed]",
      "text/plain": [
       "<Figure size 432x288 with 1 Axes>"
      ]
     },
     "metadata": {
      "needs_background": "light"
     },
     "output_type": "display_data"
    }
   ],
   "source": [
    "## Boxplot \n",
    "## The dot donates outliers.....\n",
    "melb.Landsize.plot.box()"
   ]
  },
  {
   "cell_type": "code",
   "execution_count": 44,
   "id": "adjustable-memorabilia",
   "metadata": {},
   "outputs": [
    {
     "data": {
      "text/plain": [
       "<AxesSubplot:xlabel='Landsize', ylabel='Price'>"
      ]
     },
     "execution_count": 44,
     "metadata": {},
     "output_type": "execute_result"
    },
    {
     "data": {
      "image/png": "[encoded data removed]",
      "text/plain": [
       "<Figure size 432x288 with 1 Axes>"
      ]
     },
     "metadata": {
      "needs_background": "light"
     },
     "output_type": "display_data"
    }
   ],
   "source": [
    "## scatter plot\n",
    "## yeah these crazy outliers og Landsize make this plot valueless\n",
    "melb.plot.scatter(x=\"Landsize\", y=\"Price\")\n"
   ]
  },
  {
   "cell_type": "code",
   "execution_count": 45,
   "id": "human-pressing",
   "metadata": {},
   "outputs": [
    {
     "data": {
      "text/plain": [
       "<AxesSubplot:xlabel='Landsize', ylabel='Price'>"
      ]
     },
     "execution_count": 45,
     "metadata": {},
     "output_type": "execute_result"
    },
    {
     "data": {
      "image/png": "[encoded data removed]",
      "text/plain": [
       "<Figure size 432x288 with 1 Axes>"
      ]
     },
     "metadata": {
      "needs_background": "light"
     },
     "output_type": "display_data"
    }
   ],
   "source": [
    "## scatter plot: 2\n",
    "## exclude outliers \n",
    "## Is there insight to you?\n",
    "melb[melb.Landsize < 10000].plot.scatter(x=\"Landsize\", y=\"Price\")\n",
    "\n",
    "##"
   ]
  },
  {
   "cell_type": "markdown",
   "id": "recreational-interview",
   "metadata": {},
   "source": [
    "## Your first model: Linear Regression"
   ]
  },
  {
   "cell_type": "markdown",
   "id": "needed-cholesterol",
   "metadata": {},
   "source": [
    "### Round 1: Linear is all you need"
   ]
  },
  {
   "cell_type": "code",
   "execution_count": 46,
   "id": "planned-adrian",
   "metadata": {},
   "outputs": [],
   "source": [
    "## First, seperate the whole dataset into 2 parts\n",
    "## the first 10000 rows as melb_train\n",
    "## all the others as melb_test\n",
    "## and you should forget about melb_test when training th model\n",
    "\n",
    "melb_train = melb \n",
    "melb_test = melb_test"
   ]
  },
  {
   "cell_type": "code",
   "execution_count": 47,
   "id": "worst-finnish",
   "metadata": {},
   "outputs": [],
   "source": [
    "## Scikit-learn \n",
    "from sklearn.linear_model import LinearRegression\n",
    "\n",
    "## Initiate a model with intercept (b_0)\n",
    "lr_model = LinearRegression(fit_intercept=True)"
   ]
  },
  {
   "cell_type": "code",
   "execution_count": 48,
   "id": "worth-planning",
   "metadata": {},
   "outputs": [
    {
     "data": {
      "text/plain": [
       "<AxesSubplot:xlabel='Distance', ylabel='Price'>"
      ]
     },
     "execution_count": 48,
     "metadata": {},
     "output_type": "execute_result"
    },
    {
     "data": {
      "image/png": "[encoded data removed]",
      "text/plain": [
       "<Figure size 432x288 with 1 Axes>"
      ]
     },
     "metadata": {
      "needs_background": "light"
     },
     "output_type": "display_data"
    }
   ],
   "source": [
    "## First we try a model with only one feature: Distance\n",
    "melb_train.plot.scatter(y=\"Price\", x=\"Distance\")"
   ]
  },
  {
   "cell_type": "code",
   "execution_count": 49,
   "id": "defensive-contact",
   "metadata": {},
   "outputs": [
    {
     "data": {
      "text/plain": [
       "LinearRegression()"
      ]
     },
     "execution_count": 49,
     "metadata": {},
     "output_type": "execute_result"
    }
   ],
   "source": [
    "## select the features\n",
    "features_in_model = [\"Distance\"]\n",
    "X = melb_train[features_in_model]\n",
    "\n",
    "## select the prediction target\n",
    "y = melb_train[\"Price\"]\n",
    "\n",
    "## train the Linear regression model with y and X\n",
    "lr_model.fit(X, y)"
   ]
  },
  {
   "cell_type": "code",
   "execution_count": 50,
   "id": "ceramic-collector",
   "metadata": {},
   "outputs": [
    {
     "name": "stdout",
     "output_type": "stream",
     "text": [
      "b_0 = 1259059.7488\n",
      "b_1 = -17772.8388\n"
     ]
    },
    {
     "data": {
      "text/plain": [
       "[<matplotlib.lines.Line2D at 0x7fa1d791e1c0>]"
      ]
     },
     "execution_count": 50,
     "metadata": {},
     "output_type": "execute_result"
    },
    {
     "data": {
      "image/png": "[encoded data removed]",
      "text/plain": [
       "<Figure size 432x288 with 1 Axes>"
      ]
     },
     "metadata": {
      "needs_background": "light"
     },
     "output_type": "display_data"
    }
   ],
   "source": [
    "## The model we just fitted is:\n",
    "## Price = b_0 + b_1 * Distance\n",
    "\n",
    "print(\"b_0 = {:.4f}\".format(lr_model.intercept_))\n",
    "print(\"b_1 = {:.4f}\".format(lr_model.coef_[0]))\n",
    "\n",
    "## plot the result on the scatter plot\n",
    "lr_pred_price = lr_model.intercept_ + melb_train.Distance*lr_model.coef_[0]\n",
    "\n",
    "import matplotlib.pyplot as plt\n",
    "plt.scatter(melb_train.Distance, melb_train.Price)\n",
    "plt.plot(melb_train.Distance, lr_pred_price , color = \"red\")"
   ]
  },
  {
   "cell_type": "code",
   "execution_count": 51,
   "id": "decent-tender",
   "metadata": {},
   "outputs": [
    {
     "name": "stdout",
     "output_type": "stream",
     "text": [
      "R^2 = 0.0263\n"
     ]
    }
   ],
   "source": [
    "## If the target is prefectly predicted by the feature\n",
    "## all the data point (blue) will lay on the fitted line (red)\n",
    "## obviously, this model is not perfect\n",
    "## But how is it?\n",
    "print(\"R^2 = {:.4f}\".format(lr_model.score(X, y)))\n"
   ]
  },
  {
   "cell_type": "markdown",
   "id": "fleet-scale",
   "metadata": {},
   "source": [
    "### Round 2: more features, more obstacles"
   ]
  },
  {
   "cell_type": "code",
   "execution_count": 52,
   "id": "sweet-culture",
   "metadata": {},
   "outputs": [
    {
     "data": {
      "text/html": [
       "<div>\n",
       "<style scoped>\n",
       "    .dataframe tbody tr th:only-of-type {\n",
       "        vertical-align: middle;\n",
       "    }\n",
       "\n",
       "    .dataframe tbody tr th {\n",
       "        vertical-align: top;\n",
       "    }\n",
       "\n",
       "    .dataframe thead th {\n",
       "        text-align: right;\n",
       "    }\n",
       "</style>\n",
       "<table border=\"1\" class=\"dataframe\">\n",
       "  <thead>\n",
       "    <tr style=\"text-align: right;\">\n",
       "      <th></th>\n",
       "      <th>Distance</th>\n",
       "      <th>Rooms</th>\n",
       "      <th>YearBuilt</th>\n",
       "      <th>BuildingArea</th>\n",
       "      <th>Landsize</th>\n",
       "    </tr>\n",
       "  </thead>\n",
       "  <tbody>\n",
       "    <tr>\n",
       "      <th>0</th>\n",
       "      <td>5.6000</td>\n",
       "      <td>3</td>\n",
       "      <td>NaN</td>\n",
       "      <td>NaN</td>\n",
       "      <td>519.0000</td>\n",
       "    </tr>\n",
       "    <tr>\n",
       "      <th>1</th>\n",
       "      <td>18.4000</td>\n",
       "      <td>3</td>\n",
       "      <td>NaN</td>\n",
       "      <td>NaN</td>\n",
       "      <td>435.0000</td>\n",
       "    </tr>\n",
       "    <tr>\n",
       "      <th>2</th>\n",
       "      <td>12.6000</td>\n",
       "      <td>3</td>\n",
       "      <td>1970.0000</td>\n",
       "      <td>NaN</td>\n",
       "      <td>505.0000</td>\n",
       "    </tr>\n",
       "    <tr>\n",
       "      <th>3</th>\n",
       "      <td>3.3000</td>\n",
       "      <td>3</td>\n",
       "      <td>NaN</td>\n",
       "      <td>NaN</td>\n",
       "      <td>130.0000</td>\n",
       "    </tr>\n",
       "    <tr>\n",
       "      <th>4</th>\n",
       "      <td>12.1000</td>\n",
       "      <td>3</td>\n",
       "      <td>1950.0000</td>\n",
       "      <td>169.0000</td>\n",
       "      <td>506.0000</td>\n",
       "    </tr>\n",
       "  </tbody>\n",
       "</table>\n",
       "</div>"
      ],
      "text/plain": [
       "   Distance  Rooms  YearBuilt  BuildingArea  Landsize\n",
       "0    5.6000      3        NaN           NaN  519.0000\n",
       "1   18.4000      3        NaN           NaN  435.0000\n",
       "2   12.6000      3  1970.0000           NaN  505.0000\n",
       "3    3.3000      3        NaN           NaN  130.0000\n",
       "4   12.1000      3  1950.0000      169.0000  506.0000"
      ]
     },
     "execution_count": 52,
     "metadata": {},
     "output_type": "execute_result"
    }
   ],
   "source": [
    "## 0.02 is a poor result\n",
    "## Distance itself can't have much information for predicting price\n",
    "## we can try some another combination of features\n",
    "features_in_model = [\"Distance\", \"Rooms\", \"YearBuilt\", \"BuildingArea\",\"Landsize\"]\n",
    "\n",
    "X = melb_train[features_in_model]\n",
    "\n",
    "## However, there are missing data \n",
    "## NaN is \"Not a Number\"\n",
    "X.head()"
   ]
  },
  {
   "cell_type": "code",
   "execution_count": 53,
   "id": "sunrise-journalism",
   "metadata": {},
   "outputs": [
    {
     "data": {
      "text/plain": [
       "0    False\n",
       "1    False\n",
       "2    False\n",
       "3    False\n",
       "4     True\n",
       "dtype: bool"
      ]
     },
     "execution_count": 53,
     "metadata": {},
     "output_type": "execute_result"
    }
   ],
   "source": [
    "## When \"YearBuilt\" is not a number, the model can't multiply it with a coefficient\n",
    "## We can just keep all the rows with no missing value\n",
    "## the 2nd and 3rd row will be dropped\n",
    "flawless_rows = melb_train[features_in_model].isna().sum(axis=1) == 0\n",
    "flawless_rows.head()\n"
   ]
  },
  {
   "cell_type": "code",
   "execution_count": 54,
   "id": "transparent-judgment",
   "metadata": {},
   "outputs": [
    {
     "data": {
      "text/plain": [
       "LinearRegression()"
      ]
     },
     "execution_count": 54,
     "metadata": {},
     "output_type": "execute_result"
    }
   ],
   "source": [
    "## Select the features, and keep those rows with no missing value\n",
    "X = X.loc[flawless_rows, features_in_model]\n",
    "\n",
    "## apply same missing value policy on target\n",
    "y = melb_train.loc[flawless_rows, \"Price\"]\n",
    "\n",
    "## Initiate a model\n",
    "lr_model = LinearRegression(fit_intercept=True)\n",
    "\n",
    "## train the Linear regression model\n",
    "lr_model.fit(X, y)\n"
   ]
  },
  {
   "cell_type": "code",
   "execution_count": 55,
   "id": "checked-arena",
   "metadata": {},
   "outputs": [
    {
     "name": "stdout",
     "output_type": "stream",
     "text": [
      "b_0 = 8734960.9271\n",
      "b_1 = -29977.0417\n",
      "b_2 = 270200.6041\n",
      "b_3 = -4327.0839\n",
      "b_4 = 2297.0469\n",
      "b_5 = 32.1486\n"
     ]
    }
   ],
   "source": [
    "## The model v2 is:\n",
    "## Price = b_0 + b_1 * Distance + b_2 * Rooms + b_3 * YearBuilt +\n",
    "##         b_4 * BuildingArea + b_5 * Landsize\n",
    "\n",
    "print(\"b_0 = {:.4f}\".format(lr_model.intercept_))\n",
    "for i in range(len(lr_model.coef_)):\n",
    "    print(\"b_{} = {:.4f}\".format(i + 1,lr_model.coef_[i]))\n",
    "\n",
    "\n"
   ]
  },
  {
   "cell_type": "code",
   "execution_count": 56,
   "id": "direct-variable",
   "metadata": {},
   "outputs": [
    {
     "name": "stdout",
     "output_type": "stream",
     "text": [
      "R^2 = 0.4753\n"
     ]
    }
   ],
   "source": [
    "## overall performance\n",
    "## it's far better\n",
    "print(\"R^2 = {:.4f}\".format(lr_model.score(X, y)))"
   ]
  },
  {
   "cell_type": "markdown",
   "id": "introductory-jonathan",
   "metadata": {},
   "source": [
    "### Evaluate with test data "
   ]
  },
  {
   "cell_type": "code",
   "execution_count": 57,
   "id": "controlled-combine",
   "metadata": {},
   "outputs": [
    {
     "data": {
      "text/html": [
       "<div>\n",
       "<style scoped>\n",
       "    .dataframe tbody tr th:only-of-type {\n",
       "        vertical-align: middle;\n",
       "    }\n",
       "\n",
       "    .dataframe tbody tr th {\n",
       "        vertical-align: top;\n",
       "    }\n",
       "\n",
       "    .dataframe thead th {\n",
       "        text-align: right;\n",
       "    }\n",
       "</style>\n",
       "<table border=\"1\" class=\"dataframe\">\n",
       "  <thead>\n",
       "    <tr style=\"text-align: right;\">\n",
       "      <th></th>\n",
       "      <th>Distance</th>\n",
       "      <th>Rooms</th>\n",
       "      <th>YearBuilt</th>\n",
       "      <th>BuildingArea</th>\n",
       "      <th>Landsize</th>\n",
       "    </tr>\n",
       "  </thead>\n",
       "  <tbody>\n",
       "    <tr>\n",
       "      <th>9000</th>\n",
       "      <td>6.4000</td>\n",
       "      <td>2</td>\n",
       "      <td>1990.0000</td>\n",
       "      <td>89.0000</td>\n",
       "      <td>312.0000</td>\n",
       "    </tr>\n",
       "    <tr>\n",
       "      <th>9001</th>\n",
       "      <td>12.8000</td>\n",
       "      <td>4</td>\n",
       "      <td>1980.0000</td>\n",
       "      <td>268.0000</td>\n",
       "      <td>776.0000</td>\n",
       "    </tr>\n",
       "    <tr>\n",
       "      <th>9002</th>\n",
       "      <td>6.5000</td>\n",
       "      <td>3</td>\n",
       "      <td>NaN</td>\n",
       "      <td>NaN</td>\n",
       "      <td>447.0000</td>\n",
       "    </tr>\n",
       "    <tr>\n",
       "      <th>9003</th>\n",
       "      <td>13.0000</td>\n",
       "      <td>4</td>\n",
       "      <td>NaN</td>\n",
       "      <td>NaN</td>\n",
       "      <td>591.0000</td>\n",
       "    </tr>\n",
       "    <tr>\n",
       "      <th>9004</th>\n",
       "      <td>6.1000</td>\n",
       "      <td>2</td>\n",
       "      <td>NaN</td>\n",
       "      <td>NaN</td>\n",
       "      <td>1055.0000</td>\n",
       "    </tr>\n",
       "  </tbody>\n",
       "</table>\n",
       "</div>"
      ],
      "text/plain": [
       "      Distance  Rooms  YearBuilt  BuildingArea  Landsize\n",
       "9000    6.4000      2  1990.0000       89.0000  312.0000\n",
       "9001   12.8000      4  1980.0000      268.0000  776.0000\n",
       "9002    6.5000      3        NaN           NaN  447.0000\n",
       "9003   13.0000      4        NaN           NaN  591.0000\n",
       "9004    6.1000      2        NaN           NaN 1055.0000"
      ]
     },
     "execution_count": 57,
     "metadata": {},
     "output_type": "execute_result"
    }
   ],
   "source": [
    "## apply same logic on testing data\n",
    "## oops....... there are missing values in test data, too.....\n",
    "X_test = melb_test[features_in_model]\n",
    "y_test = melb_test[\"Price\"]\n",
    "\n",
    "X_test.head()\n"
   ]
  },
  {
   "cell_type": "code",
   "execution_count": 58,
   "id": "controlled-ability",
   "metadata": {},
   "outputs": [
    {
     "data": {
      "text/plain": [
       "9000     468000.0000\n",
       "9001    1010000.0000\n",
       "9002    1200000.0000\n",
       "9003    1355000.0000\n",
       "9004     640000.0000\n",
       "            ...     \n",
       "10995    950000.0000\n",
       "10996   1307500.0000\n",
       "10997    920000.0000\n",
       "10998    800000.0000\n",
       "10999    452000.0000\n",
       "Name: Price, Length: 2000, dtype: float64"
      ]
     },
     "execution_count": 58,
     "metadata": {},
     "output_type": "execute_result"
    }
   ],
   "source": [
    "y_test"
   ]
  },
  {
   "cell_type": "code",
   "execution_count": 59,
   "id": "recorded-puzzle",
   "metadata": {},
   "outputs": [
    {
     "ename": "ValueError",
     "evalue": "Input contains NaN, infinity or a value too large for dtype('float64').",
     "output_type": "error",
     "traceback": [
      "\u001b[0;31m---------------------------------------------------------------------------\u001b[0m",
      "\u001b[0;31mValueError\u001b[0m                                Traceback (most recent call last)",
      "Input \u001b[0;32mIn [59]\u001b[0m, in \u001b[0;36m<module>\u001b[0;34m\u001b[0m\n\u001b[1;32m      1\u001b[0m \u001b[38;5;66;03m## what if just put test data like this into model?\u001b[39;00m\n\u001b[1;32m      2\u001b[0m \u001b[38;5;66;03m## ummmmmmm......\u001b[39;00m\n\u001b[0;32m----> 3\u001b[0m \u001b[43mlr_model\u001b[49m\u001b[38;5;241;43m.\u001b[39;49m\u001b[43mpredict\u001b[49m\u001b[43m(\u001b[49m\u001b[43mX_test\u001b[49m\u001b[43m)\u001b[49m\n",
      "File \u001b[0;32m~/opt/miniconda3/envs/cs224n/lib/python3.8/site-packages/sklearn/linear_model/_base.py:238\u001b[0m, in \u001b[0;36mLinearModel.predict\u001b[0;34m(self, X)\u001b[0m\n\u001b[1;32m    224\u001b[0m \u001b[38;5;28;01mdef\u001b[39;00m \u001b[38;5;21mpredict\u001b[39m(\u001b[38;5;28mself\u001b[39m, X):\n\u001b[1;32m    225\u001b[0m     \u001b[38;5;124;03m\"\"\"\u001b[39;00m\n\u001b[1;32m    226\u001b[0m \u001b[38;5;124;03m    Predict using the linear model.\u001b[39;00m\n\u001b[1;32m    227\u001b[0m \n\u001b[0;32m   (...)\u001b[0m\n\u001b[1;32m    236\u001b[0m \u001b[38;5;124;03m        Returns predicted values.\u001b[39;00m\n\u001b[1;32m    237\u001b[0m \u001b[38;5;124;03m    \"\"\"\u001b[39;00m\n\u001b[0;32m--> 238\u001b[0m     \u001b[38;5;28;01mreturn\u001b[39;00m \u001b[38;5;28;43mself\u001b[39;49m\u001b[38;5;241;43m.\u001b[39;49m\u001b[43m_decision_function\u001b[49m\u001b[43m(\u001b[49m\u001b[43mX\u001b[49m\u001b[43m)\u001b[49m\n",
      "File \u001b[0;32m~/opt/miniconda3/envs/cs224n/lib/python3.8/site-packages/sklearn/linear_model/_base.py:220\u001b[0m, in \u001b[0;36mLinearModel._decision_function\u001b[0;34m(self, X)\u001b[0m\n\u001b[1;32m    217\u001b[0m \u001b[38;5;28;01mdef\u001b[39;00m \u001b[38;5;21m_decision_function\u001b[39m(\u001b[38;5;28mself\u001b[39m, X):\n\u001b[1;32m    218\u001b[0m     check_is_fitted(\u001b[38;5;28mself\u001b[39m)\n\u001b[0;32m--> 220\u001b[0m     X \u001b[38;5;241m=\u001b[39m \u001b[43mcheck_array\u001b[49m\u001b[43m(\u001b[49m\u001b[43mX\u001b[49m\u001b[43m,\u001b[49m\u001b[43m \u001b[49m\u001b[43maccept_sparse\u001b[49m\u001b[38;5;241;43m=\u001b[39;49m\u001b[43m[\u001b[49m\u001b[38;5;124;43m'\u001b[39;49m\u001b[38;5;124;43mcsr\u001b[39;49m\u001b[38;5;124;43m'\u001b[39;49m\u001b[43m,\u001b[49m\u001b[43m \u001b[49m\u001b[38;5;124;43m'\u001b[39;49m\u001b[38;5;124;43mcsc\u001b[39;49m\u001b[38;5;124;43m'\u001b[39;49m\u001b[43m,\u001b[49m\u001b[43m \u001b[49m\u001b[38;5;124;43m'\u001b[39;49m\u001b[38;5;124;43mcoo\u001b[39;49m\u001b[38;5;124;43m'\u001b[39;49m\u001b[43m]\u001b[49m\u001b[43m)\u001b[49m\n\u001b[1;32m    221\u001b[0m     \u001b[38;5;28;01mreturn\u001b[39;00m safe_sparse_dot(X, \u001b[38;5;28mself\u001b[39m\u001b[38;5;241m.\u001b[39mcoef_\u001b[38;5;241m.\u001b[39mT,\n\u001b[1;32m    222\u001b[0m                            dense_output\u001b[38;5;241m=\u001b[39m\u001b[38;5;28;01mTrue\u001b[39;00m) \u001b[38;5;241m+\u001b[39m \u001b[38;5;28mself\u001b[39m\u001b[38;5;241m.\u001b[39mintercept_\n",
      "File \u001b[0;32m~/opt/miniconda3/envs/cs224n/lib/python3.8/site-packages/sklearn/utils/validation.py:63\u001b[0m, in \u001b[0;36m_deprecate_positional_args.<locals>._inner_deprecate_positional_args.<locals>.inner_f\u001b[0;34m(*args, **kwargs)\u001b[0m\n\u001b[1;32m     61\u001b[0m extra_args \u001b[38;5;241m=\u001b[39m \u001b[38;5;28mlen\u001b[39m(args) \u001b[38;5;241m-\u001b[39m \u001b[38;5;28mlen\u001b[39m(all_args)\n\u001b[1;32m     62\u001b[0m \u001b[38;5;28;01mif\u001b[39;00m extra_args \u001b[38;5;241m<\u001b[39m\u001b[38;5;241m=\u001b[39m \u001b[38;5;241m0\u001b[39m:\n\u001b[0;32m---> 63\u001b[0m     \u001b[38;5;28;01mreturn\u001b[39;00m \u001b[43mf\u001b[49m\u001b[43m(\u001b[49m\u001b[38;5;241;43m*\u001b[39;49m\u001b[43margs\u001b[49m\u001b[43m,\u001b[49m\u001b[43m \u001b[49m\u001b[38;5;241;43m*\u001b[39;49m\u001b[38;5;241;43m*\u001b[39;49m\u001b[43mkwargs\u001b[49m\u001b[43m)\u001b[49m\n\u001b[1;32m     65\u001b[0m \u001b[38;5;66;03m# extra_args > 0\u001b[39;00m\n\u001b[1;32m     66\u001b[0m args_msg \u001b[38;5;241m=\u001b[39m [\u001b[38;5;124m'\u001b[39m\u001b[38;5;132;01m{}\u001b[39;00m\u001b[38;5;124m=\u001b[39m\u001b[38;5;132;01m{}\u001b[39;00m\u001b[38;5;124m'\u001b[39m\u001b[38;5;241m.\u001b[39mformat(name, arg)\n\u001b[1;32m     67\u001b[0m             \u001b[38;5;28;01mfor\u001b[39;00m name, arg \u001b[38;5;129;01min\u001b[39;00m \u001b[38;5;28mzip\u001b[39m(kwonly_args[:extra_args],\n\u001b[1;32m     68\u001b[0m                                  args[\u001b[38;5;241m-\u001b[39mextra_args:])]\n",
      "File \u001b[0;32m~/opt/miniconda3/envs/cs224n/lib/python3.8/site-packages/sklearn/utils/validation.py:720\u001b[0m, in \u001b[0;36mcheck_array\u001b[0;34m(array, accept_sparse, accept_large_sparse, dtype, order, copy, force_all_finite, ensure_2d, allow_nd, ensure_min_samples, ensure_min_features, estimator)\u001b[0m\n\u001b[1;32m    716\u001b[0m         \u001b[38;5;28;01mraise\u001b[39;00m \u001b[38;5;167;01mValueError\u001b[39;00m(\u001b[38;5;124m\"\u001b[39m\u001b[38;5;124mFound array with dim \u001b[39m\u001b[38;5;132;01m%d\u001b[39;00m\u001b[38;5;124m. \u001b[39m\u001b[38;5;132;01m%s\u001b[39;00m\u001b[38;5;124m expected <= 2.\u001b[39m\u001b[38;5;124m\"\u001b[39m\n\u001b[1;32m    717\u001b[0m                          \u001b[38;5;241m%\u001b[39m (array\u001b[38;5;241m.\u001b[39mndim, estimator_name))\n\u001b[1;32m    719\u001b[0m     \u001b[38;5;28;01mif\u001b[39;00m force_all_finite:\n\u001b[0;32m--> 720\u001b[0m         \u001b[43m_assert_all_finite\u001b[49m\u001b[43m(\u001b[49m\u001b[43marray\u001b[49m\u001b[43m,\u001b[49m\n\u001b[1;32m    721\u001b[0m \u001b[43m                           \u001b[49m\u001b[43mallow_nan\u001b[49m\u001b[38;5;241;43m=\u001b[39;49m\u001b[43mforce_all_finite\u001b[49m\u001b[43m \u001b[49m\u001b[38;5;241;43m==\u001b[39;49m\u001b[43m \u001b[49m\u001b[38;5;124;43m'\u001b[39;49m\u001b[38;5;124;43mallow-nan\u001b[39;49m\u001b[38;5;124;43m'\u001b[39;49m\u001b[43m)\u001b[49m\n\u001b[1;32m    723\u001b[0m \u001b[38;5;28;01mif\u001b[39;00m ensure_min_samples \u001b[38;5;241m>\u001b[39m \u001b[38;5;241m0\u001b[39m:\n\u001b[1;32m    724\u001b[0m     n_samples \u001b[38;5;241m=\u001b[39m _num_samples(array)\n",
      "File \u001b[0;32m~/opt/miniconda3/envs/cs224n/lib/python3.8/site-packages/sklearn/utils/validation.py:103\u001b[0m, in \u001b[0;36m_assert_all_finite\u001b[0;34m(X, allow_nan, msg_dtype)\u001b[0m\n\u001b[1;32m    100\u001b[0m     \u001b[38;5;28;01mif\u001b[39;00m (allow_nan \u001b[38;5;129;01mand\u001b[39;00m np\u001b[38;5;241m.\u001b[39misinf(X)\u001b[38;5;241m.\u001b[39many() \u001b[38;5;129;01mor\u001b[39;00m\n\u001b[1;32m    101\u001b[0m             \u001b[38;5;129;01mnot\u001b[39;00m allow_nan \u001b[38;5;129;01mand\u001b[39;00m \u001b[38;5;129;01mnot\u001b[39;00m np\u001b[38;5;241m.\u001b[39misfinite(X)\u001b[38;5;241m.\u001b[39mall()):\n\u001b[1;32m    102\u001b[0m         type_err \u001b[38;5;241m=\u001b[39m \u001b[38;5;124m'\u001b[39m\u001b[38;5;124minfinity\u001b[39m\u001b[38;5;124m'\u001b[39m \u001b[38;5;28;01mif\u001b[39;00m allow_nan \u001b[38;5;28;01melse\u001b[39;00m \u001b[38;5;124m'\u001b[39m\u001b[38;5;124mNaN, infinity\u001b[39m\u001b[38;5;124m'\u001b[39m\n\u001b[0;32m--> 103\u001b[0m         \u001b[38;5;28;01mraise\u001b[39;00m \u001b[38;5;167;01mValueError\u001b[39;00m(\n\u001b[1;32m    104\u001b[0m                 msg_err\u001b[38;5;241m.\u001b[39mformat\n\u001b[1;32m    105\u001b[0m                 (type_err,\n\u001b[1;32m    106\u001b[0m                  msg_dtype \u001b[38;5;28;01mif\u001b[39;00m msg_dtype \u001b[38;5;129;01mis\u001b[39;00m \u001b[38;5;129;01mnot\u001b[39;00m \u001b[38;5;28;01mNone\u001b[39;00m \u001b[38;5;28;01melse\u001b[39;00m X\u001b[38;5;241m.\u001b[39mdtype)\n\u001b[1;32m    107\u001b[0m         )\n\u001b[1;32m    108\u001b[0m \u001b[38;5;66;03m# for object dtype data, we only check for NaNs (GH-13254)\u001b[39;00m\n\u001b[1;32m    109\u001b[0m \u001b[38;5;28;01melif\u001b[39;00m X\u001b[38;5;241m.\u001b[39mdtype \u001b[38;5;241m==\u001b[39m np\u001b[38;5;241m.\u001b[39mdtype(\u001b[38;5;124m'\u001b[39m\u001b[38;5;124mobject\u001b[39m\u001b[38;5;124m'\u001b[39m) \u001b[38;5;129;01mand\u001b[39;00m \u001b[38;5;129;01mnot\u001b[39;00m allow_nan:\n",
      "\u001b[0;31mValueError\u001b[0m: Input contains NaN, infinity or a value too large for dtype('float64')."
     ]
    }
   ],
   "source": [
    "## what if just put test data like this into model?\n",
    "## ummmmmmm......\n",
    "lr_model.predict(X_test)"
   ]
  },
  {
   "cell_type": "code",
   "execution_count": 60,
   "id": "trained-kitty",
   "metadata": {},
   "outputs": [
    {
     "name": "stdout",
     "output_type": "stream",
     "text": [
      "R^2 on test data = 0.5369\n"
     ]
    }
   ],
   "source": [
    "## in part 1 of the tutorial, we drop those rows with missing value\n",
    "## just like what we did in the training phrase\n",
    "## how to handle missing values is a topic for later\n",
    "## but keep in mind: dropping data is bad! 壞份子! 抽煙bad!\n",
    "\n",
    "flawless_rows_test = melb_test[features_in_model].isna().sum(axis=1) == 0\n",
    "X_test = melb_test.loc[flawless_rows_test, features_in_model]\n",
    "y_test = melb_test.loc[flawless_rows_test, \"Price\"]\n",
    "\n",
    "## overall performance on test data\n",
    "print(\"R^2 on test data = {:.4f}\".format(lr_model.score(X_test, y_test)))\n",
    "\n"
   ]
  },
  {
   "cell_type": "code",
   "execution_count": 61,
   "id": "subsequent-profit",
   "metadata": {},
   "outputs": [
    {
     "name": "stdout",
     "output_type": "stream",
     "text": [
      "Originally, there are 2000 rows in test data. \n",
      "By dropping rows with any missing value, 1002 are left.\n"
     ]
    }
   ],
   "source": [
    "## But remeber, you ignore so many rows.....\n",
    "\n",
    "print(\"\"\"Originally, there are {} rows in test data. \n",
    "By dropping rows with any missing value, {} are left.\"\"\".format(melb_test.shape[0], X_test.shape[0]))"
   ]
  },
  {
   "cell_type": "markdown",
   "id": "attended-console",
   "metadata": {},
   "source": [
    "## Homework 1\n",
    "1. EDA and data visualization on this data. Share with your pals. Is your story convincing? Is your story implying something helpful to the prediction models? \n",
    "2. Try some other models, but keep them LinearRegression(). Record your design and the following train/test R^2. There are some small tips:\n",
    "    * different combination of variables\n",
    "    * use categorical variables (in a good way....)\n",
    "    * do some operations on numerics variables\n",
    "    * deal with the missing values (since it gives you more data to use)\n",
    "    \n",
    "3. The main topic in this part is a regression problem. What if it's a binary classification problem now? (i.e there are only \"1\" and \"0\" in y)\n",
    "    "
   ]
  },
  {
   "cell_type": "code",
   "execution_count": null,
   "id": "internal-black",
   "metadata": {},
   "outputs": [],
   "source": []
  },
  {
   "cell_type": "code",
   "execution_count": null,
   "id": "induced-subscriber",
   "metadata": {},
   "outputs": [],
   "source": []
  },
  {
   "cell_type": "code",
   "execution_count": null,
   "id": "satisfactory-gravity",
   "metadata": {},
   "outputs": [],
   "source": []
  }
 ],
 "metadata": {
  "kernelspec": {
   "display_name": "Python 3",
   "language": "python",
   "name": "python3"
  },
  "language_info": {
   "codemirror_mode": {
    "name": "ipython",
    "version": 3
   },
   "file_extension": ".py",
   "mimetype": "text/x-python",
   "name": "python",
   "nbconvert_exporter": "python",
   "pygments_lexer": "ipython3",
   "version": "3.8.10"
  }
 },
 "nbformat": 4,
 "nbformat_minor": 5
}
