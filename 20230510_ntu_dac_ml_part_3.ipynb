{
 "cells": [
  {
   "cell_type": "markdown",
   "id": "opposite-logic",
   "metadata": {},
   "source": [
    "# Machine learning, a tutorial, part III\n",
    "\n"
   ]
  },
  {
   "cell_type": "markdown",
   "id": "frequent-bracelet",
   "metadata": {},
   "source": [
    "## 3-1 Revist tree-based models"
   ]
  },
  {
   "cell_type": "code",
   "execution_count": 1,
   "id": "noticed-soccer",
   "metadata": {},
   "outputs": [],
   "source": [
    "## import packages\n",
    "import pandas as pd\n",
    "import numpy as np\n",
    "import time\n",
    "\n",
    "## some setting for better reading experience\n",
    "from IPython.display import display\n",
    "pd.options.display.max_columns = None\n",
    "pd.set_option('display.float_format', lambda x: '%.4f' % x)\n",
    "\n",
    "##  \n",
    "randomState = 8"
   ]
  },
  {
   "cell_type": "code",
   "execution_count": 2,
   "id": "occasional-plane",
   "metadata": {},
   "outputs": [],
   "source": [
    "## read data \n",
    "space = pd.read_csv(\"data/train.csv\").sample(frac=1, random_state=randomState).reset_index(drop=True)\n",
    "\n",
    "space_train = space[:6000]\n",
    "space_test = space[6000:]"
   ]
  },
  {
   "cell_type": "code",
   "execution_count": 3,
   "id": "ddf9aa23",
   "metadata": {},
   "outputs": [
    {
     "data": {
      "text/html": [
       "<div>\n",
       "<style scoped>\n",
       "    .dataframe tbody tr th:only-of-type {\n",
       "        vertical-align: middle;\n",
       "    }\n",
       "\n",
       "    .dataframe tbody tr th {\n",
       "        vertical-align: top;\n",
       "    }\n",
       "\n",
       "    .dataframe thead th {\n",
       "        text-align: right;\n",
       "    }\n",
       "</style>\n",
       "<table border=\"1\" class=\"dataframe\">\n",
       "  <thead>\n",
       "    <tr style=\"text-align: right;\">\n",
       "      <th></th>\n",
       "      <th>Age</th>\n",
       "      <th>RoomService</th>\n",
       "      <th>FoodCourt</th>\n",
       "      <th>ShoppingMall</th>\n",
       "      <th>HomePlanet</th>\n",
       "      <th>Destination</th>\n",
       "    </tr>\n",
       "  </thead>\n",
       "  <tbody>\n",
       "    <tr>\n",
       "      <th>0</th>\n",
       "      <td>7.0000</td>\n",
       "      <td>0.0000</td>\n",
       "      <td>0.0000</td>\n",
       "      <td>0.0000</td>\n",
       "      <td>Mars</td>\n",
       "      <td>TRAPPIST-1e</td>\n",
       "    </tr>\n",
       "    <tr>\n",
       "      <th>1</th>\n",
       "      <td>22.0000</td>\n",
       "      <td>926.0000</td>\n",
       "      <td>0.0000</td>\n",
       "      <td>0.0000</td>\n",
       "      <td>Earth</td>\n",
       "      <td>TRAPPIST-1e</td>\n",
       "    </tr>\n",
       "    <tr>\n",
       "      <th>2</th>\n",
       "      <td>58.0000</td>\n",
       "      <td>0.0000</td>\n",
       "      <td>985.0000</td>\n",
       "      <td>0.0000</td>\n",
       "      <td>Earth</td>\n",
       "      <td>TRAPPIST-1e</td>\n",
       "    </tr>\n",
       "    <tr>\n",
       "      <th>3</th>\n",
       "      <td>53.0000</td>\n",
       "      <td>NaN</td>\n",
       "      <td>0.0000</td>\n",
       "      <td>0.0000</td>\n",
       "      <td>Mars</td>\n",
       "      <td>55 Cancri e</td>\n",
       "    </tr>\n",
       "    <tr>\n",
       "      <th>4</th>\n",
       "      <td>15.0000</td>\n",
       "      <td>0.0000</td>\n",
       "      <td>59.0000</td>\n",
       "      <td>714.0000</td>\n",
       "      <td>Earth</td>\n",
       "      <td>55 Cancri e</td>\n",
       "    </tr>\n",
       "    <tr>\n",
       "      <th>...</th>\n",
       "      <td>...</td>\n",
       "      <td>...</td>\n",
       "      <td>...</td>\n",
       "      <td>...</td>\n",
       "      <td>...</td>\n",
       "      <td>...</td>\n",
       "    </tr>\n",
       "    <tr>\n",
       "      <th>5995</th>\n",
       "      <td>35.0000</td>\n",
       "      <td>0.0000</td>\n",
       "      <td>0.0000</td>\n",
       "      <td>0.0000</td>\n",
       "      <td>Mars</td>\n",
       "      <td>TRAPPIST-1e</td>\n",
       "    </tr>\n",
       "    <tr>\n",
       "      <th>5996</th>\n",
       "      <td>23.0000</td>\n",
       "      <td>0.0000</td>\n",
       "      <td>126.0000</td>\n",
       "      <td>403.0000</td>\n",
       "      <td>Earth</td>\n",
       "      <td>PSO J318.5-22</td>\n",
       "    </tr>\n",
       "    <tr>\n",
       "      <th>5997</th>\n",
       "      <td>25.0000</td>\n",
       "      <td>0.0000</td>\n",
       "      <td>0.0000</td>\n",
       "      <td>1037.0000</td>\n",
       "      <td>Earth</td>\n",
       "      <td>TRAPPIST-1e</td>\n",
       "    </tr>\n",
       "    <tr>\n",
       "      <th>5998</th>\n",
       "      <td>27.0000</td>\n",
       "      <td>249.0000</td>\n",
       "      <td>0.0000</td>\n",
       "      <td>65.0000</td>\n",
       "      <td>Mars</td>\n",
       "      <td>TRAPPIST-1e</td>\n",
       "    </tr>\n",
       "    <tr>\n",
       "      <th>5999</th>\n",
       "      <td>23.0000</td>\n",
       "      <td>0.0000</td>\n",
       "      <td>93.0000</td>\n",
       "      <td>1.0000</td>\n",
       "      <td>Earth</td>\n",
       "      <td>UNKNOWN</td>\n",
       "    </tr>\n",
       "  </tbody>\n",
       "</table>\n",
       "<p>6000 rows × 6 columns</p>\n",
       "</div>"
      ],
      "text/plain": [
       "         Age  RoomService  FoodCourt  ShoppingMall HomePlanet    Destination\n",
       "0     7.0000       0.0000     0.0000        0.0000       Mars    TRAPPIST-1e\n",
       "1    22.0000     926.0000     0.0000        0.0000      Earth    TRAPPIST-1e\n",
       "2    58.0000       0.0000   985.0000        0.0000      Earth    TRAPPIST-1e\n",
       "3    53.0000          NaN     0.0000        0.0000       Mars    55 Cancri e\n",
       "4    15.0000       0.0000    59.0000      714.0000      Earth    55 Cancri e\n",
       "...      ...          ...        ...           ...        ...            ...\n",
       "5995 35.0000       0.0000     0.0000        0.0000       Mars    TRAPPIST-1e\n",
       "5996 23.0000       0.0000   126.0000      403.0000      Earth  PSO J318.5-22\n",
       "5997 25.0000       0.0000     0.0000     1037.0000      Earth    TRAPPIST-1e\n",
       "5998 27.0000     249.0000     0.0000       65.0000       Mars    TRAPPIST-1e\n",
       "5999 23.0000       0.0000    93.0000        1.0000      Earth        UNKNOWN\n",
       "\n",
       "[6000 rows x 6 columns]"
      ]
     },
     "execution_count": 3,
     "metadata": {},
     "output_type": "execute_result"
    }
   ],
   "source": [
    "## A RF classification model\n",
    "\n",
    "## Scikit-learn \n",
    "from sklearn.ensemble import RandomForestClassifier\n",
    "\n",
    "## Initiate a model\n",
    "rf_model = RandomForestClassifier()\n",
    "\n",
    "## the rest remains the same\n",
    "## select the features\n",
    "features_in_model = [\"Age\", \"RoomService\", \"FoodCourt\", \"ShoppingMall\", \"HomePlanet\", \"Destination\"]\n",
    "X_train = space_train.loc[:, features_in_model]\n",
    "X_test = space_test.loc[:, features_in_model]\n",
    "\n",
    "## categorical feature has to be factorize\n",
    "## deal with missing value first\n",
    "X_train.loc[:, [\"HomePlanet\", \"Destination\"]] = X_train.loc[:, [\"HomePlanet\", \"Destination\"]].fillna(\"UNKNOWN\")\n",
    "X_test.loc[:, [\"HomePlanet\", \"Destination\"]] = X_test.loc[:, [\"HomePlanet\", \"Destination\"]].fillna(\"UNKNOWN\")\n",
    "\n",
    "X_train\n",
    "\n"
   ]
  },
  {
   "cell_type": "code",
   "execution_count": 5,
   "id": "d27b8e19",
   "metadata": {},
   "outputs": [
    {
     "data": {
      "text/html": [
       "<div>\n",
       "<style scoped>\n",
       "    .dataframe tbody tr th:only-of-type {\n",
       "        vertical-align: middle;\n",
       "    }\n",
       "\n",
       "    .dataframe tbody tr th {\n",
       "        vertical-align: top;\n",
       "    }\n",
       "\n",
       "    .dataframe thead th {\n",
       "        text-align: right;\n",
       "    }\n",
       "</style>\n",
       "<table border=\"1\" class=\"dataframe\">\n",
       "  <thead>\n",
       "    <tr style=\"text-align: right;\">\n",
       "      <th></th>\n",
       "      <th>Age</th>\n",
       "      <th>RoomService</th>\n",
       "      <th>FoodCourt</th>\n",
       "      <th>ShoppingMall</th>\n",
       "      <th>HomePlanet</th>\n",
       "      <th>Destination</th>\n",
       "    </tr>\n",
       "  </thead>\n",
       "  <tbody>\n",
       "    <tr>\n",
       "      <th>0</th>\n",
       "      <td>7.0000</td>\n",
       "      <td>0.0000</td>\n",
       "      <td>0.0000</td>\n",
       "      <td>0.0000</td>\n",
       "      <td>2</td>\n",
       "      <td>2</td>\n",
       "    </tr>\n",
       "    <tr>\n",
       "      <th>1</th>\n",
       "      <td>22.0000</td>\n",
       "      <td>926.0000</td>\n",
       "      <td>0.0000</td>\n",
       "      <td>0.0000</td>\n",
       "      <td>0</td>\n",
       "      <td>2</td>\n",
       "    </tr>\n",
       "    <tr>\n",
       "      <th>2</th>\n",
       "      <td>58.0000</td>\n",
       "      <td>0.0000</td>\n",
       "      <td>985.0000</td>\n",
       "      <td>0.0000</td>\n",
       "      <td>0</td>\n",
       "      <td>2</td>\n",
       "    </tr>\n",
       "    <tr>\n",
       "      <th>3</th>\n",
       "      <td>53.0000</td>\n",
       "      <td>NaN</td>\n",
       "      <td>0.0000</td>\n",
       "      <td>0.0000</td>\n",
       "      <td>2</td>\n",
       "      <td>0</td>\n",
       "    </tr>\n",
       "    <tr>\n",
       "      <th>4</th>\n",
       "      <td>15.0000</td>\n",
       "      <td>0.0000</td>\n",
       "      <td>59.0000</td>\n",
       "      <td>714.0000</td>\n",
       "      <td>0</td>\n",
       "      <td>0</td>\n",
       "    </tr>\n",
       "    <tr>\n",
       "      <th>...</th>\n",
       "      <td>...</td>\n",
       "      <td>...</td>\n",
       "      <td>...</td>\n",
       "      <td>...</td>\n",
       "      <td>...</td>\n",
       "      <td>...</td>\n",
       "    </tr>\n",
       "    <tr>\n",
       "      <th>5995</th>\n",
       "      <td>35.0000</td>\n",
       "      <td>0.0000</td>\n",
       "      <td>0.0000</td>\n",
       "      <td>0.0000</td>\n",
       "      <td>2</td>\n",
       "      <td>2</td>\n",
       "    </tr>\n",
       "    <tr>\n",
       "      <th>5996</th>\n",
       "      <td>23.0000</td>\n",
       "      <td>0.0000</td>\n",
       "      <td>126.0000</td>\n",
       "      <td>403.0000</td>\n",
       "      <td>0</td>\n",
       "      <td>1</td>\n",
       "    </tr>\n",
       "    <tr>\n",
       "      <th>5997</th>\n",
       "      <td>25.0000</td>\n",
       "      <td>0.0000</td>\n",
       "      <td>0.0000</td>\n",
       "      <td>1037.0000</td>\n",
       "      <td>0</td>\n",
       "      <td>2</td>\n",
       "    </tr>\n",
       "    <tr>\n",
       "      <th>5998</th>\n",
       "      <td>27.0000</td>\n",
       "      <td>249.0000</td>\n",
       "      <td>0.0000</td>\n",
       "      <td>65.0000</td>\n",
       "      <td>2</td>\n",
       "      <td>2</td>\n",
       "    </tr>\n",
       "    <tr>\n",
       "      <th>5999</th>\n",
       "      <td>23.0000</td>\n",
       "      <td>0.0000</td>\n",
       "      <td>93.0000</td>\n",
       "      <td>1.0000</td>\n",
       "      <td>0</td>\n",
       "      <td>3</td>\n",
       "    </tr>\n",
       "  </tbody>\n",
       "</table>\n",
       "<p>6000 rows × 6 columns</p>\n",
       "</div>"
      ],
      "text/plain": [
       "         Age  RoomService  FoodCourt  ShoppingMall  HomePlanet  Destination\n",
       "0     7.0000       0.0000     0.0000        0.0000           2            2\n",
       "1    22.0000     926.0000     0.0000        0.0000           0            2\n",
       "2    58.0000       0.0000   985.0000        0.0000           0            2\n",
       "3    53.0000          NaN     0.0000        0.0000           2            0\n",
       "4    15.0000       0.0000    59.0000      714.0000           0            0\n",
       "...      ...          ...        ...           ...         ...          ...\n",
       "5995 35.0000       0.0000     0.0000        0.0000           2            2\n",
       "5996 23.0000       0.0000   126.0000      403.0000           0            1\n",
       "5997 25.0000       0.0000     0.0000     1037.0000           0            2\n",
       "5998 27.0000     249.0000     0.0000       65.0000           2            2\n",
       "5999 23.0000       0.0000    93.0000        1.0000           0            3\n",
       "\n",
       "[6000 rows x 6 columns]"
      ]
     },
     "execution_count": 5,
     "metadata": {},
     "output_type": "execute_result"
    }
   ],
   "source": [
    "## factorize the categorical column\n",
    "## why not using pd.factorize here?\n",
    "## https://scikit-learn.org/stable/modules/generated/sklearn.preprocessing.LabelEncoder.html\n",
    "\n",
    "from sklearn.preprocessing import LabelEncoder\n",
    "\n",
    "## homeplanet\n",
    "le_homeplanet = LabelEncoder()\n",
    "\n",
    "le_homeplanet.fit(X_train[\"HomePlanet\"])\n",
    "\n",
    "X_train[\"HomePlanet\"] = le_homeplanet.transform(X_train[\"HomePlanet\"])\n",
    "X_test[\"HomePlanet\"] = le_homeplanet.transform(X_test[\"HomePlanet\"])\n",
    "\n",
    "## destination\n",
    "le_dest = LabelEncoder()\n",
    "\n",
    "le_dest.fit(X_train[\"Destination\"])\n",
    "\n",
    "X_train[\"Destination\"] = le_dest.transform(X_train[\"Destination\"])\n",
    "X_test[\"Destination\"] = le_dest.transform(X_test[\"Destination\"])\n",
    "\n",
    "## after transformation\n",
    "X_train\n"
   ]
  },
  {
   "cell_type": "code",
   "execution_count": 6,
   "id": "ccb301d8",
   "metadata": {},
   "outputs": [
    {
     "data": {
      "text/html": [
       "<style>#sk-container-id-1 {color: black;background-color: white;}#sk-container-id-1 pre{padding: 0;}#sk-container-id-1 div.sk-toggleable {background-color: white;}#sk-container-id-1 label.sk-toggleable__label {cursor: pointer;display: block;width: 100%;margin-bottom: 0;padding: 0.3em;box-sizing: border-box;text-align: center;}#sk-container-id-1 label.sk-toggleable__label-arrow:before {content: \"▸\";float: left;margin-right: 0.25em;color: #696969;}#sk-container-id-1 label.sk-toggleable__label-arrow:hover:before {color: black;}#sk-container-id-1 div.sk-estimator:hover label.sk-toggleable__label-arrow:before {color: black;}#sk-container-id-1 div.sk-toggleable__content {max-height: 0;max-width: 0;overflow: hidden;text-align: left;background-color: #f0f8ff;}#sk-container-id-1 div.sk-toggleable__content pre {margin: 0.2em;color: black;border-radius: 0.25em;background-color: #f0f8ff;}#sk-container-id-1 input.sk-toggleable__control:checked~div.sk-toggleable__content {max-height: 200px;max-width: 100%;overflow: auto;}#sk-container-id-1 input.sk-toggleable__control:checked~label.sk-toggleable__label-arrow:before {content: \"▾\";}#sk-container-id-1 div.sk-estimator input.sk-toggleable__control:checked~label.sk-toggleable__label {background-color: #d4ebff;}#sk-container-id-1 div.sk-label input.sk-toggleable__control:checked~label.sk-toggleable__label {background-color: #d4ebff;}#sk-container-id-1 input.sk-hidden--visually {border: 0;clip: rect(1px 1px 1px 1px);clip: rect(1px, 1px, 1px, 1px);height: 1px;margin: -1px;overflow: hidden;padding: 0;position: absolute;width: 1px;}#sk-container-id-1 div.sk-estimator {font-family: monospace;background-color: #f0f8ff;border: 1px dotted black;border-radius: 0.25em;box-sizing: border-box;margin-bottom: 0.5em;}#sk-container-id-1 div.sk-estimator:hover {background-color: #d4ebff;}#sk-container-id-1 div.sk-parallel-item::after {content: \"\";width: 100%;border-bottom: 1px solid gray;flex-grow: 1;}#sk-container-id-1 div.sk-label:hover label.sk-toggleable__label {background-color: #d4ebff;}#sk-container-id-1 div.sk-serial::before {content: \"\";position: absolute;border-left: 1px solid gray;box-sizing: border-box;top: 0;bottom: 0;left: 50%;z-index: 0;}#sk-container-id-1 div.sk-serial {display: flex;flex-direction: column;align-items: center;background-color: white;padding-right: 0.2em;padding-left: 0.2em;position: relative;}#sk-container-id-1 div.sk-item {position: relative;z-index: 1;}#sk-container-id-1 div.sk-parallel {display: flex;align-items: stretch;justify-content: center;background-color: white;position: relative;}#sk-container-id-1 div.sk-item::before, #sk-container-id-1 div.sk-parallel-item::before {content: \"\";position: absolute;border-left: 1px solid gray;box-sizing: border-box;top: 0;bottom: 0;left: 50%;z-index: -1;}#sk-container-id-1 div.sk-parallel-item {display: flex;flex-direction: column;z-index: 1;position: relative;background-color: white;}#sk-container-id-1 div.sk-parallel-item:first-child::after {align-self: flex-end;width: 50%;}#sk-container-id-1 div.sk-parallel-item:last-child::after {align-self: flex-start;width: 50%;}#sk-container-id-1 div.sk-parallel-item:only-child::after {width: 0;}#sk-container-id-1 div.sk-dashed-wrapped {border: 1px dashed gray;margin: 0 0.4em 0.5em 0.4em;box-sizing: border-box;padding-bottom: 0.4em;background-color: white;}#sk-container-id-1 div.sk-label label {font-family: monospace;font-weight: bold;display: inline-block;line-height: 1.2em;}#sk-container-id-1 div.sk-label-container {text-align: center;}#sk-container-id-1 div.sk-container {/* jupyter's `normalize.less` sets `[hidden] { display: none; }` but bootstrap.min.css set `[hidden] { display: none !important; }` so we also need the `!important` here to be able to override the default hidden behavior on the sphinx rendered scikit-learn.org. See: https://github.com/scikit-learn/scikit-learn/issues/21755 */display: inline-block !important;position: relative;}#sk-container-id-1 div.sk-text-repr-fallback {display: none;}</style><div id=\"sk-container-id-1\" class=\"sk-top-container\"><div class=\"sk-text-repr-fallback\"><pre>RandomForestClassifier()</pre><b>In a Jupyter environment, please rerun this cell to show the HTML representation or trust the notebook. <br />On GitHub, the HTML representation is unable to render, please try loading this page with nbviewer.org.</b></div><div class=\"sk-container\" hidden><div class=\"sk-item\"><div class=\"sk-estimator sk-toggleable\"><input class=\"sk-toggleable__control sk-hidden--visually\" id=\"sk-estimator-id-1\" type=\"checkbox\" checked><label for=\"sk-estimator-id-1\" class=\"sk-toggleable__label sk-toggleable__label-arrow\">RandomForestClassifier</label><div class=\"sk-toggleable__content\"><pre>RandomForestClassifier()</pre></div></div></div></div></div>"
      ],
      "text/plain": [
       "RandomForestClassifier()"
      ]
     },
     "execution_count": 6,
     "metadata": {},
     "output_type": "execute_result"
    }
   ],
   "source": [
    "## fill missing numeric columns with -1\n",
    "X_train = X_train.fillna(-1)\n",
    "X_test = X_test.fillna(-1)\n",
    "\n",
    "## select the prediction target\n",
    "y_train = space_train.loc[:, \"Transported\"]\n",
    "y_test = space_test.loc[:, \"Transported\"]\n",
    "\n",
    "\n",
    "## train the Linear regression model with y and X\n",
    "rf_model.fit(X_train, y_train)"
   ]
  },
  {
   "cell_type": "code",
   "execution_count": 7,
   "id": "96b0a491",
   "metadata": {},
   "outputs": [
    {
     "name": "stdout",
     "output_type": "stream",
     "text": [
      "Accuracy on training data = 0.9220\n",
      "ROC AUC score on training data = 0.9747\n",
      "Accuracy on testing data = 0.7293\n",
      "ROC AUC score on testing data = 0.8103\n"
     ]
    },
    {
     "data": {
      "text/plain": [
       "<sklearn.metrics._plot.roc_curve.RocCurveDisplay at 0x7fd9f0dc7fa0>"
      ]
     },
     "execution_count": 7,
     "metadata": {},
     "output_type": "execute_result"
    },
    {
     "data": {
      "image/png": "[encoded data removed]",
      "text/plain": [
       "<Figure size 640x480 with 1 Axes>"
      ]
     },
     "metadata": {},
     "output_type": "display_data"
    }
   ],
   "source": [
    "## evaluate this RF model with both train/test data\n",
    "import matplotlib.pyplot as plt\n",
    "from sklearn.metrics import roc_curve, RocCurveDisplay, auc, roc_auc_score\n",
    "\n",
    "print(\"Accuracy on training data = {:.4f}\".format(rf_model.score(X_train, \n",
    "                                                                 y_train)))\n",
    "print(\"ROC AUC score on training data = {:.4f}\".format(roc_auc_score(y_train, \n",
    "                                                                     rf_model.predict_proba(X_train)[:,1])))\n",
    "\n",
    "\n",
    "print(\"Accuracy on testing data = {:.4f}\".format(rf_model.score(X_test, \n",
    "                                                                 y_test)))\n",
    "print(\"ROC AUC score on testing data = {:.4f}\".format(roc_auc_score(y_test, \n",
    "                                                                     rf_model.predict_proba(X_test)[:,1])))\n",
    "\n",
    "## \n",
    "fpr, tpr, thresholds = roc_curve(y_train, rf_model.predict_proba(X_train)[:,1])\n",
    "\n",
    "roc_auc = auc(fpr, tpr)\n",
    "\n",
    "display_rf = RocCurveDisplay(fpr=fpr, tpr=tpr, roc_auc=roc_auc,\n",
    "                                   estimator_name='Random forest, eval with training')\n",
    "\n",
    "display_rf.plot()\n",
    "\n"
   ]
  },
  {
   "cell_type": "code",
   "execution_count": 8,
   "id": "0ee4eb07",
   "metadata": {},
   "outputs": [
    {
     "data": {
      "text/plain": [
       "<sklearn.metrics._plot.roc_curve.RocCurveDisplay at 0x7fd9ec7da5b0>"
      ]
     },
     "execution_count": 8,
     "metadata": {},
     "output_type": "execute_result"
    },
    {
     "data": {
      "image/png": "[encoded data removed]",
      "text/plain": [
       "<Figure size 640x480 with 1 Axes>"
      ]
     },
     "metadata": {},
     "output_type": "display_data"
    }
   ],
   "source": [
    "## \n",
    "fpr, tpr, thresholds = roc_curve(y_test, rf_model.predict_proba(X_test)[:,1])\n",
    "\n",
    "roc_auc = auc(fpr, tpr)\n",
    "\n",
    "display_rf = RocCurveDisplay(fpr=fpr, tpr=tpr, roc_auc=roc_auc,\n",
    "                                   estimator_name='Random forest, eval with testing')\n",
    "\n",
    "display_rf.plot()"
   ]
  },
  {
   "cell_type": "code",
   "execution_count": 9,
   "id": "61eb2643",
   "metadata": {},
   "outputs": [
    {
     "name": "stdout",
     "output_type": "stream",
     "text": [
      "Mean ROC AUC score: 0.80413\n"
     ]
    }
   ],
   "source": [
    "## to evaluate with CV manner\n",
    "from sklearn.model_selection import cross_val_score, RepeatedKFold\n",
    "\n",
    "rf_model_cv = RandomForestClassifier()\n",
    "\n",
    "# define evaluation procedure\n",
    "rf_cv = RepeatedKFold(n_splits=5 , n_repeats=10, random_state=randomState)\n",
    "\n",
    "# evaluate model\n",
    "rf_cv_scores = cross_val_score(rf_model_cv, \n",
    "                         X = X_train, \n",
    "                         y = y_train,\n",
    "                         cv= rf_cv, \n",
    "                        scoring=\"roc_auc\",\n",
    "                        n_jobs=-1)\n",
    "# summarize performance\n",
    "print('Mean ROC AUC score: %.5f' % np.mean(rf_cv_scores))\n",
    "\n",
    "## "
   ]
  },
  {
   "cell_type": "markdown",
   "id": "2fc4cafa",
   "metadata": {},
   "source": [
    "## 3-2 Hyperparameter tuning"
   ]
  },
  {
   "cell_type": "code",
   "execution_count": 10,
   "id": "cardiac-mission",
   "metadata": {},
   "outputs": [
    {
     "name": "stdout",
     "output_type": "stream",
     "text": [
      "[1 2 3]\n",
      "[ 1  5  9 13 17]\n"
     ]
    }
   ],
   "source": [
    "## Find a better set of hyperparameters to avoid overfitting\n",
    "## the hyperparameters to choose is max_features & min_samples_leaf\n",
    "\n",
    "max_features = np.arange(1, 4, 1)\n",
    "min_samples_leaf = np.arange(1, 20, 4)\n",
    "\n",
    "## number of models = 3 * 5 = 15\n",
    "## this is grid search\n",
    "print(max_features)\n",
    "print(min_samples_leaf)\n"
   ]
  },
  {
   "cell_type": "code",
   "execution_count": 11,
   "id": "7bd48f14",
   "metadata": {},
   "outputs": [],
   "source": [
    "## of course you can with 2 loops with RepeatedKFold & cross_val_score functions\n",
    "## be smart\n",
    "## https://scikit-learn.org/stable/modules/generated/sklearn.model_selection.GridSearchCV.html\n",
    "\n",
    "from sklearn.model_selection import GridSearchCV\n",
    "\n",
    "time_start = time.time()\n",
    "\n",
    "parameters_to_search = {'max_features': max_features, \n",
    "              'min_samples_leaf': min_samples_leaf}\n",
    "\n",
    "rf_model = RandomForestClassifier()\n",
    "\n",
    "rf_model_CV = GridSearchCV(rf_model, \n",
    "                           parameters_to_search, \n",
    "                           scoring =\"roc_auc\", \n",
    "                           cv=5, \n",
    "                          n_jobs = -1)\n",
    "\n",
    "\n",
    "rf_model_CV.fit(X_train, y_train)\n",
    "\n",
    "time_elapsed = time.time() - time_start"
   ]
  },
  {
   "cell_type": "code",
   "execution_count": 12,
   "id": "74d9a05c",
   "metadata": {},
   "outputs": [
    {
     "data": {
      "text/plain": [
       "{'mean_fit_time': array([0.65762706, 0.50071826, 0.44608383, 0.41204662, 0.40744257,\n",
       "        0.73967929, 0.56998701, 0.51266723, 0.49487004, 0.4735445 ,\n",
       "        0.85924082, 0.71762462, 0.65754962, 0.59704514, 0.5210372 ]),\n",
       " 'std_fit_time': array([0.01244022, 0.01012354, 0.00373107, 0.00532923, 0.01400305,\n",
       "        0.00665207, 0.01830854, 0.00667161, 0.00691396, 0.00516481,\n",
       "        0.00628045, 0.02266749, 0.00912999, 0.01403733, 0.06275085]),\n",
       " 'mean_score_time': array([0.05320239, 0.04305372, 0.03431129, 0.03519707, 0.03518071,\n",
       "        0.04315724, 0.03502235, 0.03483157, 0.03199959, 0.03163452,\n",
       "        0.04971547, 0.040797  , 0.036584  , 0.03225436, 0.02439208]),\n",
       " 'std_score_time': array([0.00441813, 0.00609712, 0.00159356, 0.00224141, 0.0039296 ,\n",
       "        0.00170458, 0.00132382, 0.00059864, 0.00084069, 0.00240019,\n",
       "        0.00567911, 0.00692829, 0.00226768, 0.00169947, 0.00561306]),\n",
       " 'param_max_features': masked_array(data=[1, 1, 1, 1, 1, 2, 2, 2, 2, 2, 3, 3, 3, 3, 3],\n",
       "              mask=[False, False, False, False, False, False, False, False,\n",
       "                    False, False, False, False, False, False, False],\n",
       "        fill_value='?',\n",
       "             dtype=object),\n",
       " 'param_min_samples_leaf': masked_array(data=[1, 5, 9, 13, 17, 1, 5, 9, 13, 17, 1, 5, 9, 13, 17],\n",
       "              mask=[False, False, False, False, False, False, False, False,\n",
       "                    False, False, False, False, False, False, False],\n",
       "        fill_value='?',\n",
       "             dtype=object),\n",
       " 'params': [{'max_features': 1, 'min_samples_leaf': 1},\n",
       "  {'max_features': 1, 'min_samples_leaf': 5},\n",
       "  {'max_features': 1, 'min_samples_leaf': 9},\n",
       "  {'max_features': 1, 'min_samples_leaf': 13},\n",
       "  {'max_features': 1, 'min_samples_leaf': 17},\n",
       "  {'max_features': 2, 'min_samples_leaf': 1},\n",
       "  {'max_features': 2, 'min_samples_leaf': 5},\n",
       "  {'max_features': 2, 'min_samples_leaf': 9},\n",
       "  {'max_features': 2, 'min_samples_leaf': 13},\n",
       "  {'max_features': 2, 'min_samples_leaf': 17},\n",
       "  {'max_features': 3, 'min_samples_leaf': 1},\n",
       "  {'max_features': 3, 'min_samples_leaf': 5},\n",
       "  {'max_features': 3, 'min_samples_leaf': 9},\n",
       "  {'max_features': 3, 'min_samples_leaf': 13},\n",
       "  {'max_features': 3, 'min_samples_leaf': 17}],\n",
       " 'split0_test_score': array([0.81240622, 0.83888858, 0.8372673 , 0.83575854, 0.83479578,\n",
       "        0.80985552, 0.83876771, 0.84215477, 0.84284385, 0.84155599,\n",
       "        0.80914421, 0.83339122, 0.84113504, 0.84291331, 0.84481245]),\n",
       " 'split1_test_score': array([0.79631564, 0.82527369, 0.82242012, 0.82260489, 0.81983745,\n",
       "        0.79519867, 0.82396082, 0.82769519, 0.82721728, 0.82897472,\n",
       "        0.79577938, 0.82200472, 0.82519172, 0.8281995 , 0.82974715]),\n",
       " 'split2_test_score': array([0.82334398, 0.84313281, 0.842202  , 0.84017088, 0.83959433,\n",
       "        0.82322729, 0.84332176, 0.8463726 , 0.84646152, 0.84539594,\n",
       "        0.82239928, 0.83974298, 0.84364129, 0.84585996, 0.8467352 ]),\n",
       " 'split3_test_score': array([0.78909975, 0.81225201, 0.81207419, 0.8124868 , 0.8090678 ,\n",
       "        0.79156016, 0.81385941, 0.81717699, 0.81805224, 0.81718394,\n",
       "        0.78641845, 0.81254932, 0.81613782, 0.81841901, 0.81888302]),\n",
       " 'split4_test_score': array([0.79158794, 0.81434843, 0.81315643, 0.81111142, 0.80926368,\n",
       "        0.79136844, 0.81898583, 0.82154348, 0.81705474, 0.81755627,\n",
       "        0.78788552, 0.81948319, 0.82127674, 0.82246179, 0.8221895 ]),\n",
       " 'mean_test_score': array([0.80255071, 0.82677911, 0.82542401, 0.82442651, 0.82251181,\n",
       "        0.80224201, 0.82777911, 0.83098861, 0.83032592, 0.83013337,\n",
       "        0.80032537, 0.82543429, 0.82947652, 0.83157071, 0.83247346]),\n",
       " 'std_test_score': array([0.01318695, 0.01250526, 0.01232476, 0.01182765, 0.01269736,\n",
       "        0.01249234, 0.01138405, 0.01142075, 0.01227589, 0.01175275,\n",
       "        0.01366636, 0.00981072, 0.01095517, 0.01095575, 0.01143277]),\n",
       " 'rank_test_score': array([13,  8, 10, 11, 12, 14,  7,  3,  4,  5, 15,  9,  6,  2,  1],\n",
       "       dtype=int32)}"
      ]
     },
     "execution_count": 12,
     "metadata": {},
     "output_type": "execute_result"
    }
   ],
   "source": [
    "## to access the result from CV\n",
    "rf_model_CV.cv_results_\n",
    "\n"
   ]
  },
  {
   "cell_type": "code",
   "execution_count": 13,
   "id": "9c0fc7d2",
   "metadata": {},
   "outputs": [
    {
     "data": {
      "text/plain": [
       "array([0.80255071, 0.82677911, 0.82542401, 0.82442651, 0.82251181,\n",
       "       0.80224201, 0.82777911, 0.83098861, 0.83032592, 0.83013337,\n",
       "       0.80032537, 0.82543429, 0.82947652, 0.83157071, 0.83247346])"
      ]
     },
     "execution_count": 13,
     "metadata": {},
     "output_type": "execute_result"
    }
   ],
   "source": [
    "## the ROC auc score from CV\n",
    "rf_model_CV.cv_results_[\"mean_test_score\"]"
   ]
  },
  {
   "cell_type": "code",
   "execution_count": 14,
   "id": "16537362",
   "metadata": {},
   "outputs": [
    {
     "data": {
      "text/html": [
       "<style>#sk-container-id-2 {color: black;background-color: white;}#sk-container-id-2 pre{padding: 0;}#sk-container-id-2 div.sk-toggleable {background-color: white;}#sk-container-id-2 label.sk-toggleable__label {cursor: pointer;display: block;width: 100%;margin-bottom: 0;padding: 0.3em;box-sizing: border-box;text-align: center;}#sk-container-id-2 label.sk-toggleable__label-arrow:before {content: \"▸\";float: left;margin-right: 0.25em;color: #696969;}#sk-container-id-2 label.sk-toggleable__label-arrow:hover:before {color: black;}#sk-container-id-2 div.sk-estimator:hover label.sk-toggleable__label-arrow:before {color: black;}#sk-container-id-2 div.sk-toggleable__content {max-height: 0;max-width: 0;overflow: hidden;text-align: left;background-color: #f0f8ff;}#sk-container-id-2 div.sk-toggleable__content pre {margin: 0.2em;color: black;border-radius: 0.25em;background-color: #f0f8ff;}#sk-container-id-2 input.sk-toggleable__control:checked~div.sk-toggleable__content {max-height: 200px;max-width: 100%;overflow: auto;}#sk-container-id-2 input.sk-toggleable__control:checked~label.sk-toggleable__label-arrow:before {content: \"▾\";}#sk-container-id-2 div.sk-estimator input.sk-toggleable__control:checked~label.sk-toggleable__label {background-color: #d4ebff;}#sk-container-id-2 div.sk-label input.sk-toggleable__control:checked~label.sk-toggleable__label {background-color: #d4ebff;}#sk-container-id-2 input.sk-hidden--visually {border: 0;clip: rect(1px 1px 1px 1px);clip: rect(1px, 1px, 1px, 1px);height: 1px;margin: -1px;overflow: hidden;padding: 0;position: absolute;width: 1px;}#sk-container-id-2 div.sk-estimator {font-family: monospace;background-color: #f0f8ff;border: 1px dotted black;border-radius: 0.25em;box-sizing: border-box;margin-bottom: 0.5em;}#sk-container-id-2 div.sk-estimator:hover {background-color: #d4ebff;}#sk-container-id-2 div.sk-parallel-item::after {content: \"\";width: 100%;border-bottom: 1px solid gray;flex-grow: 1;}#sk-container-id-2 div.sk-label:hover label.sk-toggleable__label {background-color: #d4ebff;}#sk-container-id-2 div.sk-serial::before {content: \"\";position: absolute;border-left: 1px solid gray;box-sizing: border-box;top: 0;bottom: 0;left: 50%;z-index: 0;}#sk-container-id-2 div.sk-serial {display: flex;flex-direction: column;align-items: center;background-color: white;padding-right: 0.2em;padding-left: 0.2em;position: relative;}#sk-container-id-2 div.sk-item {position: relative;z-index: 1;}#sk-container-id-2 div.sk-parallel {display: flex;align-items: stretch;justify-content: center;background-color: white;position: relative;}#sk-container-id-2 div.sk-item::before, #sk-container-id-2 div.sk-parallel-item::before {content: \"\";position: absolute;border-left: 1px solid gray;box-sizing: border-box;top: 0;bottom: 0;left: 50%;z-index: -1;}#sk-container-id-2 div.sk-parallel-item {display: flex;flex-direction: column;z-index: 1;position: relative;background-color: white;}#sk-container-id-2 div.sk-parallel-item:first-child::after {align-self: flex-end;width: 50%;}#sk-container-id-2 div.sk-parallel-item:last-child::after {align-self: flex-start;width: 50%;}#sk-container-id-2 div.sk-parallel-item:only-child::after {width: 0;}#sk-container-id-2 div.sk-dashed-wrapped {border: 1px dashed gray;margin: 0 0.4em 0.5em 0.4em;box-sizing: border-box;padding-bottom: 0.4em;background-color: white;}#sk-container-id-2 div.sk-label label {font-family: monospace;font-weight: bold;display: inline-block;line-height: 1.2em;}#sk-container-id-2 div.sk-label-container {text-align: center;}#sk-container-id-2 div.sk-container {/* jupyter's `normalize.less` sets `[hidden] { display: none; }` but bootstrap.min.css set `[hidden] { display: none !important; }` so we also need the `!important` here to be able to override the default hidden behavior on the sphinx rendered scikit-learn.org. See: https://github.com/scikit-learn/scikit-learn/issues/21755 */display: inline-block !important;position: relative;}#sk-container-id-2 div.sk-text-repr-fallback {display: none;}</style><div id=\"sk-container-id-2\" class=\"sk-top-container\"><div class=\"sk-text-repr-fallback\"><pre>RandomForestClassifier(max_features=3, min_samples_leaf=17)</pre><b>In a Jupyter environment, please rerun this cell to show the HTML representation or trust the notebook. <br />On GitHub, the HTML representation is unable to render, please try loading this page with nbviewer.org.</b></div><div class=\"sk-container\" hidden><div class=\"sk-item\"><div class=\"sk-estimator sk-toggleable\"><input class=\"sk-toggleable__control sk-hidden--visually\" id=\"sk-estimator-id-2\" type=\"checkbox\" checked><label for=\"sk-estimator-id-2\" class=\"sk-toggleable__label sk-toggleable__label-arrow\">RandomForestClassifier</label><div class=\"sk-toggleable__content\"><pre>RandomForestClassifier(max_features=3, min_samples_leaf=17)</pre></div></div></div></div></div>"
      ],
      "text/plain": [
       "RandomForestClassifier(max_features=3, min_samples_leaf=17)"
      ]
     },
     "execution_count": 14,
     "metadata": {},
     "output_type": "execute_result"
    }
   ],
   "source": [
    "## to get the best combination\n",
    "\n",
    "rf_model_CV.best_estimator_\n",
    "##"
   ]
  },
  {
   "cell_type": "code",
   "execution_count": 15,
   "id": "79a645c3",
   "metadata": {},
   "outputs": [
    {
     "name": "stdout",
     "output_type": "stream",
     "text": [
      "Time elapsed working CV with 3*5=15 conbinations: 6.5325 seconds. With best ROC AUC score 0.8325\n"
     ]
    }
   ],
   "source": [
    "## it may be taking too long to run a grid search \n",
    "print(\"Time elapsed working CV with 3*5=15 conbinations: {:.4f} seconds. With best ROC AUC score {:.4f}\".format(\n",
    "    time_elapsed, rf_model_CV.best_score_))\n",
    "\n"
   ]
  },
  {
   "cell_type": "code",
   "execution_count": null,
   "id": "9aefc411",
   "metadata": {},
   "outputs": [],
   "source": [
    "## what if 3 * 25 * 10?\n",
    "\n",
    "## don't run this part\n",
    "## it took me 301 seconds to find \"max_depth=12, max_features=3, min_samples_leaf=23\"\n",
    "## with cv score 0.8335\n",
    "\n",
    "\n",
    "#max_features = np.arange(1, 4, 1)\n",
    "#min_samples_leaf = np.arange(1, 51, 2)\n",
    "#max_depth = np.arange(2, 21, 2)\n",
    "#\n",
    "#\n",
    "#time_start = time.time()\n",
    "#parameters_to_search = {'max_features': max_features, \n",
    "#              'min_samples_leaf': min_samples_leaf, \n",
    "#                        'max_depth' : max_depth}\n",
    "#\n",
    "#rf_model = RandomForestClassifier()\n",
    "#\n",
    "#\n",
    "#rf_model_CV = GridSearchCV(rf_model, \n",
    "#                           parameters_to_search, \n",
    "#                           scoring =\"roc_auc\", \n",
    "#                           cv=5, \n",
    "#                          n_jobs = -1)\n",
    "#rf_model_CV.fit(X_train, y_train)\n",
    "#time_elapsed = time.time() - time_start\n",
    "\n"
   ]
  },
  {
   "cell_type": "code",
   "execution_count": 18,
   "id": "0d9b5824",
   "metadata": {},
   "outputs": [],
   "source": [
    "## random search\n",
    "\n",
    "from sklearn.model_selection import RandomizedSearchCV\n",
    "\n",
    "max_features = np.arange(1, 4, 1)\n",
    "min_samples_leaf = np.arange(1, 51, 2)\n",
    "max_depth = np.arange(2, 21, 2)\n",
    "\n",
    "time_start = time.time()\n",
    "parameters_to_search = {'max_features': max_features, \n",
    "              'min_samples_leaf': min_samples_leaf, \n",
    "                        'max_depth' : max_depth}\n",
    "\n",
    "rf_model = RandomForestClassifier()\n",
    "\n",
    "rf_model_RCV = RandomizedSearchCV(rf_model, \n",
    "                           parameters_to_search, \n",
    "                           n_iter = 20, #the number of combinations\n",
    "                           scoring =\"roc_auc\", \n",
    "                           cv=5, \n",
    "                          n_jobs = -1)\n",
    "\n",
    "\n",
    "rf_model_RCV.fit(X_train, y_train)\n",
    "time_elapsed = time.time() - time_start\n",
    "\n"
   ]
  },
  {
   "cell_type": "code",
   "execution_count": 19,
   "id": "6ddc110e",
   "metadata": {},
   "outputs": [
    {
     "name": "stdout",
     "output_type": "stream",
     "text": [
      "Time elapsed working CV with 20 random conbinations: 6.9630 seconds. With best ROC AUC score 0.8311\n"
     ]
    }
   ],
   "source": [
    "print(\"Time elapsed working CV with 20 random conbinations: {:.4f} seconds. With best ROC AUC score {:.4f}\".format(\n",
    "    time_elapsed, rf_model_RCV.best_score_))\n",
    "\n"
   ]
  },
  {
   "cell_type": "code",
   "execution_count": 20,
   "id": "3bb62dad",
   "metadata": {},
   "outputs": [
    {
     "data": {
      "text/html": [
       "<style>#sk-container-id-3 {color: black;background-color: white;}#sk-container-id-3 pre{padding: 0;}#sk-container-id-3 div.sk-toggleable {background-color: white;}#sk-container-id-3 label.sk-toggleable__label {cursor: pointer;display: block;width: 100%;margin-bottom: 0;padding: 0.3em;box-sizing: border-box;text-align: center;}#sk-container-id-3 label.sk-toggleable__label-arrow:before {content: \"▸\";float: left;margin-right: 0.25em;color: #696969;}#sk-container-id-3 label.sk-toggleable__label-arrow:hover:before {color: black;}#sk-container-id-3 div.sk-estimator:hover label.sk-toggleable__label-arrow:before {color: black;}#sk-container-id-3 div.sk-toggleable__content {max-height: 0;max-width: 0;overflow: hidden;text-align: left;background-color: #f0f8ff;}#sk-container-id-3 div.sk-toggleable__content pre {margin: 0.2em;color: black;border-radius: 0.25em;background-color: #f0f8ff;}#sk-container-id-3 input.sk-toggleable__control:checked~div.sk-toggleable__content {max-height: 200px;max-width: 100%;overflow: auto;}#sk-container-id-3 input.sk-toggleable__control:checked~label.sk-toggleable__label-arrow:before {content: \"▾\";}#sk-container-id-3 div.sk-estimator input.sk-toggleable__control:checked~label.sk-toggleable__label {background-color: #d4ebff;}#sk-container-id-3 div.sk-label input.sk-toggleable__control:checked~label.sk-toggleable__label {background-color: #d4ebff;}#sk-container-id-3 input.sk-hidden--visually {border: 0;clip: rect(1px 1px 1px 1px);clip: rect(1px, 1px, 1px, 1px);height: 1px;margin: -1px;overflow: hidden;padding: 0;position: absolute;width: 1px;}#sk-container-id-3 div.sk-estimator {font-family: monospace;background-color: #f0f8ff;border: 1px dotted black;border-radius: 0.25em;box-sizing: border-box;margin-bottom: 0.5em;}#sk-container-id-3 div.sk-estimator:hover {background-color: #d4ebff;}#sk-container-id-3 div.sk-parallel-item::after {content: \"\";width: 100%;border-bottom: 1px solid gray;flex-grow: 1;}#sk-container-id-3 div.sk-label:hover label.sk-toggleable__label {background-color: #d4ebff;}#sk-container-id-3 div.sk-serial::before {content: \"\";position: absolute;border-left: 1px solid gray;box-sizing: border-box;top: 0;bottom: 0;left: 50%;z-index: 0;}#sk-container-id-3 div.sk-serial {display: flex;flex-direction: column;align-items: center;background-color: white;padding-right: 0.2em;padding-left: 0.2em;position: relative;}#sk-container-id-3 div.sk-item {position: relative;z-index: 1;}#sk-container-id-3 div.sk-parallel {display: flex;align-items: stretch;justify-content: center;background-color: white;position: relative;}#sk-container-id-3 div.sk-item::before, #sk-container-id-3 div.sk-parallel-item::before {content: \"\";position: absolute;border-left: 1px solid gray;box-sizing: border-box;top: 0;bottom: 0;left: 50%;z-index: -1;}#sk-container-id-3 div.sk-parallel-item {display: flex;flex-direction: column;z-index: 1;position: relative;background-color: white;}#sk-container-id-3 div.sk-parallel-item:first-child::after {align-self: flex-end;width: 50%;}#sk-container-id-3 div.sk-parallel-item:last-child::after {align-self: flex-start;width: 50%;}#sk-container-id-3 div.sk-parallel-item:only-child::after {width: 0;}#sk-container-id-3 div.sk-dashed-wrapped {border: 1px dashed gray;margin: 0 0.4em 0.5em 0.4em;box-sizing: border-box;padding-bottom: 0.4em;background-color: white;}#sk-container-id-3 div.sk-label label {font-family: monospace;font-weight: bold;display: inline-block;line-height: 1.2em;}#sk-container-id-3 div.sk-label-container {text-align: center;}#sk-container-id-3 div.sk-container {/* jupyter's `normalize.less` sets `[hidden] { display: none; }` but bootstrap.min.css set `[hidden] { display: none !important; }` so we also need the `!important` here to be able to override the default hidden behavior on the sphinx rendered scikit-learn.org. See: https://github.com/scikit-learn/scikit-learn/issues/21755 */display: inline-block !important;position: relative;}#sk-container-id-3 div.sk-text-repr-fallback {display: none;}</style><div id=\"sk-container-id-3\" class=\"sk-top-container\"><div class=\"sk-text-repr-fallback\"><pre>RandomForestClassifier(max_depth=14, max_features=3, min_samples_leaf=25)</pre><b>In a Jupyter environment, please rerun this cell to show the HTML representation or trust the notebook. <br />On GitHub, the HTML representation is unable to render, please try loading this page with nbviewer.org.</b></div><div class=\"sk-container\" hidden><div class=\"sk-item\"><div class=\"sk-estimator sk-toggleable\"><input class=\"sk-toggleable__control sk-hidden--visually\" id=\"sk-estimator-id-3\" type=\"checkbox\" checked><label for=\"sk-estimator-id-3\" class=\"sk-toggleable__label sk-toggleable__label-arrow\">RandomForestClassifier</label><div class=\"sk-toggleable__content\"><pre>RandomForestClassifier(max_depth=14, max_features=3, min_samples_leaf=25)</pre></div></div></div></div></div>"
      ],
      "text/plain": [
       "RandomForestClassifier(max_depth=14, max_features=3, min_samples_leaf=25)"
      ]
     },
     "execution_count": 20,
     "metadata": {},
     "output_type": "execute_result"
    }
   ],
   "source": [
    "rf_model_CV.best_estimator_\n",
    "\n",
    "##"
   ]
  },
  {
   "cell_type": "markdown",
   "id": "a5a14117",
   "metadata": {},
   "source": [
    "## 3-3 Boosting models\n",
    "### 3-3-1 GBDT"
   ]
  },
  {
   "cell_type": "code",
   "execution_count": 21,
   "id": "personal-works",
   "metadata": {},
   "outputs": [
    {
     "name": "stdout",
     "output_type": "stream",
     "text": [
      "With the no-feature-engineering data (missing value only):\n",
      "Accuracy on training data = 0.7722\n",
      "ROC AUC score on training data = 0.8528\n",
      "Accuracy on testing data = 0.7393\n",
      "ROC AUC score on testing data = 0.8285\n"
     ]
    }
   ],
   "source": [
    "## GBDT, vanilla\n",
    "## https://scikit-learn.org/stable/modules/generated/sklearn.ensemble.GradientBoostingRegressor.html\n",
    "\n",
    "from sklearn.ensemble import GradientBoostingClassifier\n",
    "\n",
    "gb_model = GradientBoostingClassifier()\n",
    "\n",
    "print(\"With the no-feature-engineering data (missing value only):\")\n",
    "gb_model.fit(X_train, y_train)\n",
    "\n",
    "print(\"Accuracy on training data = {:.4f}\".format(gb_model.score(X_train, \n",
    "                                                                 y_train)))\n",
    "print(\"ROC AUC score on training data = {:.4f}\".format(roc_auc_score(y_train, \n",
    "                                                                     gb_model.predict_proba(X_train)[:,1])))\n",
    "\n",
    "\n",
    "print(\"Accuracy on testing data = {:.4f}\".format(gb_model.score(X_test, \n",
    "                                                                 y_test)))\n",
    "print(\"ROC AUC score on testing data = {:.4f}\".format(roc_auc_score(y_test, \n",
    "                                                                     gb_model.predict_proba(X_test)[:,1])))"
   ]
  },
  {
   "cell_type": "code",
   "execution_count": 22,
   "id": "0bc9d65b",
   "metadata": {},
   "outputs": [
    {
     "data": {
      "text/plain": [
       "100"
      ]
     },
     "execution_count": 22,
     "metadata": {},
     "output_type": "execute_result"
    }
   ],
   "source": [
    "## the default number of trees is 100\n",
    "## however, it might not be optimal\n",
    "gb_model.n_estimators_\n"
   ]
  },
  {
   "cell_type": "code",
   "execution_count": 23,
   "id": "4c2a21e7",
   "metadata": {},
   "outputs": [
    {
     "name": "stdout",
     "output_type": "stream",
     "text": [
      "With the no-feature-engineering data (missing value only):\n",
      "      Iter       Train Loss      OOB Improve   Remaining Time \n",
      "         1           1.3049           0.0607            3.08s\n",
      "         2           1.2474           0.0513            2.91s\n",
      "         3           1.1957           0.0421            2.68s\n",
      "         4           1.1538           0.0367            2.63s\n",
      "         5           1.1022           0.0281            2.74s\n",
      "         6           1.0754           0.0248            2.71s\n",
      "         7           1.0434           0.0184            2.85s\n",
      "         8           1.0153           0.0144            2.85s\n",
      "         9           0.9964           0.0118            2.85s\n",
      "        10           0.9752           0.0135            2.89s\n",
      "        20           0.8445          -0.0008            2.53s\n",
      "        30           0.7795          -0.0010            2.32s\n",
      "        40           0.7471          -0.0017            2.07s\n",
      "        50           0.7173          -0.0023            1.89s\n",
      "Accuracy on training data = 0.8435\n",
      "ROC AUC score on training data = 0.9268\n",
      "Accuracy on testing data = 0.7412\n",
      "ROC AUC score on testing data = 0.8292\n"
     ]
    }
   ],
   "source": [
    "## almost the same hyperparameter manner with Random forest\n",
    "\n",
    "gb_model = GradientBoostingClassifier(\n",
    "    ## number of trees, NOT the more the better\n",
    "    n_estimators = 300, \n",
    "    \n",
    "    ## these two controls the size of a tree = prune\n",
    "    max_depth = 10, \n",
    "    min_samples_leaf = 5, \n",
    "    \n",
    "    ## how many features can a decision tree use?\n",
    "    max_features = \"sqrt\",\n",
    "    \n",
    "    ## by default gbdt dont do bootstrap sampling\n",
    "    ## subsample less than 1.0 enables sampling\n",
    "    subsample = 0.7,\n",
    "    \n",
    "    ## with enabling subsample, gbdt can also have oob (not score though)\n",
    "    ## since gbdt \"improves\" tree by tree\n",
    "    ## if there is no significant improvement, the whole model can stop before all trees generated\n",
    "    n_iter_no_change = 10,\n",
    "    ## leaning rate\n",
    "    learning_rate = 0.1, \n",
    "    \n",
    "    ## showing messeges\n",
    "    verbose = 1,\n",
    "    random_state = randomState\n",
    ")\n",
    "\n",
    "print(\"With the no-feature-engineering data (missing value only):\")\n",
    "gb_model.fit(X_train, y_train)\n",
    "\n",
    "print(\"Accuracy on training data = {:.4f}\".format(gb_model.score(X_train, \n",
    "                                                                 y_train)))\n",
    "print(\"ROC AUC score on training data = {:.4f}\".format(roc_auc_score(y_train, \n",
    "                                                                     gb_model.predict_proba(X_train)[:,1])))\n",
    "\n",
    "\n",
    "print(\"Accuracy on testing data = {:.4f}\".format(gb_model.score(X_test, \n",
    "                                                                 y_test)))\n",
    "print(\"ROC AUC score on testing data = {:.4f}\".format(roc_auc_score(y_test, \n",
    "                                                                     gb_model.predict_proba(X_test)[:,1])))\n",
    "\n"
   ]
  },
  {
   "cell_type": "code",
   "execution_count": 24,
   "id": "varied-requirement",
   "metadata": {},
   "outputs": [
    {
     "data": {
      "text/plain": [
       "52"
      ]
     },
     "execution_count": 24,
     "metadata": {},
     "output_type": "execute_result"
    }
   ],
   "source": [
    "## I've previously specified 300 trees for this model\n",
    "## However, it stop with 52 trees\n",
    "## Since scikit learn finds that there is no further improvement with more than 52 trees\n",
    "\n",
    "gb_model.n_estimators_\n",
    "\n",
    "##"
   ]
  },
  {
   "cell_type": "markdown",
   "id": "c3bbdc46",
   "metadata": {},
   "source": [
    "### 3-3-2 XGboost"
   ]
  },
  {
   "cell_type": "code",
   "execution_count": 25,
   "id": "f3dbf5fb",
   "metadata": {},
   "outputs": [
    {
     "name": "stdout",
     "output_type": "stream",
     "text": [
      "Accuracy on training data = 0.8585\n",
      "ROC AUC score on training data = 0.9355\n",
      "Accuracy on testing data = 0.7386\n",
      "ROC AUC score on testing data = 0.8206\n"
     ]
    }
   ],
   "source": [
    "## XGBOOSt is not a scikit-learn model\n",
    "## the orginal grammar might be slightly different\n",
    "## https://xgboost.readthedocs.io/en/latest/index.html\n",
    "## however, there is a sklearn interface for us the adapt the model easily\n",
    "## https://xgboost.readthedocs.io/en/latest/python/sklearn_estimator.html\n",
    "\n",
    "import xgboost as xgb\n",
    "\n",
    "xgb_model = xgb.XGBClassifier(tree_method=\"hist\", \n",
    "                              objective='binary:logistic')\n",
    "xgb_model.fit(X_train, y_train)\n",
    "\n",
    "\n",
    "print(\"Accuracy on training data = {:.4f}\".format(xgb_model.score(X_train, \n",
    "                                                                 y_train)))\n",
    "print(\"ROC AUC score on training data = {:.4f}\".format(roc_auc_score(y_train, \n",
    "                                                                     xgb_model.predict_proba(X_train)[:,1])))\n",
    "\n",
    "\n",
    "print(\"Accuracy on testing data = {:.4f}\".format(xgb_model.score(X_test, \n",
    "                                                                 y_test)))\n",
    "print(\"ROC AUC score on testing data = {:.4f}\".format(roc_auc_score(y_test, \n",
    "                                                                     xgb_model.predict_proba(X_test)[:,1])))\n"
   ]
  },
  {
   "cell_type": "code",
   "execution_count": 26,
   "id": "0e97b057",
   "metadata": {},
   "outputs": [
    {
     "name": "stdout",
     "output_type": "stream",
     "text": [
      "Accuracy on training data = 0.8278\n",
      "ROC AUC score on training data = 0.9153\n",
      "Accuracy on testing data = 0.7345\n",
      "ROC AUC score on testing data = 0.8237\n"
     ]
    }
   ],
   "source": [
    "## hyperparameters of XGBOOST\n",
    "## https://xgboost.readthedocs.io/en/latest/python/python_api.html#xgboost.XGBClassifier\n",
    "\n",
    "xgb_model = xgb.XGBClassifier(\n",
    "    ## it's a binary classification model\n",
    "    objective = \"binary:logistic\", \n",
    "    eval_metric = \"error\", \n",
    "    \n",
    "    ## the way grow a tree\n",
    "    tree_method = \"hist\", \n",
    "    grow_policy = \"depthwise\", # default: \"depthwise\", a more balanced tree. \"lossguide\" for unbalanced\n",
    "    \n",
    "    ## number of trees, NOT the more the better\n",
    "    n_estimators = 300, \n",
    "    \n",
    "    ## these two controls the size of a tree = prune\n",
    "    max_depth = 10, # same as GBDT \n",
    "    reg_lambda = 1, # the larger the smaller tree\n",
    "    min_child_weight = 10, # just like \"min_samples_leaf\"\n",
    "    \n",
    "    ## subsample less than 1.0 enables sampling\n",
    "    subsample = 1,\n",
    "    \n",
    "    #early_stopping_rounds = 10, ## n_iter_no_change\n",
    "    \n",
    "    ## leaning rate\n",
    "    learning_rate = 0.1,\n",
    "    \n",
    "    ## showing messeges\n",
    "    verbosity = 1, ## verbose \n",
    "    )\n",
    "\n",
    "\n",
    "\n",
    "xgb_model.fit(X_train, y_train)\n",
    "\n",
    "\n",
    "print(\"Accuracy on training data = {:.4f}\".format(xgb_model.score(X_train, \n",
    "                                                                 y_train)))\n",
    "print(\"ROC AUC score on training data = {:.4f}\".format(roc_auc_score(y_train, \n",
    "                                                                     xgb_model.predict_proba(X_train)[:,1])))\n",
    "\n",
    "\n",
    "print(\"Accuracy on testing data = {:.4f}\".format(xgb_model.score(X_test, \n",
    "                                                                 y_test)))\n",
    "print(\"ROC AUC score on testing data = {:.4f}\".format(roc_auc_score(y_test, \n",
    "                                                                     xgb_model.predict_proba(X_test)[:,1])))\n",
    "\n"
   ]
  },
  {
   "cell_type": "code",
   "execution_count": null,
   "id": "cda8009e",
   "metadata": {},
   "outputs": [],
   "source": [
    "## the early stopping in GBDT is based on subsample < 1 (oob score)\n",
    "## however, in the XGBOOST, it's based on test set\n",
    "## if you want to work in GBDT manner, you have to split the cv set by yourself\n",
    "## https://xgboost.readthedocs.io/en/latest/python/sklearn_estimator.html#early-stopping\n",
    "\n",
    "## If you want to work with xgboost more:\n",
    "## https://www.kaggle.com/code/stuarthallows/using-xgboost-with-scikit-learn\n",
    "## https://towardsdatascience.com/20-burning-xgboost-faqs-answered-to-use-the-library-like-a-pro-f8013b8df3e4\n"
   ]
  },
  {
   "cell_type": "markdown",
   "id": "0d025558",
   "metadata": {},
   "source": [
    "### 3-3-3 lightGBM\n",
    "https://lightgbm.readthedocs.io/en/latest/pythonapi/lightgbm.LGBMClassifier.html#"
   ]
  },
  {
   "cell_type": "code",
   "execution_count": null,
   "id": "c32b06cf",
   "metadata": {},
   "outputs": [],
   "source": [
    "## Target encoding\n",
    "\n",
    "\n",
    "\n",
    "\n"
   ]
  },
  {
   "cell_type": "code",
   "execution_count": null,
   "id": "271a2fc4",
   "metadata": {},
   "outputs": [],
   "source": []
  },
  {
   "cell_type": "markdown",
   "id": "saving-prefix",
   "metadata": {},
   "source": [
    "## 3-4 Learn from models"
   ]
  }
 ],
 "metadata": {
  "kernelspec": {
   "display_name": "Python 3 (ipykernel)",
   "language": "python",
   "name": "python3"
  },
  "language_info": {
   "codemirror_mode": {
    "name": "ipython",
    "version": 3
   },
   "file_extension": ".py",
   "mimetype": "text/x-python",
   "name": "python",
   "nbconvert_exporter": "python",
   "pygments_lexer": "ipython3",
   "version": "3.9.16"
  }
 },
 "nbformat": 4,
 "nbformat_minor": 5
}
